{
 "cells": [
  {
   "cell_type": "code",
   "execution_count": 18,
   "id": "575dbe3f",
   "metadata": {},
   "outputs": [
    {
     "name": "stdout",
     "output_type": "stream",
     "text": [
      "1\n",
      "3\n",
      "5\n",
      "7\n",
      "9\n"
     ]
    }
   ],
   "source": [
    "for number in range(1, 10):\n",
    "    if(number % 2 != 0):\n",
    "        print(number)"
   ]
  },
  {
   "cell_type": "code",
   "execution_count": 24,
   "id": "d7fd2e8f",
   "metadata": {},
   "outputs": [
    {
     "data": {
      "text/plain": [
       "3"
      ]
     },
     "execution_count": 24,
     "metadata": {},
     "output_type": "execute_result"
    }
   ],
   "source": [
    "150%7"
   ]
  },
  {
   "cell_type": "code",
   "execution_count": 26,
   "id": "986bf766",
   "metadata": {},
   "outputs": [
    {
     "name": "stdout",
     "output_type": "stream",
     "text": [
      "1\n",
      "2\n"
     ]
    }
   ],
   "source": [
    "i = 1\n",
    "while True:\n",
    "    if i%3 == 0:\n",
    "        break\n",
    "    print(i)\n",
    "    i+=1"
   ]
  },
  {
   "cell_type": "code",
   "execution_count": 33,
   "id": "332a80fd",
   "metadata": {},
   "outputs": [
    {
     "data": {
      "text/plain": [
       "4"
      ]
     },
     "execution_count": 33,
     "metadata": {},
     "output_type": "execute_result"
    }
   ],
   "source": [
    "x=1\n",
    "x<<2"
   ]
  },
  {
   "cell_type": "code",
   "execution_count": 34,
   "id": "a23cd08b",
   "metadata": {},
   "outputs": [
    {
     "data": {
      "text/plain": [
       "0"
      ]
     },
     "execution_count": 34,
     "metadata": {},
     "output_type": "execute_result"
    }
   ],
   "source": [
    "x=1\n",
    "x>>2"
   ]
  },
  {
   "cell_type": "code",
   "execution_count": null,
   "id": "a938c824",
   "metadata": {},
   "outputs": [],
   "source": [
    "2**(3**2)\n",
    "(2**3)**2\n",
    "2**3**2"
   ]
  },
  {
   "cell_type": "code",
   "execution_count": 35,
   "id": "39d3eeb7",
   "metadata": {},
   "outputs": [
    {
     "data": {
      "text/plain": [
       "512"
      ]
     },
     "execution_count": 35,
     "metadata": {},
     "output_type": "execute_result"
    }
   ],
   "source": [
    "2**9"
   ]
  },
  {
   "cell_type": "code",
   "execution_count": 38,
   "id": "9dae61e2",
   "metadata": {},
   "outputs": [
    {
     "data": {
      "text/plain": [
       "64"
      ]
     },
     "execution_count": 38,
     "metadata": {},
     "output_type": "execute_result"
    }
   ],
   "source": [
    "8**2"
   ]
  },
  {
   "cell_type": "code",
   "execution_count": 39,
   "id": "51214227",
   "metadata": {},
   "outputs": [
    {
     "data": {
      "text/plain": [
       "512"
      ]
     },
     "execution_count": 39,
     "metadata": {},
     "output_type": "execute_result"
    }
   ],
   "source": [
    "2**3**2"
   ]
  },
  {
   "cell_type": "code",
   "execution_count": 40,
   "id": "3e79418e",
   "metadata": {},
   "outputs": [
    {
     "name": "stdout",
     "output_type": "stream",
     "text": [
      "7\n"
     ]
    }
   ],
   "source": [
    "x = 15\n",
    "y = 2\n",
    "\n",
    "print(x // y)"
   ]
  },
  {
   "cell_type": "code",
   "execution_count": 41,
   "id": "a1b3eda1",
   "metadata": {},
   "outputs": [
    {
     "name": "stdout",
     "output_type": "stream",
     "text": [
      "Regular division\n",
      "1.0 \tis a float.\n",
      "\n",
      "Floor division\n",
      "3 \tis an int.\n",
      "3.0 \tis a float.\n"
     ]
    }
   ],
   "source": [
    "print(\"Regular division\")\n",
    "print(2 / 2, \"\\tis a float.\")\n",
    "\n",
    "print(\"\\nFloor division\")\n",
    "print(15 // 4, \"\\tis an int.\")\n",
    "print(15.0 // 4, \"\\tis a float.\")"
   ]
  },
  {
   "cell_type": "code",
   "execution_count": 42,
   "id": "032ea7f9",
   "metadata": {},
   "outputs": [
    {
     "data": {
      "text/plain": [
       "3.5"
      ]
     },
     "execution_count": 42,
     "metadata": {},
     "output_type": "execute_result"
    }
   ],
   "source": [
    "7/2"
   ]
  },
  {
   "cell_type": "code",
   "execution_count": 43,
   "id": "16255b1b",
   "metadata": {},
   "outputs": [
    {
     "data": {
      "text/plain": [
       "3"
      ]
     },
     "execution_count": 43,
     "metadata": {},
     "output_type": "execute_result"
    }
   ],
   "source": [
    "7//2"
   ]
  },
  {
   "cell_type": "code",
   "execution_count": 44,
   "id": "b9855198",
   "metadata": {},
   "outputs": [
    {
     "name": "stdout",
     "output_type": "stream",
     "text": [
      "3.75\n",
      "3\n",
      "-4\n"
     ]
    }
   ],
   "source": [
    "print(15 / 4)\n",
    "print(15 // 4)\n",
    "print(-15 // 4)"
   ]
  },
  {
   "cell_type": "code",
   "execution_count": 45,
   "id": "794b1543",
   "metadata": {},
   "outputs": [
    {
     "data": {
      "text/plain": [
       "3"
      ]
     },
     "execution_count": 45,
     "metadata": {},
     "output_type": "execute_result"
    }
   ],
   "source": [
    "15//4"
   ]
  },
  {
   "cell_type": "code",
   "execution_count": 46,
   "id": "f71f54d4",
   "metadata": {},
   "outputs": [
    {
     "data": {
      "text/plain": [
       "[1, 2, 'hello']"
      ]
     },
     "execution_count": 46,
     "metadata": {},
     "output_type": "execute_result"
    }
   ],
   "source": [
    "l=[1, 0, 2, 0, 'hello', '', []]\n",
    "list(filter(bool, l))"
   ]
  },
  {
   "cell_type": "code",
   "execution_count": 48,
   "id": "7f164b89",
   "metadata": {},
   "outputs": [],
   "source": [
    "def f(x):\n",
    "    def f1(*args, **kwargs):\n",
    "        print(\"Sanfoundry\")\n",
    "        return x(*args, **kwargs)\n",
    "    return f1"
   ]
  },
  {
   "cell_type": "code",
   "execution_count": 49,
   "id": "3d6b2fd9",
   "metadata": {},
   "outputs": [
    {
     "data": {
      "text/plain": [
       "False"
      ]
     },
     "execution_count": 49,
     "metadata": {},
     "output_type": "execute_result"
    }
   ],
   "source": [
    "min(max(False,-3,-4), 2,7)"
   ]
  },
  {
   "cell_type": "code",
   "execution_count": 50,
   "id": "b5197f10",
   "metadata": {},
   "outputs": [
    {
     "name": "stdout",
     "output_type": "stream",
     "text": [
      "56.24\n"
     ]
    }
   ],
   "source": [
    "x=56.236\n",
    "print(\"%.2f\"%x)"
   ]
  },
  {
   "cell_type": "code",
   "execution_count": 51,
   "id": "6f9cb153",
   "metadata": {},
   "outputs": [
    {
     "ename": "NameError",
     "evalue": "name 'total' is not defined",
     "output_type": "error",
     "traceback": [
      "\u001b[1;31m---------------------------------------------------------------------------\u001b[0m",
      "\u001b[1;31mNameError\u001b[0m                                 Traceback (most recent call last)",
      "\u001b[1;32m~\\AppData\\Local\\Temp/ipykernel_6116/2092840249.py\u001b[0m in \u001b[0;36m<module>\u001b[1;34m\u001b[0m\n\u001b[0;32m      1\u001b[0m \u001b[1;34m\"%.2f\"\u001b[0m\u001b[1;33m\u001b[0m\u001b[1;33m\u001b[0m\u001b[0m\n\u001b[1;32m----> 2\u001b[1;33m \u001b[0mprint\u001b[0m\u001b[1;33m(\u001b[0m\u001b[1;34m\"%.2f\"\u001b[0m \u001b[1;33m%\u001b[0m \u001b[0mtotal\u001b[0m\u001b[1;33m)\u001b[0m\u001b[1;33m\u001b[0m\u001b[1;33m\u001b[0m\u001b[0m\n\u001b[0m",
      "\u001b[1;31mNameError\u001b[0m: name 'total' is not defined"
     ]
    }
   ],
   "source": [
    "\"%.2f\"\n",
    "print(\"%.2f\" % total)"
   ]
  },
  {
   "cell_type": "code",
   "execution_count": 55,
   "id": "3a7f25f5",
   "metadata": {},
   "outputs": [
    {
     "name": "stderr",
     "output_type": "stream",
     "text": [
      "UsageError: Line magic function `%10.2f` not found.\n"
     ]
    }
   ],
   "source": [
    "%10.2f"
   ]
  },
  {
   "cell_type": "code",
   "execution_count": 56,
   "id": "b4333b6e",
   "metadata": {},
   "outputs": [
    {
     "name": "stdout",
     "output_type": "stream",
     "text": [
      "A\n",
      "B\n",
      "C\n",
      "D\n"
     ]
    }
   ],
   "source": [
    "x = 'abcd'\n",
    "for i in x:\n",
    "    print(i.upper())"
   ]
  },
  {
   "cell_type": "code",
   "execution_count": 57,
   "id": "030502ae",
   "metadata": {},
   "outputs": [
    {
     "name": "stdout",
     "output_type": "stream",
     "text": [
      "4\n",
      "3\n",
      "2\n",
      "1\n"
     ]
    }
   ],
   "source": [
    "for i in [1, 2, 3, 4][::-1]:\n",
    "    print (i)"
   ]
  },
  {
   "cell_type": "code",
   "execution_count": 61,
   "id": "634e23f5",
   "metadata": {},
   "outputs": [
    {
     "data": {
      "text/plain": [
       "'abc'"
      ]
     },
     "execution_count": 61,
     "metadata": {},
     "output_type": "execute_result"
    }
   ],
   "source": [
    "\"a\"+\"bc\""
   ]
  },
  {
   "cell_type": "code",
   "execution_count": 60,
   "id": "25797103",
   "metadata": {},
   "outputs": [
    {
     "ename": "NameError",
     "evalue": "name 'foo' is not defined",
     "output_type": "error",
     "traceback": [
      "\u001b[1;31m---------------------------------------------------------------------------\u001b[0m",
      "\u001b[1;31mNameError\u001b[0m                                 Traceback (most recent call last)",
      "\u001b[1;32m~\\AppData\\Local\\Temp/ipykernel_6116/3252966728.py\u001b[0m in \u001b[0;36m<module>\u001b[1;34m\u001b[0m\n\u001b[1;32m----> 1\u001b[1;33m \u001b[0mf\u001b[0m \u001b[1;33m=\u001b[0m \u001b[0mfoo\u001b[0m\u001b[1;33m(\u001b[0m\u001b[1;33m)\u001b[0m\u001b[1;33m\u001b[0m\u001b[1;33m\u001b[0m\u001b[0m\n\u001b[0m\u001b[0;32m      2\u001b[0m \u001b[0mformat\u001b[0m\u001b[1;33m(\u001b[0m\u001b[0mf\u001b[0m\u001b[1;33m)\u001b[0m\u001b[1;33m\u001b[0m\u001b[1;33m\u001b[0m\u001b[0m\n",
      "\u001b[1;31mNameError\u001b[0m: name 'foo' is not defined"
     ]
    }
   ],
   "source": [
    "f = foo()\n",
    "format(f)"
   ]
  },
  {
   "cell_type": "code",
   "execution_count": 64,
   "id": "d2f2e962",
   "metadata": {},
   "outputs": [
    {
     "name": "stdout",
     "output_type": "stream",
     "text": [
      "12\n"
     ]
    }
   ],
   "source": [
    "class tester:\n",
    "    def __init__(self, id):\n",
    "        self.id = str(id)\n",
    "        id=\"224\"\n",
    " \n",
    "temp = tester(12)\n",
    "print(temp.id)"
   ]
  },
  {
   "cell_type": "code",
   "execution_count": 65,
   "id": "50e7a83b",
   "metadata": {},
   "outputs": [
    {
     "name": "stdout",
     "output_type": "stream",
     "text": [
      "True\n"
     ]
    }
   ],
   "source": [
    "def foo(x):\n",
    "    x[0] = ['def']\n",
    "    x[1] = ['abc']\n",
    "    return id(x)\n",
    "q = ['abc', 'def']\n",
    "print(id(q) == foo(q))"
   ]
  },
  {
   "cell_type": "code",
   "execution_count": 70,
   "id": "b7aa6454",
   "metadata": {},
   "outputs": [
    {
     "data": {
      "text/plain": [
       "{'a', 'b', 'c', 'p', 'q', 'san'}"
      ]
     },
     "execution_count": 70,
     "metadata": {},
     "output_type": "execute_result"
    }
   ],
   "source": [
    "z=set('abc')\n",
    "z.add('san')\n",
    "z.update(set(['p', 'q']))\n",
    "z"
   ]
  },
  {
   "cell_type": "code",
   "execution_count": 71,
   "id": "81ec6680",
   "metadata": {},
   "outputs": [
    {
     "name": "stdout",
     "output_type": "stream",
     "text": [
      "Abc. def\n"
     ]
    }
   ],
   "source": [
    "print(\"abc. DEF\".capitalize())"
   ]
  },
  {
   "cell_type": "code",
   "execution_count": 73,
   "id": "9ecf5c94",
   "metadata": {},
   "outputs": [
    {
     "data": {
      "text/plain": [
       "'C:\\\\Users\\\\dell'"
      ]
     },
     "execution_count": 73,
     "metadata": {},
     "output_type": "execute_result"
    }
   ],
   "source": [
    "pwd"
   ]
  },
  {
   "cell_type": "code",
   "execution_count": 2,
   "id": "08eb3732",
   "metadata": {},
   "outputs": [],
   "source": [
    "list1 = [1,2,3,4]\n",
    "list2 = [2,4,5,6]\n",
    "list3 = [2,6,7,8]\n",
    "result = list()\n",
    "result.extend(i for i in list1 if i not in (list2+list3) and i not in result)\n",
    "result.extend(i for i in list2 if i not in (list1+list3) and i not in result)\n",
    "result.extend(i for i in list3 if i not in (list1+list2) and i not in result)"
   ]
  },
  {
   "cell_type": "code",
   "execution_count": 3,
   "id": "4bbb18be",
   "metadata": {},
   "outputs": [
    {
     "name": "stdout",
     "output_type": "stream",
     "text": [
      "Hello\n",
      "Welcome\n",
      "to\n",
      "GeeksforGeeks\n"
     ]
    }
   ],
   "source": [
    "def myFun(*argv):\n",
    "    for arg in argv:\n",
    "        print(arg)\n",
    "\n",
    "\n",
    "myFun('Hello', 'Welcome', 'to', 'GeeksforGeeks')\n"
   ]
  },
  {
   "cell_type": "code",
   "execution_count": 4,
   "id": "43408611",
   "metadata": {},
   "outputs": [
    {
     "name": "stdout",
     "output_type": "stream",
     "text": [
      "First argument : Hello\n",
      "Next argument through *argv : Welcome\n",
      "Next argument through *argv : to\n",
      "Next argument through *argv : GeeksforGeeks\n"
     ]
    }
   ],
   "source": [
    "def myFun(arg1, *argv):\n",
    "    print(\"First argument :\", arg1)\n",
    "    for arg in argv:\n",
    "        print(\"Next argument through *argv :\", arg)\n",
    "\n",
    "\n",
    "myFun('Hello', 'Welcome', 'to', 'GeeksforGeeks')\n"
   ]
  },
  {
   "cell_type": "code",
   "execution_count": 8,
   "id": "01f721e3",
   "metadata": {},
   "outputs": [
    {
     "name": "stdout",
     "output_type": "stream",
     "text": [
      "my first argu:  hello\n",
      "next arguments:  hi\n",
      "next arguments:  welcome\n",
      "next arguments:  dear\n"
     ]
    }
   ],
   "source": [
    "def my_fun1(arg1,*argv):\n",
    "    print(\"my first argu: \",arg1)\n",
    "    for arg in argv:\n",
    "        print(\"next arguments: \",arg)\n",
    "        \n",
    "my_fun1('hello',\"hi\",'welcome','dear')        "
   ]
  },
  {
   "cell_type": "code",
   "execution_count": 14,
   "id": "18ab5436",
   "metadata": {},
   "outputs": [
    {
     "name": "stdout",
     "output_type": "stream",
     "text": [
      "first==Geeks\n",
      "mid==for\n",
      "last==Geeks\n"
     ]
    }
   ],
   "source": [
    "def myFun(**kwargs):\n",
    "    for key, value in kwargs.items():\n",
    "        print(\"%s==%s\"%(key, value))\n",
    "\n",
    "\n",
    "# Driver code\n",
    "myFun(first='Geeks', mid='for', last='Geeks')\n"
   ]
  },
  {
   "cell_type": "code",
   "execution_count": 15,
   "id": "03e1053d",
   "metadata": {},
   "outputs": [
    {
     "name": "stdout",
     "output_type": "stream",
     "text": [
      "args:  ('geeks', 'for', 'geeks')\n",
      "kwargs:  {'first': 'Geeks', 'mid': 'for', 'last': 'Geeks'}\n"
     ]
    }
   ],
   "source": [
    "def myFun(*args, **kwargs):\n",
    "\tprint(\"args: \", args)\n",
    "\tprint(\"kwargs: \", kwargs)\n",
    "\n",
    "\n",
    "# Now we can use both *args ,**kwargs\n",
    "# to pass arguments to this function :\n",
    "myFun('geeks', 'for', 'geeks', first=\"Geeks\", mid=\"for\", last=\"Geeks\")\n"
   ]
  },
  {
   "cell_type": "code",
   "execution_count": 16,
   "id": "0fc3a03d",
   "metadata": {},
   "outputs": [
    {
     "name": "stdout",
     "output_type": "stream",
     "text": [
      "arg1: Geeks\n",
      "arg2: for\n",
      "arg3: Geeks\n",
      "arg1: Geeks\n",
      "arg2: for\n",
      "arg3: Geeks\n"
     ]
    }
   ],
   "source": [
    "def myFun(arg1, arg2, arg3):\n",
    "\tprint(\"arg1:\", arg1)\n",
    "\tprint(\"arg2:\", arg2)\n",
    "\tprint(\"arg3:\", arg3)\n",
    "\n",
    "\n",
    "# Now we can use *args or **kwargs to\n",
    "# pass arguments to this function :\n",
    "args = (\"Geeks\", \"for\", \"Geeks\")\n",
    "myFun(*args)\n",
    "\n",
    "kwargs = {\"arg1\": \"Geeks\", \"arg2\": \"for\", \"arg3\": \"Geeks\"}\n",
    "myFun(**kwargs)\n"
   ]
  },
  {
   "cell_type": "code",
   "execution_count": 17,
   "id": "c713772f",
   "metadata": {},
   "outputs": [
    {
     "name": "stdout",
     "output_type": "stream",
     "text": [
      "1\n",
      "2\n",
      "3\n"
     ]
    }
   ],
   "source": [
    "# A Simple Python program to demonstrate working\n",
    "# of yield\n",
    "\n",
    "# A generator function that yields 1 for the first time,\n",
    "# 2 second time and 3 third time\n",
    "def simpleGeneratorFun():\n",
    "\tyield 1\n",
    "\tyield 2\n",
    "\tyield 3\n",
    "\n",
    "# Driver code to check above generator function\n",
    "for value in simpleGeneratorFun():\n",
    "\tprint(value)\n"
   ]
  },
  {
   "cell_type": "code",
   "execution_count": 20,
   "id": "32843803",
   "metadata": {},
   "outputs": [
    {
     "name": "stdout",
     "output_type": "stream",
     "text": [
      "1\n",
      "4\n",
      "9\n",
      "16\n",
      "25\n",
      "36\n",
      "49\n",
      "64\n",
      "81\n",
      "100\n"
     ]
    }
   ],
   "source": [
    "# A Python program to generate squares from 1\n",
    "# to 100 using yield and therefore generator\n",
    "\n",
    "# An infinite generator function that prints\n",
    "# next square number. It starts with 1\n",
    "def nextSquare():\n",
    "\ti = 1\n",
    "\n",
    "\t# An Infinite loop to generate squares\n",
    "\twhile True:\n",
    "\t\tyield i*i\t\t\t\t\n",
    "\t\ti += 1 # Next execution resumes\n",
    "\t\t\t\t# from this point\t\n",
    "\n",
    "# Driver code to test above generator\n",
    "# function\n",
    "for num in nextSquare():\n",
    "\tif num > 100:\n",
    "\t\tbreak\t\n",
    "\tprint(num)"
   ]
  },
  {
   "cell_type": "code",
   "execution_count": 21,
   "id": "9f44db60",
   "metadata": {},
   "outputs": [
    {
     "name": "stdout",
     "output_type": "stream",
     "text": [
      "Hello foo and bin\n"
     ]
    }
   ],
   "source": [
    "print(\"Hello {0[0]} and {0[1]}\".format(('foo', 'bin')))"
   ]
  },
  {
   "cell_type": "code",
   "execution_count": 22,
   "id": "9cbc02bb",
   "metadata": {},
   "outputs": [
    {
     "name": "stdout",
     "output_type": "stream",
     "text": [
      "('[0] [1]',)\n"
     ]
    }
   ],
   "source": [
    "x = [[0], [1]]\n",
    "print((' '.join(list(map(str, x))),))"
   ]
  },
  {
   "cell_type": "code",
   "execution_count": null,
   "id": "8e5d1ca1",
   "metadata": {},
   "outputs": [],
   "source": []
  },
  {
   "cell_type": "code",
   "execution_count": 25,
   "id": "3138297e",
   "metadata": {},
   "outputs": [
    {
     "name": "stdout",
     "output_type": "stream",
     "text": [
      "numbers before swapping:  10 20\n",
      "numbers after swapping:  20 10\n"
     ]
    }
   ],
   "source": [
    "#swapping two numbers\n",
    "num1=10\n",
    "num2=20\n",
    "print(\"numbers before swapping: \",num1,num2)\n",
    "\n",
    "temp=num1\n",
    "num1=num2\n",
    "num2=temp\n",
    "\n",
    "#also  num1,num2=num2,num1\n",
    "\n",
    "\n",
    "print(\"numbers after swapping: \",num1,num2)"
   ]
  },
  {
   "cell_type": "code",
   "execution_count": 27,
   "id": "4c99a2b5",
   "metadata": {},
   "outputs": [
    {
     "name": "stdout",
     "output_type": "stream",
     "text": [
      "number is prime\n"
     ]
    }
   ],
   "source": [
    "#to check number is prime or not\n",
    "#factors is 1 and number itself only\n",
    "#number should be greater than 1 and should be get divide by itself only\n",
    "#3,5,19,11,7,17,23, etc\n",
    "\n",
    "num=19\n",
    "count=0\n",
    "\n",
    "if (num>1):\n",
    "    for i in range (1,num+1):\n",
    "        if(num%i)==0:\n",
    "            count=count+1\n",
    "    \n",
    "    if count==2:\n",
    "        print(\"number is prime\")\n",
    "    else:\n",
    "        print(\"number is not primr\")\n"
   ]
  },
  {
   "cell_type": "code",
   "execution_count": 48,
   "id": "f8630286",
   "metadata": {},
   "outputs": [
    {
     "name": "stdout",
     "output_type": "stream",
     "text": [
      "factorial of number:  5 is 120\n"
     ]
    }
   ],
   "source": [
    "#factorial of number \n",
    "\n",
    "factorial=1\n",
    "number=5\n",
    "if num<0:\n",
    "    print(\"faactorial doesnot exist for negative numbers\")\n",
    "elif num==0:\n",
    "    print(\"factorial of number 0 is 1\")\n",
    "else:\n",
    "    for i in range(1,number+1):\n",
    "        factorial=factorial*i\n",
    "print(\"factorial of number: \",number, \"is\", factorial)"
   ]
  },
  {
   "cell_type": "code",
   "execution_count": 49,
   "id": "3c2afaab",
   "metadata": {},
   "outputs": [
    {
     "name": "stdout",
     "output_type": "stream",
     "text": [
      "factorial of number:  5 is 120\n"
     ]
    }
   ],
   "source": [
    "factorial=1\n",
    "number=5\n",
    "for i in range(1,number+1):\n",
    "        factorial=factorial*i\n",
    "print(\"factorial of number: \",number, \"is\", factorial)"
   ]
  },
  {
   "cell_type": "code",
   "execution_count": 57,
   "id": "49446b31",
   "metadata": {},
   "outputs": [
    {
     "name": "stdout",
     "output_type": "stream",
     "text": [
      "factorial of number:  5 is 120\n"
     ]
    }
   ],
   "source": [
    "#also recursion\n",
    "\n",
    "def factorial(n):\n",
    "    return 1 if(n==1 or n==0) else n*factorial(n-1)\n",
    "num=5\n",
    "print(\"factorial of number: \",num, \"is\", factorial(num))"
   ]
  },
  {
   "cell_type": "code",
   "execution_count": 21,
   "id": "9ca00e07",
   "metadata": {},
   "outputs": [
    {
     "data": {
      "text/plain": [
       "(0, 1)"
      ]
     },
     "execution_count": 21,
     "metadata": {},
     "output_type": "execute_result"
    }
   ],
   "source": [
    "#fibonocci series\n",
    "n1=0\n",
    "n2=1\n",
    "n1,n2"
   ]
  },
  {
   "cell_type": "code",
   "execution_count": 22,
   "id": "d32cc57f",
   "metadata": {},
   "outputs": [
    {
     "name": "stdout",
     "output_type": "stream",
     "text": [
      "1\n",
      "2\n",
      "3\n",
      "5\n",
      "8\n",
      "13\n",
      "21\n",
      "34\n",
      "55\n",
      "89\n"
     ]
    }
   ],
   "source": [
    "#fibonocci series\n",
    "for i in range(0,10):\n",
    "    sum=n1+n2\n",
    "    print(sum)\n",
    "    n1=n2\n",
    "    n2=sum"
   ]
  },
  {
   "cell_type": "code",
   "execution_count": 2,
   "id": "48e34c28",
   "metadata": {},
   "outputs": [
    {
     "data": {
      "text/plain": [
       "25"
      ]
     },
     "execution_count": 2,
     "metadata": {},
     "output_type": "execute_result"
    }
   ],
   "source": [
    "#sum of element in array\n",
    "arr=[1,2,3,4,5]\n",
    "arr\n",
    "sum(arr,10)\n"
   ]
  },
  {
   "cell_type": "code",
   "execution_count": 4,
   "id": "43597dd4",
   "metadata": {},
   "outputs": [
    {
     "data": {
      "text/plain": [
       "(5, 1)"
      ]
     },
     "execution_count": 4,
     "metadata": {},
     "output_type": "execute_result"
    }
   ],
   "source": [
    "#max and min element in array\n",
    "\n",
    "arr1=[1,2,3,4,5]\n",
    "max(arr1),min(arr1)\n"
   ]
  },
  {
   "cell_type": "code",
   "execution_count": 6,
   "id": "13e0bf3e",
   "metadata": {},
   "outputs": [
    {
     "data": {
      "text/plain": [
       "[1, 2, 4, 5, 8, 6, 3, 10]"
      ]
     },
     "execution_count": 6,
     "metadata": {},
     "output_type": "execute_result"
    }
   ],
   "source": [
    "mylist=[1,2,4,5,8,6,3,10]\n",
    "mylist"
   ]
  },
  {
   "cell_type": "code",
   "execution_count": 8,
   "id": "448eaa51",
   "metadata": {},
   "outputs": [
    {
     "name": "stdout",
     "output_type": "stream",
     "text": [
      "length of my list is:  8\n"
     ]
    }
   ],
   "source": [
    "count=0\n",
    "for i in (mylist):\n",
    "    count=count+1\n",
    "print(\"length of my list is: \", count)    "
   ]
  },
  {
   "cell_type": "code",
   "execution_count": 11,
   "id": "f21342ce",
   "metadata": {},
   "outputs": [
    {
     "name": "stdout",
     "output_type": "stream",
     "text": [
      "List after swapping:  [25, 35, 55, 15, 12, 9, 24, 12]\n"
     ]
    }
   ],
   "source": [
    "#how to swap first and last elements of list\n",
    "mylist=[12,35,55,15,12,9,24,25]\n",
    "mylist\n",
    "\n",
    "\n",
    "mylist[0],mylist[-1]=mylist[-1],mylist[0]\n",
    "print(\"List after swapping: \",mylist)"
   ]
  },
  {
   "cell_type": "code",
   "execution_count": 12,
   "id": "7865a25d",
   "metadata": {},
   "outputs": [
    {
     "data": {
      "text/plain": [
       "[25, 35, 55, 15, 12, 9, 24, 12]"
      ]
     },
     "execution_count": 12,
     "metadata": {},
     "output_type": "execute_result"
    }
   ],
   "source": [
    "mylist=[12,35,55,15,12,9,24,25]\n",
    "mylist\n",
    "start,*mid,end=mylist\n",
    "mylist=[end,*mid,start]\n",
    "mylist"
   ]
  },
  {
   "cell_type": "code",
   "execution_count": 17,
   "id": "515303ad",
   "metadata": {},
   "outputs": [
    {
     "data": {
      "text/plain": [
       "[12, 15, 16, 78, 22, 26]"
      ]
     },
     "execution_count": 17,
     "metadata": {},
     "output_type": "execute_result"
    }
   ],
   "source": [
    "#swapping any two elements from list\n",
    "list=[12,15,78,16,22,26]\n",
    "list\n",
    "pos2,pos3=3,2\n",
    "list[pos2],list[pos3]=list[pos3],list[pos2]\n",
    "list"
   ]
  },
  {
   "cell_type": "code",
   "execution_count": 22,
   "id": "8a473a27",
   "metadata": {},
   "outputs": [
    {
     "data": {
      "text/plain": [
       "{'for', 'geeks'}"
      ]
     },
     "execution_count": 22,
     "metadata": {},
     "output_type": "execute_result"
    }
   ],
   "source": [
    "#removing exra occuring elements in list\n",
    "wordlist=[\"geeks\",\"for\",\"geeks\",\"geeks\"]\n",
    "wordlist\n",
    "s=set(wordlist)\n",
    "s"
   ]
  },
  {
   "cell_type": "code",
   "execution_count": 1,
   "id": "2cd54bb7",
   "metadata": {},
   "outputs": [
    {
     "name": "stdout",
     "output_type": "stream",
     "text": [
      "found\n"
     ]
    }
   ],
   "source": [
    "list=[1,5,6,7,8,9,10,22]\n",
    "list\n",
    "num=10\n",
    "if num in list:\n",
    "    print(\"found\")\n",
    "else:\n",
    "    print(\"not found\")"
   ]
  },
  {
   "cell_type": "code",
   "execution_count": 2,
   "id": "9fc27306",
   "metadata": {},
   "outputs": [
    {
     "name": "stdout",
     "output_type": "stream",
     "text": [
      "list before clear: [15, 2, 4, 5, 3, 6, 7, 90]\n",
      "list after clear: []\n"
     ]
    }
   ],
   "source": [
    "#how to clear list- delete list\n",
    "list=[15,2,4,5,3,6,7,90]\n",
    "print(\"list before clear:\", list)\n",
    "list.clear()\n",
    "print(\"list after clear:\", list)"
   ]
  },
  {
   "cell_type": "code",
   "execution_count": 6,
   "id": "726ec862",
   "metadata": {},
   "outputs": [
    {
     "name": "stdout",
     "output_type": "stream",
     "text": [
      "list before clear: [15, 2, 4, 5, 3, 6, 7, 90]\n"
     ]
    },
    {
     "data": {
      "text/plain": [
       "[]"
      ]
     },
     "execution_count": 6,
     "metadata": {},
     "output_type": "execute_result"
    }
   ],
   "source": [
    "list=[15,2,4,5,3,6,7,90]\n",
    "print(\"list before clear:\", list)\n",
    "list *=0         # *=0 clears list \n",
    "list"
   ]
  },
  {
   "cell_type": "code",
   "execution_count": 8,
   "id": "9bf92cf9",
   "metadata": {},
   "outputs": [
    {
     "name": "stdout",
     "output_type": "stream",
     "text": [
      "list before clear: [15, 2, 4, 5, 3, 6, 7, 90]\n"
     ]
    },
    {
     "data": {
      "text/plain": [
       "[15, 3, 6, 7, 90]"
      ]
     },
     "execution_count": 8,
     "metadata": {},
     "output_type": "execute_result"
    }
   ],
   "source": [
    "list=[15,2,4,5,3,6,7,90]\n",
    "print(\"list before clear:\", list)\n",
    "del list[1:4]       #1 to 3 index number deleted\n",
    "list"
   ]
  },
  {
   "cell_type": "code",
   "execution_count": 9,
   "id": "e8665b40",
   "metadata": {},
   "outputs": [
    {
     "name": "stdout",
     "output_type": "stream",
     "text": [
      "list before clear: [15, 2, 4, 5, 3, 6, 7, 90]\n"
     ]
    },
    {
     "data": {
      "text/plain": [
       "[]"
      ]
     },
     "execution_count": 9,
     "metadata": {},
     "output_type": "execute_result"
    }
   ],
   "source": [
    "list=[15,2,4,5,3,6,7,90]\n",
    "print(\"list before clear:\", list)\n",
    "del list[:]       #deleted all list\n",
    "list"
   ]
  },
  {
   "cell_type": "code",
   "execution_count": 10,
   "id": "ea789881",
   "metadata": {},
   "outputs": [
    {
     "name": "stdout",
     "output_type": "stream",
     "text": [
      "list before reverse : [15, 2, 4, 5, 3, 6, 7, 90]\n"
     ]
    },
    {
     "data": {
      "text/plain": [
       "[90, 7, 6, 3, 5, 4, 2, 15]"
      ]
     },
     "execution_count": 10,
     "metadata": {},
     "output_type": "execute_result"
    }
   ],
   "source": [
    "#how to reverse the list #1\n",
    "list=[15,2,4,5,3,6,7,90]\n",
    "print(\"list before reverse :\", list)\n",
    "list.reverse()\n",
    "list"
   ]
  },
  {
   "cell_type": "code",
   "execution_count": 12,
   "id": "0a5b198f",
   "metadata": {},
   "outputs": [
    {
     "data": {
      "text/plain": [
       "[90, 7, 6, 3, 5, 4, 2, 15]"
      ]
     },
     "execution_count": 12,
     "metadata": {},
     "output_type": "execute_result"
    }
   ],
   "source": [
    "#2nd method\n",
    "\n",
    "list=[15,2,4,5,3,6,7,90]\n",
    "list2=list[::-1]\n",
    "list2"
   ]
  },
  {
   "cell_type": "code",
   "execution_count": 14,
   "id": "a3bade22",
   "metadata": {},
   "outputs": [
    {
     "data": {
      "text/plain": [
       "[15, 22, 35, 6, 44, 89]"
      ]
     },
     "execution_count": 14,
     "metadata": {},
     "output_type": "execute_result"
    }
   ],
   "source": [
    "#how to clone or copy the list\n",
    "#1st\n",
    "list=[15,22,35,6,44,89]\n",
    "list\n",
    "list1=list[:]\n",
    "list1"
   ]
  },
  {
   "cell_type": "code",
   "execution_count": 18,
   "id": "11717a54",
   "metadata": {},
   "outputs": [
    {
     "data": {
      "text/plain": [
       "[15, 22, 35, 6, 44, 89]"
      ]
     },
     "execution_count": 18,
     "metadata": {},
     "output_type": "execute_result"
    }
   ],
   "source": [
    "#2nd  list element copied into empty list name list3 ,  .extend()\n",
    "list3=[]\n",
    "list3.extend(list)\n",
    "list3"
   ]
  },
  {
   "cell_type": "code",
   "execution_count": 22,
   "id": "adf5777f",
   "metadata": {},
   "outputs": [
    {
     "data": {
      "text/plain": [
       "[15, 22, 35, 6, 44, 89]"
      ]
     },
     "execution_count": 22,
     "metadata": {},
     "output_type": "execute_result"
    }
   ],
   "source": [
    "#3rd  .copy() function\n",
    "list_o=[15,22,35,6,44,89]\n",
    "list_o\n",
    "list_copy=list_o.copy()\n",
    "list_copy"
   ]
  },
  {
   "cell_type": "code",
   "execution_count": 23,
   "id": "597c22df",
   "metadata": {},
   "outputs": [
    {
     "data": {
      "text/plain": [
       "[15, 22, 35, 6, 44, 89]"
      ]
     },
     "execution_count": 23,
     "metadata": {},
     "output_type": "execute_result"
    }
   ],
   "source": [
    "#4th\n",
    "xc=[15,22,35,6,44,89]\n",
    "zx=[i for i in xc]\n",
    "zx"
   ]
  },
  {
   "cell_type": "code",
   "execution_count": 31,
   "id": "7cd0ab91",
   "metadata": {},
   "outputs": [
    {
     "name": "stdout",
     "output_type": "stream",
     "text": [
      "10 has occured 2 times\n"
     ]
    }
   ],
   "source": [
    "#count occurances in list #1st\n",
    "xxx=[0,50,20,14,10,30,30,45,10,55,5]\n",
    "xxx\n",
    "\n",
    "x=10\n",
    "count=0\n",
    "for ele in xxx:\n",
    "    if(ele==x):\n",
    "        count=count+1\n",
    "print(\"{} has occured {} times\". format(x,count))        "
   ]
  },
  {
   "cell_type": "code",
   "execution_count": 33,
   "id": "7d96b4e0",
   "metadata": {},
   "outputs": [
    {
     "name": "stdout",
     "output_type": "stream",
     "text": [
      "10 has occured 2 times\n"
     ]
    }
   ],
   "source": [
    "#2nd method\n",
    "\n",
    "xyy=[0,50,20,14,10,30,30,45,10,55,5]\n",
    "xyy\n",
    "a=10\n",
    "print(\"{} has occured {} times\".format(a,xyy.count(a)))"
   ]
  },
  {
   "cell_type": "code",
   "execution_count": 34,
   "id": "376b8f57",
   "metadata": {},
   "outputs": [
    {
     "data": {
      "text/plain": [
       "2"
      ]
     },
     "execution_count": 34,
     "metadata": {},
     "output_type": "execute_result"
    }
   ],
   "source": [
    "#3rd method\n",
    "\n",
    "xyy=[0,50,20,14,10,30,30,45,10,55,5]\n",
    "xyy\n",
    "a=10\n",
    "xyy.count(a)"
   ]
  },
  {
   "cell_type": "code",
   "execution_count": 39,
   "id": "cada602d",
   "metadata": {},
   "outputs": [
    {
     "name": "stdout",
     "output_type": "stream",
     "text": [
      "10 has occured 2 times\n"
     ]
    }
   ],
   "source": [
    "#4th method\n",
    "\n",
    "from collections import Counter\n",
    "yyy=[0,50,20,14,10,30,30,45,10,55,5]\n",
    "yyy\n",
    "x=10\n",
    "dic=Counter(yyy)     #0:1,50:1,20:1...\n",
    "print(\"{} has occured {} times\".format(x,dic[x]))"
   ]
  },
  {
   "cell_type": "code",
   "execution_count": 41,
   "id": "e2752f80",
   "metadata": {},
   "outputs": [
    {
     "data": {
      "text/plain": [
       "269"
      ]
     },
     "execution_count": 41,
     "metadata": {},
     "output_type": "execute_result"
    }
   ],
   "source": [
    "#find sum of an elements in list\n",
    "#1st\n",
    "\n",
    "a1=[0,50,20,14,10,30,30,45,10,55,5]\n",
    "a1\n",
    "sum(a1)"
   ]
  },
  {
   "cell_type": "code",
   "execution_count": 43,
   "id": "4063428f",
   "metadata": {},
   "outputs": [
    {
     "name": "stdout",
     "output_type": "stream",
     "text": [
      "sum of all elements in list: 269\n"
     ]
    }
   ],
   "source": [
    "#2nd\n",
    "\n",
    "a2=[0,50,20,14,10,30,30,45,10,55,5]\n",
    "a2\n",
    "total=0\n",
    "for i in range(0,len(a2)):\n",
    "    total=total+a2[i]\n",
    "    \n",
    "print(\"sum of all elements in list:\", total)    "
   ]
  },
  {
   "cell_type": "code",
   "execution_count": 56,
   "id": "5128756c",
   "metadata": {},
   "outputs": [
    {
     "name": "stdout",
     "output_type": "stream",
     "text": [
      "multiplication of munbers is:  400\n"
     ]
    }
   ],
   "source": [
    "#multiply all numbers in list\n",
    "a3=[2,4,1,50]\n",
    "a3\n",
    "multipli=1      #result,count etc any word or variable we can use\n",
    "\n",
    "for x in a3:\n",
    "    multipli=multipli*x\n",
    "    \n",
    "print(\"multiplication of numbers is: \",multipli)    "
   ]
  },
  {
   "cell_type": "code",
   "execution_count": 55,
   "id": "e646573e",
   "metadata": {},
   "outputs": [
    {
     "data": {
      "text/plain": [
       "160"
      ]
     },
     "execution_count": 55,
     "metadata": {},
     "output_type": "execute_result"
    }
   ],
   "source": [
    "#2nd \n",
    "import numpy as np\n",
    "a4=[2,4,1,20]\n",
    "a4\n",
    "mupltiply=np.prod(a4)       #numpy function prod() used here\n",
    "mupltiply"
   ]
  },
  {
   "cell_type": "code",
   "execution_count": 64,
   "id": "f152e283",
   "metadata": {},
   "outputs": [
    {
     "name": "stdout",
     "output_type": "stream",
     "text": [
      "smallest number from list: 1\n",
      "highest number from list: 100\n"
     ]
    }
   ],
   "source": [
    "#find smallest and largest number in list\n",
    "#1st method\n",
    "o=[10,100,1,50,25]\n",
    "o\n",
    "o.sort()  #sorted 1st elemet and lest element\n",
    "o\n",
    "\n",
    "print(\"smallest number from list:\",o[0])\n",
    "print(\"highest number from list:\",o[-1])"
   ]
  },
  {
   "cell_type": "code",
   "execution_count": 66,
   "id": "744efd7e",
   "metadata": {},
   "outputs": [
    {
     "data": {
      "text/plain": [
       "(1, 100)"
      ]
     },
     "execution_count": 66,
     "metadata": {},
     "output_type": "execute_result"
    }
   ],
   "source": [
    "#2nd method\n",
    "o=[10,100,1,50,25]\n",
    "min(o), max(o)"
   ]
  },
  {
   "cell_type": "code",
   "execution_count": 70,
   "id": "0960ae86",
   "metadata": {},
   "outputs": [
    {
     "name": "stdout",
     "output_type": "stream",
     "text": [
      "largest number:  100\n",
      "second largest number:  99\n"
     ]
    }
   ],
   "source": [
    "#Find second largest element in list\n",
    "#1st method\n",
    "l=[10,100,1,50,99,25]\n",
    "l.sort()\n",
    "l\n",
    "print(\"largest number: \",l[-1])\n",
    "print(\"second largest number: \",l[-2])"
   ]
  },
  {
   "cell_type": "code",
   "execution_count": 103,
   "id": "36a3da7a",
   "metadata": {},
   "outputs": [
    {
     "name": "stdout",
     "output_type": "stream",
     "text": [
      "None\n"
     ]
    },
    {
     "data": {
      "text/plain": [
       "{1, 10, 25, 50, 55, 99}"
      ]
     },
     "execution_count": 103,
     "metadata": {},
     "output_type": "execute_result"
    }
   ],
   "source": [
    "#2nd method\n",
    "m=[10,1,55,50,99,25,100]\n",
    "m\n",
    "new_list=set (m)      #sorted by ascending order\n",
    "new_list\n",
    "print(new_list.remove(max(new_list)))     #removed largest element\n",
    "new_list"
   ]
  },
  {
   "cell_type": "code",
   "execution_count": 108,
   "id": "6e61ae51",
   "metadata": {},
   "outputs": [
    {
     "name": "stdout",
     "output_type": "stream",
     "text": [
      "enter a string: maadam\n",
      "string is not palindrome\n"
     ]
    }
   ],
   "source": [
    "#check string is palindrome or not  i.e after reversing element we get same output string is called palindrome\n",
    "# e.g. madam is palindrome, welcome is not palindrome\n",
    "\n",
    "#1. reverse the string\n",
    "#2. check reversed string is same as origional \n",
    "\n",
    "s=input(\"enter a string: \")\n",
    "reverstr=(s[::-1])     #reverse string\n",
    "reverstr\n",
    "\n",
    "if reverstr==s:\n",
    "    print(\"string is palindrome\")\n",
    "else:\n",
    "    print(\"string is not palindrome\")\n"
   ]
  },
  {
   "cell_type": "code",
   "execution_count": 116,
   "id": "440ad7e6",
   "metadata": {},
   "outputs": [
    {
     "name": "stdout",
     "output_type": "stream",
     "text": [
      "['welcome', 'to', 'python', 'programming']\n"
     ]
    },
    {
     "data": {
      "text/plain": [
       "['programming', 'python', 'to', 'welcome']"
      ]
     },
     "execution_count": 116,
     "metadata": {},
     "output_type": "execute_result"
    }
   ],
   "source": [
    "#reversing strings\n",
    "\n",
    "str=\"welcome to python programming\"\n",
    "str\n",
    "words=str.split(\" \")    #split in separate quotes\n",
    "print(words)\n",
    "words[::-1]        #reversed all strings"
   ]
  },
  {
   "cell_type": "code",
   "execution_count": 121,
   "id": "88ef4b5f",
   "metadata": {},
   "outputs": [
    {
     "name": "stdout",
     "output_type": "stream",
     "text": [
      "found/available\n"
     ]
    }
   ],
   "source": [
    "#Find substring present in given string\n",
    "\n",
    "string=\"welcome to python programming\"\n",
    "string\n",
    "f=\"python\"\n",
    "\n",
    "if f in string:\n",
    "    print(\"found/available\")\n",
    "else:\n",
    "    print(\"not found/not available\")"
   ]
  },
  {
   "cell_type": "code",
   "execution_count": 123,
   "id": "4e0d5daa",
   "metadata": {},
   "outputs": [
    {
     "name": "stdout",
     "output_type": "stream",
     "text": [
      "length of string is:  22\n"
     ]
    }
   ],
   "source": [
    "#how to find length of string\n",
    "#1st method\n",
    "M=\"welcome to hello world\"\n",
    "M\n",
    "count=0\n",
    "for i in M:\n",
    "    count=count+1\n",
    "print(\"length of string is: \",count)    "
   ]
  },
  {
   "cell_type": "code",
   "execution_count": 129,
   "id": "0ab43fe0",
   "metadata": {},
   "outputs": [
    {
     "name": "stdout",
     "output_type": "stream",
     "text": [
      "length of string is:  16\n"
     ]
    }
   ],
   "source": [
    "#2nd method using while loop and slicing\n",
    "z=\"welcome to world\"\n",
    "counter=0\n",
    "\n",
    "while z[counter:]:          #1st element i.e counter=0  slicing\n",
    "    counter=counter+1\n",
    "print(\"length of string is: \",counter)"
   ]
  },
  {
   "cell_type": "code",
   "execution_count": 130,
   "id": "0fb8fd56",
   "metadata": {},
   "outputs": [
    {
     "data": {
      "text/plain": [
       "16"
      ]
     },
     "execution_count": 130,
     "metadata": {},
     "output_type": "execute_result"
    }
   ],
   "source": [
    "#3rd  len method\n",
    "\n",
    "v=\"welcome to world\"\n",
    "len(v)\n"
   ]
  },
  {
   "cell_type": "code",
   "execution_count": 134,
   "id": "cc34dd28",
   "metadata": {},
   "outputs": [
    {
     "name": "stdout",
     "output_type": "stream",
     "text": [
      "wxexlxcxoxmxex xtxox xwxoxrxlxd\n",
      "15\n",
      "16\n"
     ]
    }
   ],
   "source": [
    "#4th method using join and count\n",
    "d=\"welcome to world\"\n",
    "randome_str=\"x\"\n",
    "print((randome_str).join(d))      # insert x after every character\n",
    "print((randome_str).join(d).count(randome_str))       # x counted\n",
    "print((randome_str).join(d).count(randome_str)+1)     # this gives exact len of string"
   ]
  },
  {
   "cell_type": "code",
   "execution_count": 140,
   "id": "3d85eb71",
   "metadata": {},
   "outputs": [
    {
     "name": "stdout",
     "output_type": "stream",
     "text": [
      "contain no special character in string\n"
     ]
    }
   ],
   "source": [
    "#check if string contain any special characters in it , like @,_,&^%$ etc.\n",
    "\n",
    "import re       #regular expression\n",
    "#srt=\"welcome@@@@*&#\"\n",
    "srt2=\"welcome to python\"\n",
    "regex=re.compile('[@#$%^&*><?!]')\n",
    "\n",
    "if (regex.search(srt2) == None):\n",
    "    print(\"contain no special character in string\")\n",
    "else:\n",
    "    print(\"contain special character in string\")"
   ]
  },
  {
   "cell_type": "code",
   "execution_count": 147,
   "id": "f0e2840e",
   "metadata": {},
   "outputs": [
    {
     "data": {
      "text/plain": [
       "['https://www.google.com/', 'http://www.facebook.com/']"
      ]
     },
     "execution_count": 147,
     "metadata": {},
     "output_type": "execute_result"
    }
   ],
   "source": [
    "#check for url in string\n",
    "import re\n",
    "eee=\"google website is https://www.google.com/  and fb website is http://www.facebook.com/ \" \n",
    "eee\n",
    "\n",
    "#http://urlregex.com\n",
    "#http[s]?://(?:[a-zA-Z]|[0-9]|[$-_@.&+]|[!*\\(\\),]|(?:%[0-9a-fA-F][0-9a-fA-F]))+\n",
    "\n",
    "url=re.findall('http[s]?://(?:[a-zA-Z]|[0-9]|[$-_@.&+]|[!*\\(\\),]|(?:%[0-9a-fA-F][0-9a-fA-F]))+',eee)\n",
    "url"
   ]
  },
  {
   "cell_type": "code",
   "execution_count": null,
   "id": "ffb2fb95",
   "metadata": {},
   "outputs": [],
   "source": []
  },
  {
   "cell_type": "code",
   "execution_count": null,
   "id": "aaeadf2b",
   "metadata": {},
   "outputs": [],
   "source": []
  },
  {
   "cell_type": "code",
   "execution_count": null,
   "id": "cba0205c",
   "metadata": {},
   "outputs": [],
   "source": []
  },
  {
   "cell_type": "code",
   "execution_count": null,
   "id": "20ad01d6",
   "metadata": {},
   "outputs": [],
   "source": []
  },
  {
   "cell_type": "code",
   "execution_count": null,
   "id": "76afa7e2",
   "metadata": {},
   "outputs": [],
   "source": []
  },
  {
   "cell_type": "code",
   "execution_count": null,
   "id": "01a8d1e3",
   "metadata": {},
   "outputs": [],
   "source": []
  }
 ],
 "metadata": {
  "kernelspec": {
   "display_name": "Python 3 (ipykernel)",
   "language": "python",
   "name": "python3"
  },
  "language_info": {
   "codemirror_mode": {
    "name": "ipython",
    "version": 3
   },
   "file_extension": ".py",
   "mimetype": "text/x-python",
   "name": "python",
   "nbconvert_exporter": "python",
   "pygments_lexer": "ipython3",
   "version": "3.9.7"
  }
 },
 "nbformat": 4,
 "nbformat_minor": 5
}
