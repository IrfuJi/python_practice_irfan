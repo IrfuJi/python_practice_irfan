{
 "cells": [
  {
   "cell_type": "code",
   "execution_count": 1,
   "id": "bd610e32",
   "metadata": {},
   "outputs": [
    {
     "name": "stdout",
     "output_type": "stream",
     "text": [
      "assalamualaikum bhai\n"
     ]
    }
   ],
   "source": [
    "print(\"assalamualaikum bhai\")"
   ]
  },
  {
   "cell_type": "code",
   "execution_count": 2,
   "id": "1ef2f7aa",
   "metadata": {},
   "outputs": [],
   "source": [
    "std=\"sam\""
   ]
  },
  {
   "cell_type": "code",
   "execution_count": 4,
   "id": "c981157b",
   "metadata": {},
   "outputs": [
    {
     "data": {
      "text/plain": [
       "'sam'"
      ]
     },
     "execution_count": 4,
     "metadata": {},
     "output_type": "execute_result"
    }
   ],
   "source": [
    "std"
   ]
  },
  {
   "cell_type": "code",
   "execution_count": 5,
   "id": "882e319a",
   "metadata": {},
   "outputs": [],
   "source": [
    "a1=3.33"
   ]
  },
  {
   "cell_type": "code",
   "execution_count": 6,
   "id": "459621d6",
   "metadata": {},
   "outputs": [
    {
     "data": {
      "text/plain": [
       "float"
      ]
     },
     "execution_count": 6,
     "metadata": {},
     "output_type": "execute_result"
    }
   ],
   "source": [
    "type(a1)"
   ]
  },
  {
   "cell_type": "code",
   "execution_count": 8,
   "id": "932d7a3b",
   "metadata": {},
   "outputs": [],
   "source": [
    "a=\"TRUE\""
   ]
  },
  {
   "cell_type": "code",
   "execution_count": 10,
   "id": "6c91cc1d",
   "metadata": {},
   "outputs": [
    {
     "data": {
      "text/plain": [
       "str"
      ]
     },
     "execution_count": 10,
     "metadata": {},
     "output_type": "execute_result"
    }
   ],
   "source": [
    "type(a)"
   ]
  },
  {
   "cell_type": "code",
   "execution_count": 11,
   "id": "77fbe1a9",
   "metadata": {},
   "outputs": [],
   "source": [
    "a = True"
   ]
  },
  {
   "cell_type": "code",
   "execution_count": 12,
   "id": "a1f6c235",
   "metadata": {},
   "outputs": [
    {
     "data": {
      "text/plain": [
       "bool"
      ]
     },
     "execution_count": 12,
     "metadata": {},
     "output_type": "execute_result"
    }
   ],
   "source": [
    "type(a)"
   ]
  },
  {
   "cell_type": "code",
   "execution_count": 15,
   "id": "7246ed15",
   "metadata": {},
   "outputs": [],
   "source": [
    "a=10\n",
    "b=20"
   ]
  },
  {
   "cell_type": "code",
   "execution_count": 16,
   "id": "2e2b5fe0",
   "metadata": {},
   "outputs": [
    {
     "data": {
      "text/plain": [
       "30"
      ]
     },
     "execution_count": 16,
     "metadata": {},
     "output_type": "execute_result"
    }
   ],
   "source": [
    "a+b"
   ]
  },
  {
   "cell_type": "code",
   "execution_count": 17,
   "id": "489d55e5",
   "metadata": {},
   "outputs": [
    {
     "data": {
      "text/plain": [
       "200"
      ]
     },
     "execution_count": 17,
     "metadata": {},
     "output_type": "execute_result"
    }
   ],
   "source": [
    "a*b"
   ]
  },
  {
   "cell_type": "code",
   "execution_count": 21,
   "id": "cdd7f443",
   "metadata": {},
   "outputs": [
    {
     "data": {
      "text/plain": [
       "400"
      ]
     },
     "execution_count": 21,
     "metadata": {},
     "output_type": "execute_result"
    }
   ],
   "source": [
    "b=200\n",
    "c=200\n",
    "c+b"
   ]
  },
  {
   "cell_type": "code",
   "execution_count": 20,
   "id": "ca47123e",
   "metadata": {},
   "outputs": [
    {
     "data": {
      "text/plain": [
       "1.0"
      ]
     },
     "execution_count": 20,
     "metadata": {},
     "output_type": "execute_result"
    }
   ],
   "source": [
    "b/c"
   ]
  },
  {
   "cell_type": "code",
   "execution_count": 22,
   "id": "67e0cf70",
   "metadata": {},
   "outputs": [],
   "source": [
    "a=50\n",
    "c=100\n"
   ]
  },
  {
   "cell_type": "code",
   "execution_count": 23,
   "id": "b04686bf",
   "metadata": {},
   "outputs": [
    {
     "data": {
      "text/plain": [
       "True"
      ]
     },
     "execution_count": 23,
     "metadata": {},
     "output_type": "execute_result"
    }
   ],
   "source": [
    "a<c"
   ]
  },
  {
   "cell_type": "code",
   "execution_count": 24,
   "id": "133cad1e",
   "metadata": {},
   "outputs": [
    {
     "data": {
      "text/plain": [
       "False"
      ]
     },
     "execution_count": 24,
     "metadata": {},
     "output_type": "execute_result"
    }
   ],
   "source": [
    "a>c"
   ]
  },
  {
   "cell_type": "code",
   "execution_count": 25,
   "id": "8cfb50a0",
   "metadata": {},
   "outputs": [
    {
     "data": {
      "text/plain": [
       "False"
      ]
     },
     "execution_count": 25,
     "metadata": {},
     "output_type": "execute_result"
    }
   ],
   "source": [
    "a>=c"
   ]
  },
  {
   "cell_type": "code",
   "execution_count": 26,
   "id": "2c00686a",
   "metadata": {},
   "outputs": [
    {
     "data": {
      "text/plain": [
       "True"
      ]
     },
     "execution_count": 26,
     "metadata": {},
     "output_type": "execute_result"
    }
   ],
   "source": [
    "a<=c"
   ]
  },
  {
   "cell_type": "code",
   "execution_count": 27,
   "id": "3e8711a5",
   "metadata": {},
   "outputs": [
    {
     "data": {
      "text/plain": [
       "False"
      ]
     },
     "execution_count": 27,
     "metadata": {},
     "output_type": "execute_result"
    }
   ],
   "source": [
    "a==c"
   ]
  },
  {
   "cell_type": "code",
   "execution_count": 28,
   "id": "de829ace",
   "metadata": {},
   "outputs": [
    {
     "data": {
      "text/plain": [
       "True"
      ]
     },
     "execution_count": 28,
     "metadata": {},
     "output_type": "execute_result"
    }
   ],
   "source": [
    "a!=c"
   ]
  },
  {
   "cell_type": "code",
   "execution_count": 29,
   "id": "854697b5",
   "metadata": {},
   "outputs": [],
   "source": [
    "a= True\n",
    "b= False"
   ]
  },
  {
   "cell_type": "code",
   "execution_count": 30,
   "id": "57b425fc",
   "metadata": {},
   "outputs": [
    {
     "data": {
      "text/plain": [
       "True"
      ]
     },
     "execution_count": 30,
     "metadata": {},
     "output_type": "execute_result"
    }
   ],
   "source": [
    "a and a"
   ]
  },
  {
   "cell_type": "code",
   "execution_count": 31,
   "id": "cea7ac1c",
   "metadata": {},
   "outputs": [
    {
     "data": {
      "text/plain": [
       "False"
      ]
     },
     "execution_count": 31,
     "metadata": {},
     "output_type": "execute_result"
    }
   ],
   "source": [
    "a and b"
   ]
  },
  {
   "cell_type": "code",
   "execution_count": 32,
   "id": "cb6124db",
   "metadata": {},
   "outputs": [
    {
     "data": {
      "text/plain": [
       "False"
      ]
     },
     "execution_count": 32,
     "metadata": {},
     "output_type": "execute_result"
    }
   ],
   "source": [
    "b|b"
   ]
  },
  {
   "cell_type": "code",
   "execution_count": 36,
   "id": "b7034702",
   "metadata": {},
   "outputs": [
    {
     "name": "stdout",
     "output_type": "stream",
     "text": [
      "True\n"
     ]
    }
   ],
   "source": [
    "print(a|b)"
   ]
  },
  {
   "cell_type": "code",
   "execution_count": 34,
   "id": "8ddee053",
   "metadata": {},
   "outputs": [
    {
     "data": {
      "text/plain": [
       "True"
      ]
     },
     "execution_count": 34,
     "metadata": {},
     "output_type": "execute_result"
    }
   ],
   "source": [
    "a or b"
   ]
  },
  {
   "cell_type": "code",
   "execution_count": 35,
   "id": "2527d446",
   "metadata": {},
   "outputs": [
    {
     "name": "stdout",
     "output_type": "stream",
     "text": [
      "True\n"
     ]
    }
   ],
   "source": [
    "print (a or b)"
   ]
  },
  {
   "cell_type": "code",
   "execution_count": 38,
   "id": "60fd2955",
   "metadata": {},
   "outputs": [],
   "source": [
    "student=\"Irfan\"\n",
    "Student=\"irfan\""
   ]
  },
  {
   "cell_type": "code",
   "execution_count": 39,
   "id": "f518f917",
   "metadata": {},
   "outputs": [
    {
     "name": "stdout",
     "output_type": "stream",
     "text": [
      "irfan\n"
     ]
    }
   ],
   "source": [
    "print(Student)"
   ]
  },
  {
   "cell_type": "code",
   "execution_count": 40,
   "id": "8cf3e146",
   "metadata": {},
   "outputs": [
    {
     "data": {
      "text/plain": [
       "'Irfan'"
      ]
     },
     "execution_count": 40,
     "metadata": {},
     "output_type": "execute_result"
    }
   ],
   "source": [
    "student"
   ]
  },
  {
   "cell_type": "code",
   "execution_count": null,
   "id": "905a3673",
   "metadata": {},
   "outputs": [],
   "source": [
    "#Literals-constants"
   ]
  },
  {
   "cell_type": "code",
   "execution_count": 41,
   "id": "c543d7b3",
   "metadata": {},
   "outputs": [
    {
     "data": {
      "text/plain": [
       "6.470000000000001"
      ]
     },
     "execution_count": 41,
     "metadata": {},
     "output_type": "execute_result"
    }
   ],
   "source": [
    "a=3.14\n",
    "b=3.33\n",
    "a+b"
   ]
  },
  {
   "cell_type": "code",
   "execution_count": 42,
   "id": "7e9c0c26",
   "metadata": {},
   "outputs": [],
   "source": [
    "a=''' abcd\n",
    "abcd\n",
    "abcd\n",
    "abcd\n",
    "abcd'''"
   ]
  },
  {
   "cell_type": "code",
   "execution_count": 43,
   "id": "71d8241c",
   "metadata": {},
   "outputs": [
    {
     "data": {
      "text/plain": [
       "' abcd\\nabcd\\nabcd\\nabcd\\nabcd'"
      ]
     },
     "execution_count": 43,
     "metadata": {},
     "output_type": "execute_result"
    }
   ],
   "source": [
    "a"
   ]
  },
  {
   "cell_type": "code",
   "execution_count": 44,
   "id": "21e4a1e9",
   "metadata": {},
   "outputs": [],
   "source": [
    "#extracting individual character from string"
   ]
  },
  {
   "cell_type": "code",
   "execution_count": 45,
   "id": "22da9b3a",
   "metadata": {},
   "outputs": [],
   "source": [
    "abc= \"i love my country\""
   ]
  },
  {
   "cell_type": "code",
   "execution_count": 48,
   "id": "43bb2826",
   "metadata": {},
   "outputs": [
    {
     "name": "stdout",
     "output_type": "stream",
     "text": [
      "l\n"
     ]
    }
   ],
   "source": [
    "print(abc[2])"
   ]
  },
  {
   "cell_type": "code",
   "execution_count": 74,
   "id": "e9f49e89",
   "metadata": {},
   "outputs": [
    {
     "data": {
      "text/plain": [
       "''"
      ]
     },
     "execution_count": 74,
     "metadata": {},
     "output_type": "execute_result"
    }
   ],
   "source": [
    "abc[-1:-5:1]"
   ]
  },
  {
   "cell_type": "code",
   "execution_count": 53,
   "id": "8d7dd099",
   "metadata": {},
   "outputs": [
    {
     "data": {
      "text/plain": [
       "'em onr'"
      ]
     },
     "execution_count": 53,
     "metadata": {},
     "output_type": "execute_result"
    }
   ],
   "source": [
    "abc[5:18:2]"
   ]
  },
  {
   "cell_type": "code",
   "execution_count": 54,
   "id": "419228c2",
   "metadata": {},
   "outputs": [
    {
     "data": {
      "text/plain": [
       "17"
      ]
     },
     "execution_count": 54,
     "metadata": {},
     "output_type": "execute_result"
    }
   ],
   "source": [
    "len(abc)"
   ]
  },
  {
   "cell_type": "code",
   "execution_count": 55,
   "id": "34c84d05",
   "metadata": {},
   "outputs": [
    {
     "name": "stdout",
     "output_type": "stream",
     "text": [
      "17\n"
     ]
    }
   ],
   "source": [
    "print(len(abc))"
   ]
  },
  {
   "cell_type": "code",
   "execution_count": 58,
   "id": "d9152596",
   "metadata": {},
   "outputs": [
    {
     "data": {
      "text/plain": [
       "'i love my country'"
      ]
     },
     "execution_count": 58,
     "metadata": {},
     "output_type": "execute_result"
    }
   ],
   "source": [
    "abc.lower()          #changing upper case or lower case"
   ]
  },
  {
   "cell_type": "code",
   "execution_count": 57,
   "id": "2af87112",
   "metadata": {},
   "outputs": [
    {
     "data": {
      "text/plain": [
       "'I LOVE MY COUNTRY'"
      ]
     },
     "execution_count": 57,
     "metadata": {},
     "output_type": "execute_result"
    }
   ],
   "source": [
    "abc.upper()"
   ]
  },
  {
   "cell_type": "code",
   "execution_count": 64,
   "id": "8b9b8e50",
   "metadata": {},
   "outputs": [
    {
     "data": {
      "text/plain": [
       "'i love my state'"
      ]
     },
     "execution_count": 64,
     "metadata": {},
     "output_type": "execute_result"
    }
   ],
   "source": [
    "abc.replace('i love my country','i love my state')"
   ]
  },
  {
   "cell_type": "code",
   "execution_count": 60,
   "id": "714cbe27",
   "metadata": {},
   "outputs": [],
   "source": [
    "xyz=\"hello helllo hello hi hello\""
   ]
  },
  {
   "cell_type": "code",
   "execution_count": 69,
   "id": "c592cbe0",
   "metadata": {},
   "outputs": [
    {
     "name": "stdout",
     "output_type": "stream",
     "text": [
      "5\n"
     ]
    }
   ],
   "source": [
    "print(xyz.count(\"h\"))"
   ]
  },
  {
   "cell_type": "code",
   "execution_count": 70,
   "id": "c863c15c",
   "metadata": {},
   "outputs": [],
   "source": [
    "xz=\"Ir fan das tgir ful ari\""
   ]
  },
  {
   "cell_type": "code",
   "execution_count": 81,
   "id": "bc745f3d",
   "metadata": {},
   "outputs": [
    {
     "data": {
      "text/plain": [
       "10"
      ]
     },
     "execution_count": 81,
     "metadata": {},
     "output_type": "execute_result"
    }
   ],
   "source": [
    "xz.find('g')"
   ]
  },
  {
   "cell_type": "code",
   "execution_count": 82,
   "id": "5a17ed69",
   "metadata": {},
   "outputs": [],
   "source": [
    "zzz=\"hello world is awesome\""
   ]
  },
  {
   "cell_type": "code",
   "execution_count": 83,
   "id": "d60425eb",
   "metadata": {},
   "outputs": [],
   "source": [
    "xxx=\"mr singh is pm of india\""
   ]
  },
  {
   "cell_type": "code",
   "execution_count": 85,
   "id": "1363e41a",
   "metadata": {},
   "outputs": [
    {
     "data": {
      "text/plain": [
       "['mr si', 'gh is pm of i', 'dia']"
      ]
     },
     "execution_count": 85,
     "metadata": {},
     "output_type": "execute_result"
    }
   ],
   "source": [
    "xxx.split('n')"
   ]
  },
  {
   "cell_type": "code",
   "execution_count": 42,
   "id": "0fba6f9c",
   "metadata": {},
   "outputs": [],
   "source": [
    "tup1= (10,True,3.14,3+4j,\"irfan\")"
   ]
  },
  {
   "cell_type": "code",
   "execution_count": 43,
   "id": "1bbba521",
   "metadata": {},
   "outputs": [
    {
     "data": {
      "text/plain": [
       "tuple"
      ]
     },
     "execution_count": 43,
     "metadata": {},
     "output_type": "execute_result"
    }
   ],
   "source": [
    "type(tup1)"
   ]
  },
  {
   "cell_type": "code",
   "execution_count": 13,
   "id": "0b0262f5",
   "metadata": {},
   "outputs": [
    {
     "name": "stdout",
     "output_type": "stream",
     "text": [
      "10\n"
     ]
    }
   ],
   "source": [
    "print(tup1[0])"
   ]
  },
  {
   "cell_type": "code",
   "execution_count": 23,
   "id": "8df5ae3c",
   "metadata": {},
   "outputs": [
    {
     "ename": "TypeError",
     "evalue": "'tuple' object does not support item assignment",
     "output_type": "error",
     "traceback": [
      "\u001b[1;31m---------------------------------------------------------------------------\u001b[0m",
      "\u001b[1;31mTypeError\u001b[0m                                 Traceback (most recent call last)",
      "\u001b[1;32m~\\AppData\\Local\\Temp/ipykernel_8868/3132432781.py\u001b[0m in \u001b[0;36m<module>\u001b[1;34m\u001b[0m\n\u001b[1;32m----> 1\u001b[1;33m \u001b[0mtup1\u001b[0m\u001b[1;33m[\u001b[0m\u001b[1;36m1\u001b[0m\u001b[1;33m]\u001b[0m\u001b[1;33m=\u001b[0m\u001b[1;36m0\u001b[0m\u001b[1;33m\u001b[0m\u001b[1;33m\u001b[0m\u001b[0m\n\u001b[0m",
      "\u001b[1;31mTypeError\u001b[0m: 'tuple' object does not support item assignment"
     ]
    }
   ],
   "source": [
    "tup1[1]=0"
   ]
  },
  {
   "cell_type": "code",
   "execution_count": 24,
   "id": "f21ccf60",
   "metadata": {},
   "outputs": [
    {
     "data": {
      "text/plain": [
       "4"
      ]
     },
     "execution_count": 24,
     "metadata": {},
     "output_type": "execute_result"
    }
   ],
   "source": [
    "len(tup1)"
   ]
  },
  {
   "cell_type": "code",
   "execution_count": 31,
   "id": "9409f3ae",
   "metadata": {},
   "outputs": [],
   "source": [
    "tup2=(5,False,5)"
   ]
  },
  {
   "cell_type": "code",
   "execution_count": 32,
   "id": "6568e464",
   "metadata": {},
   "outputs": [
    {
     "data": {
      "text/plain": [
       "(5, False, 5)"
      ]
     },
     "execution_count": 32,
     "metadata": {},
     "output_type": "execute_result"
    }
   ],
   "source": [
    "tup2"
   ]
  },
  {
   "cell_type": "code",
   "execution_count": 35,
   "id": "50c998a2",
   "metadata": {},
   "outputs": [
    {
     "data": {
      "text/plain": [
       "(10,\n",
       " True,\n",
       " 3.14,\n",
       " (3+4j),\n",
       " 10,\n",
       " True,\n",
       " 3.14,\n",
       " (3+4j),\n",
       " 10,\n",
       " True,\n",
       " 3.14,\n",
       " (3+4j),\n",
       " 5,\n",
       " False,\n",
       " 5,\n",
       " 5,\n",
       " False,\n",
       " 5,\n",
       " 5,\n",
       " False,\n",
       " 5,\n",
       " 5,\n",
       " False,\n",
       " 5,\n",
       " 5,\n",
       " False,\n",
       " 5)"
      ]
     },
     "execution_count": 35,
     "metadata": {},
     "output_type": "execute_result"
    }
   ],
   "source": [
    "tup1*3+tup2*5"
   ]
  },
  {
   "cell_type": "code",
   "execution_count": 36,
   "id": "90cec28b",
   "metadata": {},
   "outputs": [],
   "source": [
    "tup1=(50,11,12,56,48,96,46)"
   ]
  },
  {
   "cell_type": "code",
   "execution_count": 38,
   "id": "fb64e296",
   "metadata": {},
   "outputs": [
    {
     "data": {
      "text/plain": [
       "11"
      ]
     },
     "execution_count": 38,
     "metadata": {},
     "output_type": "execute_result"
    }
   ],
   "source": [
    "min(tup1)"
   ]
  },
  {
   "cell_type": "code",
   "execution_count": 39,
   "id": "1f6876be",
   "metadata": {},
   "outputs": [
    {
     "data": {
      "text/plain": [
       "96"
      ]
     },
     "execution_count": 39,
     "metadata": {},
     "output_type": "execute_result"
    }
   ],
   "source": [
    "max(tup1)"
   ]
  },
  {
   "cell_type": "code",
   "execution_count": 40,
   "id": "1180e4fa",
   "metadata": {},
   "outputs": [],
   "source": [
    "l1=[1,2,3,\"sparta\",True]"
   ]
  },
  {
   "cell_type": "code",
   "execution_count": 41,
   "id": "f3bb4536",
   "metadata": {},
   "outputs": [
    {
     "data": {
      "text/plain": [
       "list"
      ]
     },
     "execution_count": 41,
     "metadata": {},
     "output_type": "execute_result"
    }
   ],
   "source": [
    "type(l1)"
   ]
  },
  {
   "cell_type": "code",
   "execution_count": 47,
   "id": "fc321715",
   "metadata": {},
   "outputs": [
    {
     "data": {
      "text/plain": [
       "[1, 3, True]"
      ]
     },
     "execution_count": 47,
     "metadata": {},
     "output_type": "execute_result"
    }
   ],
   "source": [
    "l1[0:5:2]"
   ]
  },
  {
   "cell_type": "code",
   "execution_count": 50,
   "id": "2a015199",
   "metadata": {},
   "outputs": [],
   "source": [
    "l1[0]=100"
   ]
  },
  {
   "cell_type": "code",
   "execution_count": 51,
   "id": "b8e1e8dc",
   "metadata": {},
   "outputs": [
    {
     "data": {
      "text/plain": [
       "[100, 100, 3, 'sparta', True]"
      ]
     },
     "execution_count": 51,
     "metadata": {},
     "output_type": "execute_result"
    }
   ],
   "source": [
    "l1"
   ]
  },
  {
   "cell_type": "code",
   "execution_count": 52,
   "id": "0b19cbec",
   "metadata": {},
   "outputs": [],
   "source": [
    "l1.append(\"hello\")"
   ]
  },
  {
   "cell_type": "code",
   "execution_count": 53,
   "id": "b9e3f703",
   "metadata": {},
   "outputs": [
    {
     "data": {
      "text/plain": [
       "[100, 100, 3, 'sparta', True, 'hello']"
      ]
     },
     "execution_count": 53,
     "metadata": {},
     "output_type": "execute_result"
    }
   ],
   "source": [
    "l1"
   ]
  },
  {
   "cell_type": "code",
   "execution_count": 54,
   "id": "25238d1b",
   "metadata": {},
   "outputs": [],
   "source": [
    "l1.append(\"hiii\")"
   ]
  },
  {
   "cell_type": "code",
   "execution_count": 55,
   "id": "f849b4e1",
   "metadata": {},
   "outputs": [
    {
     "data": {
      "text/plain": [
       "[100, 100, 3, 'sparta', True, 'hello', 'hiii']"
      ]
     },
     "execution_count": 55,
     "metadata": {},
     "output_type": "execute_result"
    }
   ],
   "source": [
    "l1"
   ]
  },
  {
   "cell_type": "code",
   "execution_count": 61,
   "id": "995f11c1",
   "metadata": {},
   "outputs": [
    {
     "data": {
      "text/plain": [
       "100"
      ]
     },
     "execution_count": 61,
     "metadata": {},
     "output_type": "execute_result"
    }
   ],
   "source": [
    "l1.pop(True)"
   ]
  },
  {
   "cell_type": "code",
   "execution_count": 62,
   "id": "83730dec",
   "metadata": {},
   "outputs": [
    {
     "data": {
      "text/plain": [
       "[100, 'sparta', True]"
      ]
     },
     "execution_count": 62,
     "metadata": {},
     "output_type": "execute_result"
    }
   ],
   "source": [
    "l1"
   ]
  },
  {
   "cell_type": "code",
   "execution_count": 63,
   "id": "e57d220d",
   "metadata": {},
   "outputs": [],
   "source": [
    "l1=[\"hii\",52,True,False]"
   ]
  },
  {
   "cell_type": "code",
   "execution_count": 64,
   "id": "4bbff6ec",
   "metadata": {},
   "outputs": [],
   "source": [
    "l1.reverse()"
   ]
  },
  {
   "cell_type": "code",
   "execution_count": 65,
   "id": "45284957",
   "metadata": {},
   "outputs": [
    {
     "data": {
      "text/plain": [
       "[False, True, 52, 'hii']"
      ]
     },
     "execution_count": 65,
     "metadata": {},
     "output_type": "execute_result"
    }
   ],
   "source": [
    "l1"
   ]
  },
  {
   "cell_type": "code",
   "execution_count": 66,
   "id": "2dd8cc03",
   "metadata": {},
   "outputs": [],
   "source": [
    "l1.insert(4,\"Irfan\")"
   ]
  },
  {
   "cell_type": "code",
   "execution_count": 67,
   "id": "43d54a26",
   "metadata": {},
   "outputs": [
    {
     "data": {
      "text/plain": [
       "[False, True, 52, 'hii', 'Irfan']"
      ]
     },
     "execution_count": 67,
     "metadata": {},
     "output_type": "execute_result"
    }
   ],
   "source": [
    "l1"
   ]
  },
  {
   "cell_type": "code",
   "execution_count": 70,
   "id": "e6db718d",
   "metadata": {},
   "outputs": [],
   "source": [
    "l2=['a','b','l','z','d']"
   ]
  },
  {
   "cell_type": "code",
   "execution_count": 71,
   "id": "5f0cacbf",
   "metadata": {},
   "outputs": [],
   "source": [
    "l2.sort()"
   ]
  },
  {
   "cell_type": "code",
   "execution_count": 72,
   "id": "37450565",
   "metadata": {},
   "outputs": [
    {
     "data": {
      "text/plain": [
       "['a', 'b', 'd', 'l', 'z']"
      ]
     },
     "execution_count": 72,
     "metadata": {},
     "output_type": "execute_result"
    }
   ],
   "source": [
    "l2"
   ]
  },
  {
   "cell_type": "code",
   "execution_count": 73,
   "id": "fa36bc6d",
   "metadata": {},
   "outputs": [
    {
     "data": {
      "text/plain": [
       "['a', 'b', 'd', 'l', 'z', 'a', 'b', 'd', 'l', 'z', 'a', 'b', 'd', 'l', 'z']"
      ]
     },
     "execution_count": 73,
     "metadata": {},
     "output_type": "execute_result"
    }
   ],
   "source": [
    "l2*3"
   ]
  },
  {
   "cell_type": "code",
   "execution_count": 74,
   "id": "ef08ebe7",
   "metadata": {},
   "outputs": [
    {
     "data": {
      "text/plain": [
       "['a', 'b', 'd', 'l', 'z', False, True, 52, 'hii', 'Irfan']"
      ]
     },
     "execution_count": 74,
     "metadata": {},
     "output_type": "execute_result"
    }
   ],
   "source": [
    "l2+l1"
   ]
  },
  {
   "cell_type": "code",
   "execution_count": 76,
   "id": "22ee55b1",
   "metadata": {},
   "outputs": [],
   "source": [
    "d={'appl':100,'mango':50,\"gwawa\":70,'banana':80}"
   ]
  },
  {
   "cell_type": "code",
   "execution_count": 77,
   "id": "e92b88dd",
   "metadata": {},
   "outputs": [
    {
     "data": {
      "text/plain": [
       "dict"
      ]
     },
     "execution_count": 77,
     "metadata": {},
     "output_type": "execute_result"
    }
   ],
   "source": [
    "type(d)"
   ]
  },
  {
   "cell_type": "code",
   "execution_count": 78,
   "id": "4d4d4651",
   "metadata": {},
   "outputs": [
    {
     "data": {
      "text/plain": [
       "dict_keys(['appl', 'mango', 'gwawa', 'banana'])"
      ]
     },
     "execution_count": 78,
     "metadata": {},
     "output_type": "execute_result"
    }
   ],
   "source": [
    "d.keys()"
   ]
  },
  {
   "cell_type": "code",
   "execution_count": 80,
   "id": "58835686",
   "metadata": {},
   "outputs": [
    {
     "data": {
      "text/plain": [
       "dict_values([100, 50, 70, 80])"
      ]
     },
     "execution_count": 80,
     "metadata": {},
     "output_type": "execute_result"
    }
   ],
   "source": [
    "d.values()"
   ]
  },
  {
   "cell_type": "code",
   "execution_count": 82,
   "id": "227a1650",
   "metadata": {},
   "outputs": [],
   "source": [
    "d['xyz']=100"
   ]
  },
  {
   "cell_type": "code",
   "execution_count": 83,
   "id": "9e086f8f",
   "metadata": {},
   "outputs": [
    {
     "data": {
      "text/plain": [
       "{'appl': 100, 'mango': 50, 'gwawa': 70, 'banana': 80, 'xyz': 100}"
      ]
     },
     "execution_count": 83,
     "metadata": {},
     "output_type": "execute_result"
    }
   ],
   "source": [
    "d"
   ]
  },
  {
   "cell_type": "code",
   "execution_count": 86,
   "id": "be323fc5",
   "metadata": {},
   "outputs": [],
   "source": [
    "d['appl']=150"
   ]
  },
  {
   "cell_type": "code",
   "execution_count": 87,
   "id": "fb400ead",
   "metadata": {},
   "outputs": [
    {
     "data": {
      "text/plain": [
       "{'appl': 150, 'mango': 50, 'gwawa': 70, 'banana': 80, 'xyz': 100, 'd': 150}"
      ]
     },
     "execution_count": 87,
     "metadata": {},
     "output_type": "execute_result"
    }
   ],
   "source": [
    "d"
   ]
  },
  {
   "cell_type": "code",
   "execution_count": 88,
   "id": "774d1fb9",
   "metadata": {},
   "outputs": [],
   "source": [
    "d1={'chapl':120,'tupl':50,'rupl':90}"
   ]
  },
  {
   "cell_type": "code",
   "execution_count": 89,
   "id": "41588e51",
   "metadata": {},
   "outputs": [],
   "source": [
    "d.update(d1)"
   ]
  },
  {
   "cell_type": "code",
   "execution_count": 90,
   "id": "9a5b5700",
   "metadata": {},
   "outputs": [
    {
     "data": {
      "text/plain": [
       "{'appl': 150,\n",
       " 'mango': 50,\n",
       " 'gwawa': 70,\n",
       " 'banana': 80,\n",
       " 'xyz': 100,\n",
       " 'd': 150,\n",
       " 'chapl': 120,\n",
       " 'tupl': 50,\n",
       " 'rupl': 90}"
      ]
     },
     "execution_count": 90,
     "metadata": {},
     "output_type": "execute_result"
    }
   ],
   "source": [
    "d"
   ]
  },
  {
   "cell_type": "code",
   "execution_count": 91,
   "id": "9cc42745",
   "metadata": {},
   "outputs": [
    {
     "data": {
      "text/plain": [
       "150"
      ]
     },
     "execution_count": 91,
     "metadata": {},
     "output_type": "execute_result"
    }
   ],
   "source": [
    "d.pop('appl')"
   ]
  },
  {
   "cell_type": "code",
   "execution_count": 92,
   "id": "06f86541",
   "metadata": {},
   "outputs": [
    {
     "data": {
      "text/plain": [
       "{'mango': 50,\n",
       " 'gwawa': 70,\n",
       " 'banana': 80,\n",
       " 'xyz': 100,\n",
       " 'd': 150,\n",
       " 'chapl': 120,\n",
       " 'tupl': 50,\n",
       " 'rupl': 90}"
      ]
     },
     "execution_count": 92,
     "metadata": {},
     "output_type": "execute_result"
    }
   ],
   "source": [
    "d"
   ]
  },
  {
   "cell_type": "code",
   "execution_count": 93,
   "id": "50dc5534",
   "metadata": {},
   "outputs": [],
   "source": [
    "s={1,\"a\",True}"
   ]
  },
  {
   "cell_type": "code",
   "execution_count": 94,
   "id": "6a4d9893",
   "metadata": {},
   "outputs": [
    {
     "data": {
      "text/plain": [
       "set"
      ]
     },
     "execution_count": 94,
     "metadata": {},
     "output_type": "execute_result"
    }
   ],
   "source": [
    "type(s)"
   ]
  },
  {
   "cell_type": "code",
   "execution_count": 102,
   "id": "331d473b",
   "metadata": {},
   "outputs": [],
   "source": [
    "s={1,\"a\",\"a\"}"
   ]
  },
  {
   "cell_type": "code",
   "execution_count": 103,
   "id": "9d29cce5",
   "metadata": {},
   "outputs": [
    {
     "data": {
      "text/plain": [
       "{1, 'a'}"
      ]
     },
     "execution_count": 103,
     "metadata": {},
     "output_type": "execute_result"
    }
   ],
   "source": [
    "s"
   ]
  },
  {
   "cell_type": "code",
   "execution_count": 104,
   "id": "eda4e5f0",
   "metadata": {},
   "outputs": [],
   "source": [
    "s.add(\"hello\")"
   ]
  },
  {
   "cell_type": "code",
   "execution_count": 105,
   "id": "4ef77117",
   "metadata": {},
   "outputs": [
    {
     "data": {
      "text/plain": [
       "{1, 'a', 'hello'}"
      ]
     },
     "execution_count": 105,
     "metadata": {},
     "output_type": "execute_result"
    }
   ],
   "source": [
    "s"
   ]
  },
  {
   "cell_type": "code",
   "execution_count": 106,
   "id": "c58ece9b",
   "metadata": {},
   "outputs": [],
   "source": [
    "s.update([10,20,30,\"hi\"])"
   ]
  },
  {
   "cell_type": "code",
   "execution_count": 107,
   "id": "4047f80a",
   "metadata": {},
   "outputs": [
    {
     "data": {
      "text/plain": [
       "{1, 10, 20, 30, 'a', 'hello', 'hi'}"
      ]
     },
     "execution_count": 107,
     "metadata": {},
     "output_type": "execute_result"
    }
   ],
   "source": [
    "s"
   ]
  },
  {
   "cell_type": "code",
   "execution_count": 108,
   "id": "56932519",
   "metadata": {},
   "outputs": [],
   "source": [
    "s.remove('hi')"
   ]
  },
  {
   "cell_type": "code",
   "execution_count": 109,
   "id": "2e10dd85",
   "metadata": {},
   "outputs": [
    {
     "data": {
      "text/plain": [
       "{1, 10, 20, 30, 'a', 'hello'}"
      ]
     },
     "execution_count": 109,
     "metadata": {},
     "output_type": "execute_result"
    }
   ],
   "source": [
    "s"
   ]
  },
  {
   "cell_type": "code",
   "execution_count": 114,
   "id": "912fb93b",
   "metadata": {},
   "outputs": [],
   "source": [
    "s1={\"a\",5,65,\"b\",\"cd\"}\n",
    "s2={1,2,5,5,65}"
   ]
  },
  {
   "cell_type": "code",
   "execution_count": 115,
   "id": "8fd53db7",
   "metadata": {},
   "outputs": [
    {
     "data": {
      "text/plain": [
       "{1, 2, 5, 65, 'a', 'b', 'cd'}"
      ]
     },
     "execution_count": 115,
     "metadata": {},
     "output_type": "execute_result"
    }
   ],
   "source": [
    "s1.union(s2)"
   ]
  },
  {
   "cell_type": "code",
   "execution_count": 116,
   "id": "9b7d51c7",
   "metadata": {},
   "outputs": [
    {
     "data": {
      "text/plain": [
       "{5, 65}"
      ]
     },
     "execution_count": 116,
     "metadata": {},
     "output_type": "execute_result"
    }
   ],
   "source": [
    "s1.intersection(s2)"
   ]
  },
  {
   "cell_type": "code",
   "execution_count": null,
   "id": "def8db12",
   "metadata": {},
   "outputs": [],
   "source": []
  }
 ],
 "metadata": {
  "kernelspec": {
   "display_name": "Python 3 (ipykernel)",
   "language": "python",
   "name": "python3"
  },
  "language_info": {
   "codemirror_mode": {
    "name": "ipython",
    "version": 3
   },
   "file_extension": ".py",
   "mimetype": "text/x-python",
   "name": "python",
   "nbconvert_exporter": "python",
   "pygments_lexer": "ipython3",
   "version": "3.9.7"
  }
 },
 "nbformat": 4,
 "nbformat_minor": 5
}
