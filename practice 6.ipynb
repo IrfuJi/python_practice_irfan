{
 "cells": [
  {
   "cell_type": "code",
   "execution_count": 1,
   "id": "a4736cbc",
   "metadata": {},
   "outputs": [],
   "source": [
    " import re"
   ]
  },
  {
   "cell_type": "code",
   "execution_count": 8,
   "id": "ce3c035c",
   "metadata": {},
   "outputs": [],
   "source": [
    "pattern='[parq]'\n",
    "data=\"hi all apcbvmnb rtqn xyzppp rry qqu\""
   ]
  },
  {
   "cell_type": "code",
   "execution_count": 9,
   "id": "d087efef",
   "metadata": {},
   "outputs": [
    {
     "name": "stdout",
     "output_type": "stream",
     "text": [
      "['a', 'p', 'r', 'q', 'p', 'p', 'p', 'r', 'r', 'q', 'q']\n"
     ]
    }
   ],
   "source": [
    "print(re.findall(pattern,data))"
   ]
  },
  {
   "cell_type": "code",
   "execution_count": 11,
   "id": "27f0f045",
   "metadata": {},
   "outputs": [
    {
     "name": "stdout",
     "output_type": "stream",
     "text": [
      "['a']\n"
     ]
    }
   ],
   "source": [
    "print(re.findall('^a','apple is a fruit'))"
   ]
  },
  {
   "cell_type": "code",
   "execution_count": 20,
   "id": "6c7328e5",
   "metadata": {},
   "outputs": [],
   "source": [
    "p='s$'\n",
    "data=\"people reads lots of blogs\""
   ]
  },
  {
   "cell_type": "code",
   "execution_count": 21,
   "id": "4b993d79",
   "metadata": {},
   "outputs": [
    {
     "name": "stdout",
     "output_type": "stream",
     "text": [
      "['s']\n"
     ]
    }
   ],
   "source": [
    "print(re.findall(p,data))"
   ]
  },
  {
   "cell_type": "code",
   "execution_count": 27,
   "id": "b1611a35",
   "metadata": {},
   "outputs": [
    {
     "ename": "NameError",
     "evalue": "name 'pi' is not defined",
     "output_type": "error",
     "traceback": [
      "\u001b[1;31m---------------------------------------------------------------------------\u001b[0m",
      "\u001b[1;31mNameError\u001b[0m                                 Traceback (most recent call last)",
      "\u001b[1;32m~\\AppData\\Local\\Temp/ipykernel_2700/4262433626.py\u001b[0m in \u001b[0;36m<module>\u001b[1;34m\u001b[0m\n\u001b[0;32m      1\u001b[0m \u001b[1;32mimport\u001b[0m \u001b[0mre\u001b[0m\u001b[1;33m\u001b[0m\u001b[1;33m\u001b[0m\u001b[0m\n\u001b[0;32m      2\u001b[0m \u001b[1;33m\u001b[0m\u001b[0m\n\u001b[1;32m----> 3\u001b[1;33m \u001b[0mp\u001b[0m\u001b[1;33m=\u001b[0m\u001b[0mpi\u001b[0m\u001b[1;33m*\u001b[0m\u001b[0mn\u001b[0m\u001b[1;33m\u001b[0m\u001b[1;33m\u001b[0m\u001b[0m\n\u001b[0m\u001b[0;32m      4\u001b[0m \u001b[0mdata\u001b[0m\u001b[1;33m=\u001b[0m\u001b[1;34m\"pin\"\u001b[0m\u001b[1;33m\u001b[0m\u001b[1;33m\u001b[0m\u001b[0m\n\u001b[0;32m      5\u001b[0m \u001b[0mprint\u001b[0m\u001b[1;33m(\u001b[0m\u001b[0mre\u001b[0m\u001b[1;33m.\u001b[0m\u001b[0mfindall\u001b[0m\u001b[1;33m(\u001b[0m\u001b[0mp\u001b[0m\u001b[1;33m,\u001b[0m\u001b[0mdata\u001b[0m\u001b[1;33m)\u001b[0m\u001b[1;33m)\u001b[0m\u001b[1;33m\u001b[0m\u001b[1;33m\u001b[0m\u001b[0m\n",
      "\u001b[1;31mNameError\u001b[0m: name 'pi' is not defined"
     ]
    }
   ],
   "source": [
    "import re\n",
    "\n",
    "p=pi*n\n",
    "data=\"pin\"\n",
    "print(re.findall(p,data))"
   ]
  },
  {
   "cell_type": "code",
   "execution_count": 62,
   "id": "fbb4d0cb",
   "metadata": {},
   "outputs": [
    {
     "name": "stdout",
     "output_type": "stream",
     "text": [
      "['n']\n"
     ]
    }
   ],
   "source": [
    "p='t*n'\n",
    "data=\"tin\"\n",
    "print(re.findall(p,data))"
   ]
  },
  {
   "cell_type": "code",
   "execution_count": 54,
   "id": "1e23dd29",
   "metadata": {},
   "outputs": [],
   "source": [
    "p='pi*n'\n",
    "data='piin'\n",
    "m=re.match(p,data)"
   ]
  },
  {
   "cell_type": "code",
   "execution_count": 55,
   "id": "230e7dcd",
   "metadata": {},
   "outputs": [
    {
     "name": "stdout",
     "output_type": "stream",
     "text": [
      "match\n"
     ]
    }
   ],
   "source": [
    "if (m):\n",
    "    print(\"match\")\n",
    "else:\n",
    "    print(\"no match\")"
   ]
  },
  {
   "cell_type": "code",
   "execution_count": 60,
   "id": "53461de4",
   "metadata": {},
   "outputs": [],
   "source": [
    "p='pi+n'\n",
    "data='piiiiin'\n",
    "n=re.match(p,data)"
   ]
  },
  {
   "cell_type": "code",
   "execution_count": 61,
   "id": "a2aba8ea",
   "metadata": {},
   "outputs": [
    {
     "name": "stdout",
     "output_type": "stream",
     "text": [
      "match\n"
     ]
    }
   ],
   "source": [
    "if (n):\n",
    "    print(\"match\")\n",
    "else:\n",
    "    print(\"no match\")"
   ]
  },
  {
   "cell_type": "code",
   "execution_count": 75,
   "id": "b522f2aa",
   "metadata": {},
   "outputs": [],
   "source": [
    "p='pi?n'\n",
    "data='pin'\n",
    "m=re.match(p,data)"
   ]
  },
  {
   "cell_type": "code",
   "execution_count": 76,
   "id": "4443888b",
   "metadata": {},
   "outputs": [
    {
     "name": "stdout",
     "output_type": "stream",
     "text": [
      "match\n"
     ]
    }
   ],
   "source": [
    "if(m):\n",
    "    print(\"match\")\n",
    "else:\n",
    "    print(\"no mATCH\")"
   ]
  },
  {
   "cell_type": "code",
   "execution_count": 81,
   "id": "fd018904",
   "metadata": {},
   "outputs": [],
   "source": [
    "r='\\d+'\n",
    "s='hi 123 hello 2535513023'\n",
    "result=re.split(r,s)"
   ]
  },
  {
   "cell_type": "code",
   "execution_count": 82,
   "id": "f10e8f89",
   "metadata": {},
   "outputs": [
    {
     "data": {
      "text/plain": [
       "['hi ', ' hello ', '']"
      ]
     },
     "execution_count": 82,
     "metadata": {},
     "output_type": "execute_result"
    }
   ],
   "source": [
    "result"
   ]
  },
  {
   "cell_type": "code",
   "execution_count": 83,
   "id": "569dfba0",
   "metadata": {},
   "outputs": [],
   "source": [
    "p='\\d+'\n",
    "s='hi12 hellllo45'\n",
    "replace='!!!!!!'"
   ]
  },
  {
   "cell_type": "code",
   "execution_count": 84,
   "id": "4d2266c3",
   "metadata": {},
   "outputs": [
    {
     "data": {
      "text/plain": [
       "'hi!!!!!! hellllo!!!!!!'"
      ]
     },
     "execution_count": 84,
     "metadata": {},
     "output_type": "execute_result"
    }
   ],
   "source": [
    "re.sub(p,replace,s)"
   ]
  },
  {
   "cell_type": "code",
   "execution_count": 85,
   "id": "21cad39e",
   "metadata": {},
   "outputs": [],
   "source": [
    "import re"
   ]
  },
  {
   "cell_type": "code",
   "execution_count": 86,
   "id": "8c6f3620",
   "metadata": {},
   "outputs": [
    {
     "name": "stdout",
     "output_type": "stream",
     "text": [
      "origional: python    exersises\n",
      "spaces: python exersises\n"
     ]
    }
   ],
   "source": [
    "text1='python    exersises'\n",
    "print(\"origional:\",text1)\n",
    "print(\"spaces:\",re.sub('\\s+',' ',text1))"
   ]
  },
  {
   "cell_type": "code",
   "execution_count": 9,
   "id": "259a17b1",
   "metadata": {},
   "outputs": [
    {
     "name": "stdout",
     "output_type": "stream",
     "text": [
      "enter string hi hi hi hi\n",
      "origional data:  hi hi hi hi\n",
      "string without whitespace: hihihihi\n"
     ]
    }
   ],
   "source": [
    "import re\n",
    "p='\\s+'\n",
    "s=input(\"enter string\")\n",
    "print(\"origional data:\",s)\n",
    "replace=''\n",
    "r=re.sub(p,replace,s)\n",
    "print(\"string without whitespace:\",r)"
   ]
  },
  {
   "cell_type": "code",
   "execution_count": 10,
   "id": "33f7ec31",
   "metadata": {},
   "outputs": [],
   "source": [
    "p='\\s+'\n",
    "t='hi hello all'\n",
    "s=re.search(p,t)"
   ]
  },
  {
   "cell_type": "code",
   "execution_count": 11,
   "id": "5de47219",
   "metadata": {},
   "outputs": [
    {
     "name": "stdout",
     "output_type": "stream",
     "text": [
      "match\n"
     ]
    }
   ],
   "source": [
    "if(s):\n",
    "    print(\"match\")\n",
    "else:\n",
    "    print(\"no match\")"
   ]
  },
  {
   "cell_type": "code",
   "execution_count": null,
   "id": "b2878824",
   "metadata": {},
   "outputs": [],
   "source": []
  },
  {
   "cell_type": "code",
   "execution_count": null,
   "id": "697d2ae8",
   "metadata": {},
   "outputs": [],
   "source": []
  },
  {
   "cell_type": "code",
   "execution_count": null,
   "id": "984b466b",
   "metadata": {},
   "outputs": [],
   "source": []
  },
  {
   "cell_type": "code",
   "execution_count": null,
   "id": "405dfbea",
   "metadata": {},
   "outputs": [],
   "source": []
  },
  {
   "cell_type": "code",
   "execution_count": null,
   "id": "ab189c25",
   "metadata": {},
   "outputs": [],
   "source": []
  },
  {
   "cell_type": "code",
   "execution_count": null,
   "id": "d054b6df",
   "metadata": {},
   "outputs": [],
   "source": []
  }
 ],
 "metadata": {
  "kernelspec": {
   "display_name": "Python 3 (ipykernel)",
   "language": "python",
   "name": "python3"
  },
  "language_info": {
   "codemirror_mode": {
    "name": "ipython",
    "version": 3
   },
   "file_extension": ".py",
   "mimetype": "text/x-python",
   "name": "python",
   "nbconvert_exporter": "python",
   "pygments_lexer": "ipython3",
   "version": "3.9.7"
  }
 },
 "nbformat": 4,
 "nbformat_minor": 5
}
