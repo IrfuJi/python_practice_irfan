{
 "cells": [
  {
   "cell_type": "code",
   "execution_count": 1,
   "id": "3ccf9394",
   "metadata": {},
   "outputs": [],
   "source": [
    "#map filter"
   ]
  },
  {
   "cell_type": "markdown",
   "id": "408dafbe",
   "metadata": {},
   "source": [
    "l=[1,2,3,4,5,6,7,8,9,10,11,12,13]\n"
   ]
  },
  {
   "cell_type": "code",
   "execution_count": 2,
   "id": "32b39b00",
   "metadata": {},
   "outputs": [],
   "source": [
    "l=[1,2,3,4,5,6,7,8,9,10,11,12]"
   ]
  },
  {
   "cell_type": "code",
   "execution_count": 3,
   "id": "fcccc9d0",
   "metadata": {},
   "outputs": [
    {
     "name": "stdout",
     "output_type": "stream",
     "text": [
      "[9, 10, 11, 12]\n"
     ]
    }
   ],
   "source": [
    "ret=[]\n",
    "for x in l:\n",
    "    if (x>8):\n",
    "        ret.append(x)\n",
    "print(ret)        "
   ]
  },
  {
   "cell_type": "code",
   "execution_count": 4,
   "id": "1149ee15",
   "metadata": {},
   "outputs": [
    {
     "name": "stdout",
     "output_type": "stream",
     "text": [
      "9\n",
      "10\n",
      "11\n",
      "12\n"
     ]
    }
   ],
   "source": [
    "y=lambda x:x>8\n",
    "r=filter (y,l)\n",
    "for i in r:\n",
    "    print(i)"
   ]
  },
  {
   "cell_type": "code",
   "execution_count": 5,
   "id": "00f7bad4",
   "metadata": {},
   "outputs": [],
   "source": [
    "def fun(x):\n",
    "    if(x>8):\n",
    "        return True\n",
    "    else:\n",
    "        return False"
   ]
  },
  {
   "cell_type": "code",
   "execution_count": 7,
   "id": "eb5bf28c",
   "metadata": {},
   "outputs": [
    {
     "name": "stdout",
     "output_type": "stream",
     "text": [
      "9\n",
      "10\n",
      "11\n",
      "12\n"
     ]
    }
   ],
   "source": [
    "t=filter (fun,l)\n",
    "for i in t:\n",
    "    print(i)"
   ]
  },
  {
   "cell_type": "code",
   "execution_count": 8,
   "id": "103cdd11",
   "metadata": {},
   "outputs": [],
   "source": [
    "l=[1,2,3,4,5]"
   ]
  },
  {
   "cell_type": "code",
   "execution_count": 10,
   "id": "325d97d5",
   "metadata": {},
   "outputs": [
    {
     "name": "stdout",
     "output_type": "stream",
     "text": [
      "[1, 4, 9, 16, 25]\n"
     ]
    }
   ],
   "source": [
    "l1=[]\n",
    "for x in l:\n",
    "    l1.append(x**2)\n",
    "print(l1)"
   ]
  },
  {
   "cell_type": "code",
   "execution_count": 12,
   "id": "c0eeb511",
   "metadata": {},
   "outputs": [],
   "source": [
    "l=[1,2,3,4,5]"
   ]
  },
  {
   "cell_type": "code",
   "execution_count": 14,
   "id": "c64a064d",
   "metadata": {},
   "outputs": [
    {
     "name": "stdout",
     "output_type": "stream",
     "text": [
      "squaring the element in list [1, 2, 3, 4, 5]=[1, 4, 9, 16, 25]\n"
     ]
    }
   ],
   "source": [
    "l1=[]\n",
    "for i in l:\n",
    "    l1.append(i**2)\n",
    "print(\"squaring the element in list {0}={1}\".format(l,l1))    "
   ]
  },
  {
   "cell_type": "code",
   "execution_count": 19,
   "id": "bafb013b",
   "metadata": {},
   "outputs": [],
   "source": [
    "y=lambda x:x**2"
   ]
  },
  {
   "cell_type": "code",
   "execution_count": 18,
   "id": "ac9af2cf",
   "metadata": {},
   "outputs": [
    {
     "name": "stdout",
     "output_type": "stream",
     "text": [
      "1\n",
      "4\n",
      "9\n",
      "16\n",
      "25\n"
     ]
    }
   ],
   "source": [
    "r=map(y,l)\n",
    "for i in r:\n",
    "      print(i)"
   ]
  },
  {
   "cell_type": "code",
   "execution_count": 1,
   "id": "cc417df5",
   "metadata": {},
   "outputs": [],
   "source": [
    "l=['python','programming','cpp','c programming']"
   ]
  },
  {
   "cell_type": "code",
   "execution_count": 2,
   "id": "b38c2b0c",
   "metadata": {},
   "outputs": [],
   "source": [
    "y=lambda l:len(l)"
   ]
  },
  {
   "cell_type": "code",
   "execution_count": 3,
   "id": "fa58931c",
   "metadata": {},
   "outputs": [
    {
     "name": "stdout",
     "output_type": "stream",
     "text": [
      "Displaying string length of elements in list: ['python', 'programming', 'cpp', 'c programming']\n",
      "6\n",
      "11\n",
      "3\n",
      "13\n"
     ]
    }
   ],
   "source": [
    "r=map(y,l)\n",
    "print(\"Displaying string length of elements in list:\",l)\n",
    "for i in r:\n",
    "    print(i)"
   ]
  },
  {
   "cell_type": "code",
   "execution_count": 26,
   "id": "2e21bb12",
   "metadata": {},
   "outputs": [],
   "source": [
    "#length more than "
   ]
  },
  {
   "cell_type": "code",
   "execution_count": 9,
   "id": "b3e5155b",
   "metadata": {},
   "outputs": [],
   "source": [
    "y=lambda l:len(l)>10"
   ]
  },
  {
   "cell_type": "code",
   "execution_count": 10,
   "id": "380181bc",
   "metadata": {},
   "outputs": [
    {
     "name": "stdout",
     "output_type": "stream",
     "text": [
      "Displaying string length of elements in list{0} whose length is greater than 10: ['python', 'programming', 'cpp', 'c programming']\n",
      "programming\n",
      "c programming\n"
     ]
    }
   ],
   "source": [
    "t=filter(y,l)\n",
    "print(\"Displaying string length of elements in list{0} whose length is greater than 10:\",l)\n",
    "for i in t:\n",
    "    print(i)"
   ]
  },
  {
   "cell_type": "code",
   "execution_count": 32,
   "id": "0b4cddb1",
   "metadata": {},
   "outputs": [],
   "source": [
    "#nested function , fun in another fun"
   ]
  },
  {
   "cell_type": "code",
   "execution_count": 1,
   "id": "ad0002e0",
   "metadata": {},
   "outputs": [],
   "source": [
    "def outer():\n",
    "    print(\"inside outer\")\n",
    "    def inner():\n",
    "        print(\"inside inner\")"
   ]
  },
  {
   "cell_type": "code",
   "execution_count": 2,
   "id": "62e53c87",
   "metadata": {},
   "outputs": [
    {
     "ename": "NameError",
     "evalue": "name 'inner' is not defined",
     "output_type": "error",
     "traceback": [
      "\u001b[1;31m---------------------------------------------------------------------------\u001b[0m",
      "\u001b[1;31mNameError\u001b[0m                                 Traceback (most recent call last)",
      "\u001b[1;32m~\\AppData\\Local\\Temp/ipykernel_6796/2697967970.py\u001b[0m in \u001b[0;36m<module>\u001b[1;34m\u001b[0m\n\u001b[1;32m----> 1\u001b[1;33m \u001b[0minner\u001b[0m\u001b[1;33m(\u001b[0m\u001b[1;33m)\u001b[0m\u001b[1;33m\u001b[0m\u001b[1;33m\u001b[0m\u001b[0m\n\u001b[0m",
      "\u001b[1;31mNameError\u001b[0m: name 'inner' is not defined"
     ]
    }
   ],
   "source": [
    "inner()"
   ]
  },
  {
   "cell_type": "code",
   "execution_count": 3,
   "id": "603a80c9",
   "metadata": {},
   "outputs": [],
   "source": [
    "def outer():\n",
    "    print(\"inside outer\")\n",
    "    def inner():\n",
    "        print(\"inside inner\")"
   ]
  },
  {
   "cell_type": "code",
   "execution_count": 5,
   "id": "038a21eb",
   "metadata": {},
   "outputs": [
    {
     "name": "stdout",
     "output_type": "stream",
     "text": [
      "inside outer\n"
     ]
    }
   ],
   "source": [
    "outer()"
   ]
  },
  {
   "cell_type": "code",
   "execution_count": null,
   "id": "419f5689",
   "metadata": {},
   "outputs": [],
   "source": []
  }
 ],
 "metadata": {
  "kernelspec": {
   "display_name": "Python 3 (ipykernel)",
   "language": "python",
   "name": "python3"
  },
  "language_info": {
   "codemirror_mode": {
    "name": "ipython",
    "version": 3
   },
   "file_extension": ".py",
   "mimetype": "text/x-python",
   "name": "python",
   "nbconvert_exporter": "python",
   "pygments_lexer": "ipython3",
   "version": "3.9.7"
  }
 },
 "nbformat": 4,
 "nbformat_minor": 5
}
