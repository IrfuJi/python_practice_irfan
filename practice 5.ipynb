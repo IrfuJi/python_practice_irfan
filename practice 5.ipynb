{
 "cells": [
  {
   "cell_type": "code",
   "execution_count": 8,
   "id": "7cbd0778",
   "metadata": {},
   "outputs": [],
   "source": [
    "def outer():\n",
    "    print(\"inside outer\")\n",
    "    def inner():\n",
    "        print(\"inside inner\")\n",
    "    inner()"
   ]
  },
  {
   "cell_type": "code",
   "execution_count": 9,
   "id": "57b692aa",
   "metadata": {},
   "outputs": [
    {
     "name": "stdout",
     "output_type": "stream",
     "text": [
      "inside outer\n",
      "inside inner\n"
     ]
    }
   ],
   "source": [
    "outer()"
   ]
  },
  {
   "cell_type": "code",
   "execution_count": 10,
   "id": "1f81955e",
   "metadata": {},
   "outputs": [],
   "source": [
    "def sample(a):\n",
    "    print(\"a=\",a)\n",
    "    def fun():\n",
    "        print(\"a=\",a)\n",
    "    fun()    "
   ]
  },
  {
   "cell_type": "code",
   "execution_count": 11,
   "id": "b8ab8029",
   "metadata": {},
   "outputs": [
    {
     "name": "stdout",
     "output_type": "stream",
     "text": [
      "a= 15\n",
      "a= 15\n"
     ]
    }
   ],
   "source": [
    "sample(15)"
   ]
  },
  {
   "cell_type": "code",
   "execution_count": 12,
   "id": "8bc560b7",
   "metadata": {},
   "outputs": [],
   "source": [
    "def sample(a):\n",
    "    print(\"a=\",a)\n",
    "    def fun(x):\n",
    "        print(\"a=\",a)\n",
    "        print(\"x=\",x)\n",
    "    fun(12)\n",
    "    print(\"x=\",x)"
   ]
  },
  {
   "cell_type": "code",
   "execution_count": 13,
   "id": "a7857046",
   "metadata": {},
   "outputs": [
    {
     "name": "stdout",
     "output_type": "stream",
     "text": [
      "a= 20\n",
      "a= 20\n",
      "x= 12\n"
     ]
    },
    {
     "ename": "NameError",
     "evalue": "name 'x' is not defined",
     "output_type": "error",
     "traceback": [
      "\u001b[1;31m---------------------------------------------------------------------------\u001b[0m",
      "\u001b[1;31mNameError\u001b[0m                                 Traceback (most recent call last)",
      "\u001b[1;32m~\\AppData\\Local\\Temp/ipykernel_944/1164405448.py\u001b[0m in \u001b[0;36m<module>\u001b[1;34m\u001b[0m\n\u001b[1;32m----> 1\u001b[1;33m \u001b[0msample\u001b[0m\u001b[1;33m(\u001b[0m\u001b[1;36m20\u001b[0m\u001b[1;33m)\u001b[0m\u001b[1;33m\u001b[0m\u001b[1;33m\u001b[0m\u001b[0m\n\u001b[0m",
      "\u001b[1;32m~\\AppData\\Local\\Temp/ipykernel_944/3726970539.py\u001b[0m in \u001b[0;36msample\u001b[1;34m(a)\u001b[0m\n\u001b[0;32m      5\u001b[0m         \u001b[0mprint\u001b[0m\u001b[1;33m(\u001b[0m\u001b[1;34m\"x=\"\u001b[0m\u001b[1;33m,\u001b[0m\u001b[0mx\u001b[0m\u001b[1;33m)\u001b[0m\u001b[1;33m\u001b[0m\u001b[1;33m\u001b[0m\u001b[0m\n\u001b[0;32m      6\u001b[0m     \u001b[0mfun\u001b[0m\u001b[1;33m(\u001b[0m\u001b[1;36m12\u001b[0m\u001b[1;33m)\u001b[0m\u001b[1;33m\u001b[0m\u001b[1;33m\u001b[0m\u001b[0m\n\u001b[1;32m----> 7\u001b[1;33m     \u001b[0mprint\u001b[0m\u001b[1;33m(\u001b[0m\u001b[1;34m\"x=\"\u001b[0m\u001b[1;33m,\u001b[0m\u001b[0mx\u001b[0m\u001b[1;33m)\u001b[0m\u001b[1;33m\u001b[0m\u001b[1;33m\u001b[0m\u001b[0m\n\u001b[0m",
      "\u001b[1;31mNameError\u001b[0m: name 'x' is not defined"
     ]
    }
   ],
   "source": [
    "sample(20)"
   ]
  },
  {
   "cell_type": "code",
   "execution_count": 14,
   "id": "6f555527",
   "metadata": {},
   "outputs": [],
   "source": [
    "def fun1(x):\n",
    "    def inn(y):\n",
    "        print(\"sum=\",x+y)\n",
    "    inn(x)    "
   ]
  },
  {
   "cell_type": "code",
   "execution_count": 15,
   "id": "f0be2ee6",
   "metadata": {},
   "outputs": [
    {
     "name": "stdout",
     "output_type": "stream",
     "text": [
      "sum= 8\n"
     ]
    }
   ],
   "source": [
    "fun1(4)"
   ]
  },
  {
   "cell_type": "code",
   "execution_count": 16,
   "id": "82a44d2f",
   "metadata": {},
   "outputs": [],
   "source": [
    "def fun():\n",
    "    print(\"hello all\")"
   ]
  },
  {
   "cell_type": "code",
   "execution_count": 34,
   "id": "7a4617dd",
   "metadata": {},
   "outputs": [
    {
     "name": "stdout",
     "output_type": "stream",
     "text": [
      "hello all\n"
     ]
    }
   ],
   "source": [
    "p=fun\n",
    "fun()"
   ]
  },
  {
   "cell_type": "code",
   "execution_count": 35,
   "id": "f28cb2a2",
   "metadata": {},
   "outputs": [
    {
     "name": "stdout",
     "output_type": "stream",
     "text": [
      "hello all\n"
     ]
    }
   ],
   "source": [
    "p()"
   ]
  },
  {
   "cell_type": "code",
   "execution_count": 36,
   "id": "8bbd0dc3",
   "metadata": {},
   "outputs": [
    {
     "ename": "SyntaxError",
     "evalue": "invalid syntax (Temp/ipykernel_944/896595904.py, line 1)",
     "output_type": "error",
     "traceback": [
      "\u001b[1;36m  File \u001b[1;32m\"C:\\Users\\dell\\AppData\\Local\\Temp/ipykernel_944/896595904.py\"\u001b[1;36m, line \u001b[1;32m1\u001b[0m\n\u001b[1;33m    def fun()\u001b[0m\n\u001b[1;37m             ^\u001b[0m\n\u001b[1;31mSyntaxError\u001b[0m\u001b[1;31m:\u001b[0m invalid syntax\n"
     ]
    }
   ],
   "source": [
    "def fun()"
   ]
  },
  {
   "cell_type": "code",
   "execution_count": 37,
   "id": "45518e70",
   "metadata": {},
   "outputs": [
    {
     "name": "stdout",
     "output_type": "stream",
     "text": [
      "hello all\n"
     ]
    }
   ],
   "source": [
    "fun()"
   ]
  },
  {
   "cell_type": "code",
   "execution_count": 38,
   "id": "6d3cd3d5",
   "metadata": {},
   "outputs": [
    {
     "name": "stdout",
     "output_type": "stream",
     "text": [
      "hello all\n"
     ]
    }
   ],
   "source": [
    "p()"
   ]
  },
  {
   "cell_type": "code",
   "execution_count": 42,
   "id": "5daa6838",
   "metadata": {},
   "outputs": [],
   "source": [
    "def test(x,y):\n",
    "    def fun():\n",
    "        print(\"inside fun\")\n",
    "    fun()\n",
    "    return x+y"
   ]
  },
  {
   "cell_type": "code",
   "execution_count": 43,
   "id": "aef03a8f",
   "metadata": {},
   "outputs": [
    {
     "name": "stdout",
     "output_type": "stream",
     "text": [
      "inside fun\n",
      "8\n"
     ]
    }
   ],
   "source": [
    "r=test(5,3)\n",
    "print(r)"
   ]
  },
  {
   "cell_type": "code",
   "execution_count": 51,
   "id": "798842bc",
   "metadata": {},
   "outputs": [],
   "source": [
    "def example (a,b,c):\n",
    "    def test():\n",
    "        return a+b+c\n",
    "    r=test()\n",
    "    return r"
   ]
  },
  {
   "cell_type": "code",
   "execution_count": 52,
   "id": "923287d3",
   "metadata": {},
   "outputs": [
    {
     "name": "stdout",
     "output_type": "stream",
     "text": [
      "6\n"
     ]
    }
   ],
   "source": [
    "s=example(1,2,3)\n",
    "print(s)"
   ]
  },
  {
   "cell_type": "code",
   "execution_count": 53,
   "id": "c078c288",
   "metadata": {},
   "outputs": [],
   "source": [
    "def outer(x):\n",
    "    def inner():\n",
    "        print(x)\n",
    "    return inner    "
   ]
  },
  {
   "cell_type": "code",
   "execution_count": 56,
   "id": "1eb623d8",
   "metadata": {},
   "outputs": [
    {
     "name": "stdout",
     "output_type": "stream",
     "text": [
      "hello\n"
     ]
    }
   ],
   "source": [
    "a=outer(\"hello\")\n",
    "a()"
   ]
  },
  {
   "cell_type": "code",
   "execution_count": 57,
   "id": "0cf9484d",
   "metadata": {},
   "outputs": [],
   "source": [
    "del outer"
   ]
  },
  {
   "cell_type": "code",
   "execution_count": 58,
   "id": "5317f819",
   "metadata": {},
   "outputs": [
    {
     "name": "stdout",
     "output_type": "stream",
     "text": [
      "hello\n"
     ]
    }
   ],
   "source": [
    "a()"
   ]
  },
  {
   "cell_type": "code",
   "execution_count": 59,
   "id": "8065cb35",
   "metadata": {},
   "outputs": [],
   "source": [
    "def mul(a):\n",
    "    def sample(b):\n",
    "        return a*b\n",
    "    return sample"
   ]
  },
  {
   "cell_type": "code",
   "execution_count": 60,
   "id": "898a0993",
   "metadata": {},
   "outputs": [
    {
     "name": "stdout",
     "output_type": "stream",
     "text": [
      "12\n"
     ]
    }
   ],
   "source": [
    "x=mul(4)\n",
    "print(x(3))"
   ]
  },
  {
   "cell_type": "code",
   "execution_count": 61,
   "id": "319904e4",
   "metadata": {},
   "outputs": [],
   "source": [
    "def fun():\n",
    "    print(\"hello\")\n",
    "def test(x):\n",
    "    x()"
   ]
  },
  {
   "cell_type": "code",
   "execution_count": 62,
   "id": "88fde355",
   "metadata": {},
   "outputs": [
    {
     "name": "stdout",
     "output_type": "stream",
     "text": [
      "hello\n"
     ]
    }
   ],
   "source": [
    "test(fun)"
   ]
  },
  {
   "cell_type": "code",
   "execution_count": 69,
   "id": "14ffaade",
   "metadata": {},
   "outputs": [
    {
     "name": "stdout",
     "output_type": "stream",
     "text": [
      "6\n"
     ]
    }
   ],
   "source": [
    "def add(q):\n",
    "    return q+1\n",
    "def sub(q):\n",
    "    return q-1\n",
    "def calculate(p,q):\n",
    "    r=p(q)\n",
    "    return r\n",
    "result=calculate(add,5)\n",
    "print(result)"
   ]
  },
  {
   "cell_type": "code",
   "execution_count": 70,
   "id": "6e352282",
   "metadata": {},
   "outputs": [
    {
     "name": "stdout",
     "output_type": "stream",
     "text": [
      "6\n"
     ]
    }
   ],
   "source": [
    "print(result)"
   ]
  },
  {
   "cell_type": "code",
   "execution_count": 71,
   "id": "f3a432fe",
   "metadata": {},
   "outputs": [],
   "source": [
    "def func():\n",
    "    print(\"hello\")"
   ]
  },
  {
   "cell_type": "code",
   "execution_count": 76,
   "id": "84a03aa5",
   "metadata": {},
   "outputs": [],
   "source": [
    "def fun():\n",
    "    return func"
   ]
  },
  {
   "cell_type": "code",
   "execution_count": 77,
   "id": "d49a4b9c",
   "metadata": {},
   "outputs": [
    {
     "name": "stdout",
     "output_type": "stream",
     "text": [
      "hello\n"
     ]
    }
   ],
   "source": [
    "r=fun()\n",
    "r()"
   ]
  },
  {
   "cell_type": "code",
   "execution_count": 106,
   "id": "11cf2e97",
   "metadata": {},
   "outputs": [],
   "source": [
    "def decorator(x):\n",
    "    def inner():\n",
    "        print(\"hii\")\n",
    "        x()\n",
    "    return inner"
   ]
  },
  {
   "cell_type": "code",
   "execution_count": 107,
   "id": "9d3eac7f",
   "metadata": {},
   "outputs": [],
   "source": [
    "def msg():\n",
    "    print(\"hello\")"
   ]
  },
  {
   "cell_type": "code",
   "execution_count": 108,
   "id": "29778c9c",
   "metadata": {},
   "outputs": [
    {
     "name": "stdout",
     "output_type": "stream",
     "text": [
      "hii\n",
      "hello\n"
     ]
    }
   ],
   "source": [
    "y=decorator(msg)\n",
    "y()"
   ]
  },
  {
   "cell_type": "code",
   "execution_count": 104,
   "id": "1c8f6ea3",
   "metadata": {},
   "outputs": [],
   "source": [
    "def decorator(x):\n",
    "    def inner():\n",
    "        print(\"hii\")\n",
    "        x()\n",
    "    return inner\n",
    "@ decorator\n",
    "def msg():\n",
    "    print(\"hello\")"
   ]
  },
  {
   "cell_type": "code",
   "execution_count": 105,
   "id": "b479b8ee",
   "metadata": {},
   "outputs": [
    {
     "name": "stdout",
     "output_type": "stream",
     "text": [
      "hii\n",
      "hello\n"
     ]
    }
   ],
   "source": [
    "msg()"
   ]
  },
  {
   "cell_type": "code",
   "execution_count": 114,
   "id": "1a306f83",
   "metadata": {},
   "outputs": [],
   "source": [
    "def sumofsquares(a):\n",
    "    def s(n1,n2):\n",
    "        c=a(n1**2,n2**2)\n",
    "        return c\n",
    "    return s\n",
    "@ sumofsquares\n",
    "def add(x,y):\n",
    "    return x+y"
   ]
  },
  {
   "cell_type": "code",
   "execution_count": 115,
   "id": "3fa929f6",
   "metadata": {},
   "outputs": [
    {
     "name": "stdout",
     "output_type": "stream",
     "text": [
      "5\n"
     ]
    }
   ],
   "source": [
    "result=add(1,2)\n",
    "print(result)"
   ]
  },
  {
   "cell_type": "code",
   "execution_count": 116,
   "id": "b48f5d24",
   "metadata": {},
   "outputs": [],
   "source": [
    "def decorator(x):\n",
    "    def inner():\n",
    "        c=x()\n",
    "        return c**2\n",
    "    return inner\n",
    "\n",
    "@ decorator\n",
    "def num():\n",
    "    n=int(input(\"enter number\"))\n",
    "    return n"
   ]
  },
  {
   "cell_type": "code",
   "execution_count": 117,
   "id": "b15b35ef",
   "metadata": {},
   "outputs": [
    {
     "name": "stdout",
     "output_type": "stream",
     "text": [
      "enter number10\n"
     ]
    }
   ],
   "source": [
    "c=num()"
   ]
  },
  {
   "cell_type": "code",
   "execution_count": 118,
   "id": "f56ea12d",
   "metadata": {},
   "outputs": [
    {
     "name": "stdout",
     "output_type": "stream",
     "text": [
      "100\n"
     ]
    }
   ],
   "source": [
    "print(c)"
   ]
  },
  {
   "cell_type": "code",
   "execution_count": 119,
   "id": "24283793",
   "metadata": {},
   "outputs": [],
   "source": [
    "def sample(r):\n",
    "    def inner():\n",
    "        c=r()\n",
    "        print(\"square of {0} is {1}\".format(c,c**2))\n",
    "    return inner\n",
    "\n",
    "@ sample\n",
    "def num():\n",
    "    n=int(input(\"enter number\"))\n",
    "    return n"
   ]
  },
  {
   "cell_type": "code",
   "execution_count": 120,
   "id": "398551d7",
   "metadata": {},
   "outputs": [
    {
     "name": "stdout",
     "output_type": "stream",
     "text": [
      "enter number4\n",
      "square of 4 is 16\n"
     ]
    }
   ],
   "source": [
    "p=num()"
   ]
  },
  {
   "cell_type": "code",
   "execution_count": 121,
   "id": "5039c90d",
   "metadata": {},
   "outputs": [],
   "source": [
    "# find 3rd character in string"
   ]
  },
  {
   "cell_type": "code",
   "execution_count": 126,
   "id": "70e34934",
   "metadata": {},
   "outputs": [
    {
     "name": "stdout",
     "output_type": "stream",
     "text": [
      "enter string hello all how are you\n",
      "l\n",
      " \n",
      "l\n",
      "o\n",
      "a\n",
      " \n",
      "u\n"
     ]
    }
   ],
   "source": [
    "s=input(\"enter string\")\n",
    "i=0\n",
    "l=len(s)\n",
    "while(i<l):\n",
    "    i=i+3\n",
    "    if(i<l):\n",
    "        print(s[i])"
   ]
  },
  {
   "cell_type": "code",
   "execution_count": null,
   "id": "d9c4d7b5",
   "metadata": {},
   "outputs": [],
   "source": [
    "#oop"
   ]
  },
  {
   "cell_type": "code",
   "execution_count": 4,
   "id": "a9ad2d87",
   "metadata": {},
   "outputs": [],
   "source": [
    "class test:\n",
    "    a=10\n",
    "    b=20"
   ]
  },
  {
   "cell_type": "code",
   "execution_count": 5,
   "id": "dfcfd786",
   "metadata": {},
   "outputs": [
    {
     "name": "stdout",
     "output_type": "stream",
     "text": [
      "class data a= 10\n",
      "class data b= 20\n"
     ]
    }
   ],
   "source": [
    "x=test()\n",
    "y=test()\n",
    "print(\"class data a=\",x.a)\n",
    "print(\"class data b=\",x.b)"
   ]
  },
  {
   "cell_type": "code",
   "execution_count": 6,
   "id": "a469ae2a",
   "metadata": {},
   "outputs": [
    {
     "name": "stdout",
     "output_type": "stream",
     "text": [
      "class data a= 10\n",
      "class data b= 20\n"
     ]
    }
   ],
   "source": [
    "print(\"class data a=\",y.a)\n",
    "print(\"class data b=\",y.b)"
   ]
  },
  {
   "cell_type": "code",
   "execution_count": 7,
   "id": "51e96d1f",
   "metadata": {},
   "outputs": [],
   "source": [
    "class test:\n",
    "    a=10\n",
    "    b=20\n",
    "    def fun(self):\n",
    "        print(\"hello\")\n",
    "    "
   ]
  },
  {
   "cell_type": "code",
   "execution_count": 8,
   "id": "4302cdd7",
   "metadata": {},
   "outputs": [
    {
     "name": "stdout",
     "output_type": "stream",
     "text": [
      "hello\n"
     ]
    }
   ],
   "source": [
    "obj=test()\n",
    "obj.fun()"
   ]
  },
  {
   "cell_type": "code",
   "execution_count": 16,
   "id": "4e427eda",
   "metadata": {},
   "outputs": [],
   "source": [
    "class test:\n",
    "    x=100\n",
    "    def fun(self,a):\n",
    "        p=12\n",
    "        self.q=a\n",
    "        print(\"the class variable x=\",self.x)\n",
    "        print(\"the instance variable q=\", self.q)"
   ]
  },
  {
   "cell_type": "code",
   "execution_count": 17,
   "id": "9e281f00",
   "metadata": {},
   "outputs": [
    {
     "name": "stdout",
     "output_type": "stream",
     "text": [
      "the class variable x= 100\n",
      "the instance variable q= 19\n"
     ]
    }
   ],
   "source": [
    "obj=test()\n",
    "obj.fun(19)"
   ]
  },
  {
   "cell_type": "code",
   "execution_count": 14,
   "id": "f65b032f",
   "metadata": {},
   "outputs": [
    {
     "name": "stdout",
     "output_type": "stream",
     "text": [
      "the class variable x= 100\n",
      "the instance variable q= 19\n"
     ]
    }
   ],
   "source": [
    "obj.fun1()"
   ]
  },
  {
   "cell_type": "code",
   "execution_count": 18,
   "id": "d22aa7ef",
   "metadata": {},
   "outputs": [
    {
     "name": "stdout",
     "output_type": "stream",
     "text": [
      "100\n"
     ]
    }
   ],
   "source": [
    "print(obj.x)"
   ]
  },
  {
   "cell_type": "code",
   "execution_count": 19,
   "id": "b22ef349",
   "metadata": {},
   "outputs": [
    {
     "name": "stdout",
     "output_type": "stream",
     "text": [
      "19\n"
     ]
    }
   ],
   "source": [
    "print(obj.q)"
   ]
  },
  {
   "cell_type": "code",
   "execution_count": 20,
   "id": "0f140b20",
   "metadata": {},
   "outputs": [],
   "source": [
    "class sample:\n",
    "    def fun(self):\n",
    "        self.a=100\n",
    "    def fun1(self):\n",
    "        self.a=self.a+10\n",
    "        print(\"a=\",self.a)"
   ]
  },
  {
   "cell_type": "code",
   "execution_count": 21,
   "id": "d90da936",
   "metadata": {},
   "outputs": [],
   "source": [
    "b=sample()\n",
    "b.fun()"
   ]
  },
  {
   "cell_type": "code",
   "execution_count": 22,
   "id": "d710021e",
   "metadata": {},
   "outputs": [
    {
     "name": "stdout",
     "output_type": "stream",
     "text": [
      "a= 110\n"
     ]
    }
   ],
   "source": [
    "b.fun1()"
   ]
  },
  {
   "cell_type": "code",
   "execution_count": 25,
   "id": "10cbc13e",
   "metadata": {},
   "outputs": [
    {
     "name": "stdout",
     "output_type": "stream",
     "text": [
      "a= 110\n"
     ]
    }
   ],
   "source": [
    "obj=sample()\n",
    "obj.fun()\n",
    "obj.fun1()"
   ]
  },
  {
   "cell_type": "code",
   "execution_count": 26,
   "id": "60e1e6e7",
   "metadata": {},
   "outputs": [],
   "source": [
    "class test:\n",
    "    def __init__(self):\n",
    "        print(\"inside constructor\")\n",
    "    def __del__(self):\n",
    "        print(\"inside destructor\")"
   ]
  },
  {
   "cell_type": "code",
   "execution_count": 27,
   "id": "04ab8426",
   "metadata": {},
   "outputs": [
    {
     "name": "stdout",
     "output_type": "stream",
     "text": [
      "inside constructor\n"
     ]
    }
   ],
   "source": [
    "p=test()"
   ]
  },
  {
   "cell_type": "code",
   "execution_count": 28,
   "id": "a7d8d964",
   "metadata": {},
   "outputs": [
    {
     "name": "stdout",
     "output_type": "stream",
     "text": [
      "inside destructor\n"
     ]
    }
   ],
   "source": [
    "del p"
   ]
  },
  {
   "cell_type": "code",
   "execution_count": 30,
   "id": "ad6d574b",
   "metadata": {},
   "outputs": [],
   "source": [
    "class circle:\n",
    "    r=5\n",
    "    pi=3.14\n",
    "    def getarea(self):\n",
    "        self.area=self.pi*(self.r**2)\n",
    "        print(\"area =\",self.area)\n",
    "    def getcircumference(self):\n",
    "        circum=2*self.pi*self.r\n",
    "        print(\"circumference =\",circum)"
   ]
  },
  {
   "cell_type": "code",
   "execution_count": 32,
   "id": "067b11d4",
   "metadata": {},
   "outputs": [],
   "source": [
    "class circle:\n",
    "    def __init__(self):\n",
    "        self.r=float(input(\"enter radius\"))\n",
    "    def getarea(self):\n",
    "        print(\"area of circle with radius {0} is {1}\". format(self.r,3.14*(self.r**2)))\n",
    "    def getcircumference(self):\n",
    "        print(\"circumference of circle with radius {0} is {1}\". format(self.r,2*3.14*self.r))"
   ]
  },
  {
   "cell_type": "code",
   "execution_count": 33,
   "id": "bb1cc6c1",
   "metadata": {},
   "outputs": [
    {
     "name": "stdout",
     "output_type": "stream",
     "text": [
      "enter radius 5\n",
      "area of circle with radius 5.0 is 78.5\n",
      "circumference of circle with radius 5.0 is 31.400000000000002\n"
     ]
    }
   ],
   "source": [
    "obj=circle()\n",
    "obj.getarea()\n",
    "obj.getcircumference()"
   ]
  },
  {
   "cell_type": "code",
   "execution_count": 44,
   "id": "5aa1bbb7",
   "metadata": {},
   "outputs": [],
   "source": [
    "class student:\n",
    "    def __init__(self,n,r):\n",
    "        self.name=n\n",
    "        self.roll=r\n",
    "    def setage(self):\n",
    "        self.age=int(input(\"enter age\"))\n",
    "    def setmarks(self):\n",
    "        self.marks=int(input(\"enter marks\"))\n",
    "    def display(self):\n",
    "        print(\"Displaying student details\")\n",
    "        print(\"Name :{0}\\nRoll_no:{1}\\nAge:{2}\\nMarks:{3}\".format(self.name,self.roll,self.age,self.marks))    "
   ]
  },
  {
   "cell_type": "code",
   "execution_count": 45,
   "id": "af5c705d",
   "metadata": {},
   "outputs": [
    {
     "name": "stdout",
     "output_type": "stream",
     "text": [
      "enter name irfan\n",
      "enter roll no 8143\n",
      "enter age 20\n",
      "enter marks84\n",
      "Displaying student details\n",
      "Name : irfan\n",
      "Roll_no:8143\n",
      "Age:20\n",
      "Marks:84\n"
     ]
    }
   ],
   "source": [
    "name=input(\"enter name\")\n",
    "roll=int(input(\"enter roll no\"))\n",
    "s=student(name,roll)\n",
    "s.setage()\n",
    "s.setmarks()\n",
    "s.display()"
   ]
  },
  {
   "cell_type": "code",
   "execution_count": 46,
   "id": "8b14dd33",
   "metadata": {},
   "outputs": [],
   "source": [
    "class temparature:\n",
    "    def convertfarenheit(self,cel):\n",
    "        print(\"temparature in farenheit :\",(cel*(9/5)+32))\n",
    "    def convertcelcius(self,f):\n",
    "        print(\"temp in celcius :\",(f-32)*(5/9))"
   ]
  },
  {
   "cell_type": "code",
   "execution_count": 51,
   "id": "16402593",
   "metadata": {},
   "outputs": [
    {
     "name": "stdout",
     "output_type": "stream",
     "text": [
      "temparature in farenheit : 104.0\n",
      "temp in celcius : 82.22222222222223\n"
     ]
    }
   ],
   "source": [
    "obj=temparature()\n",
    "obj.convertfarenheit(40)\n",
    "obj.convertcelcius(180)"
   ]
  },
  {
   "cell_type": "code",
   "execution_count": 5,
   "id": "e80a79b3",
   "metadata": {},
   "outputs": [],
   "source": [
    "class parent:\n",
    "    def parent_fun(self):\n",
    "        print(\"inside parent class\")\n",
    "     \n",
    "class derived (parent):\n",
    "    def derived_fun(self):\n",
    "        print(\"inside child\")    "
   ]
  },
  {
   "cell_type": "code",
   "execution_count": 9,
   "id": "0270320b",
   "metadata": {},
   "outputs": [
    {
     "name": "stdout",
     "output_type": "stream",
     "text": [
      "inside parent class\n",
      "inside child\n"
     ]
    }
   ],
   "source": [
    "obj=derived()\n",
    "obj.parent_fun()\n",
    "obj.derived_fun()"
   ]
  },
  {
   "cell_type": "code",
   "execution_count": 11,
   "id": "64d26d67",
   "metadata": {},
   "outputs": [
    {
     "name": "stdout",
     "output_type": "stream",
     "text": [
      "inside parent class\n"
     ]
    }
   ],
   "source": [
    "obj=derived()\n",
    "obj.parent_fun()"
   ]
  },
  {
   "cell_type": "code",
   "execution_count": 25,
   "id": "3cf8086b",
   "metadata": {},
   "outputs": [],
   "source": [
    "class parent:\n",
    "    def __init__(self):\n",
    "        print(\"inside parent class\")"
   ]
  },
  {
   "cell_type": "code",
   "execution_count": 26,
   "id": "6731bc98",
   "metadata": {},
   "outputs": [],
   "source": [
    "class derived(parent):\n",
    "    def derived_fun(self):\n",
    "        print(\"inside derived\")\n",
    "        super().parent_fun()"
   ]
  },
  {
   "cell_type": "code",
   "execution_count": 27,
   "id": "2cf30b7f",
   "metadata": {},
   "outputs": [
    {
     "name": "stdout",
     "output_type": "stream",
     "text": [
      "inside parent class\n"
     ]
    }
   ],
   "source": [
    "obj=derived()\n"
   ]
  },
  {
   "cell_type": "code",
   "execution_count": 30,
   "id": "4c478a90",
   "metadata": {},
   "outputs": [],
   "source": [
    "class test:\n",
    "    def __init__(self):\n",
    "        print(\"inside test\")"
   ]
  },
  {
   "cell_type": "code",
   "execution_count": 31,
   "id": "79ad8118",
   "metadata": {},
   "outputs": [],
   "source": [
    "class child(test):\n",
    "    def __init__(self):\n",
    "        print(\"inside child\")"
   ]
  },
  {
   "cell_type": "code",
   "execution_count": 32,
   "id": "391cb6f6",
   "metadata": {},
   "outputs": [
    {
     "name": "stdout",
     "output_type": "stream",
     "text": [
      "inside child\n"
     ]
    }
   ],
   "source": [
    "obj=child()"
   ]
  },
  {
   "cell_type": "code",
   "execution_count": 5,
   "id": "2e5059b9",
   "metadata": {},
   "outputs": [],
   "source": [
    "class student:\n",
    "    def __init__(self):\n",
    "        self.name=input(\"enter name\")\n",
    "        self.add=input(\"enter address\")\n",
    "        self.roll=int(input(\"enter roll number\"))"
   ]
  },
  {
   "cell_type": "code",
   "execution_count": 6,
   "id": "819d8ae0",
   "metadata": {},
   "outputs": [],
   "source": [
    "class test(student):\n",
    "    def display(self):\n",
    "        print(\"name={0}\\nadd={1}\\nroll no={2}\".format(self.name,self.add))"
   ]
  },
  {
   "cell_type": "code",
   "execution_count": 7,
   "id": "a61dced8",
   "metadata": {},
   "outputs": [
    {
     "name": "stdout",
     "output_type": "stream",
     "text": [
      "enter nameirfab\n",
      "enter addresssdvt\n",
      "enter roll number02\n"
     ]
    }
   ],
   "source": [
    "obj=test()\n",
    "obj=display()"
   ]
  },
  {
   "cell_type": "code",
   "execution_count": 5,
   "id": "b6fc38bb",
   "metadata": {},
   "outputs": [],
   "source": [
    "class student:\n",
    "    def __init__(self):\n",
    "        self.name=input(\"enter name\")\n",
    "        self.school=input(\"enter school name\")\n",
    "        self.roll_no=int(input(\"enter roll no\"))"
   ]
  },
  {
   "cell_type": "code",
   "execution_count": 9,
   "id": "afcf6dbb",
   "metadata": {},
   "outputs": [],
   "source": [
    "class test(student):\n",
    "    def display(self):\n",
    "        print(\"Display student details\")\n",
    "        print(\"name\",self.name)\n",
    "        print(\"school name\",self.school)\n",
    "        print(\"roll no\",self.roll_no)"
   ]
  },
  {
   "cell_type": "code",
   "execution_count": 10,
   "id": "66b46279",
   "metadata": {},
   "outputs": [
    {
     "name": "stdout",
     "output_type": "stream",
     "text": [
      "enter name Irfan\n",
      "enter school name SDVT\n",
      "enter roll no 02\n",
      "Display student details\n",
      "name  Irfan\n",
      "school name  SDVT\n",
      "roll no 2\n"
     ]
    }
   ],
   "source": [
    "obj=test()\n",
    "obj.display()"
   ]
  },
  {
   "cell_type": "code",
   "execution_count": 12,
   "id": "f4d49397",
   "metadata": {},
   "outputs": [],
   "source": [
    "class student:\n",
    "    def personal(self):\n",
    "        self.name=input(\"enter name\")\n",
    "        self.roll=int(input(\"enter roll no\"))"
   ]
  },
  {
   "cell_type": "code",
   "execution_count": 13,
   "id": "93b56549",
   "metadata": {},
   "outputs": [],
   "source": [
    "class subjects(student):\n",
    "    def sub(self):\n",
    "        self.s1=input(\"enter subject name\")\n",
    "        self.s2=input(\"enter subject name\")"
   ]
  },
  {
   "cell_type": "code",
   "execution_count": 17,
   "id": "21b817f5",
   "metadata": {},
   "outputs": [],
   "source": [
    "class marks(subjects):\n",
    "    def marks(self):\n",
    "        self.m1=int(input(\"enter marks s1\"))\n",
    "        self.m2=int(input(\"enter marks s2\"))\n",
    "        \n",
    "    def display(self):\n",
    "        print(\"Displaying student details\")\n",
    "        print(\"Name =\",self.name)\n",
    "        print(\"Roll_no :\",self.roll)\n",
    "        print(\"Marks\")\n",
    "        print(self.s1,\":\",self.m1)\n",
    "        print(self.s2,\":\",self.m2)\n",
    "        print(\"Total:\",self.m1+self.m2)"
   ]
  },
  {
   "cell_type": "code",
   "execution_count": 18,
   "id": "fb984509",
   "metadata": {},
   "outputs": [
    {
     "name": "stdout",
     "output_type": "stream",
     "text": [
      "enter name Irfan\n",
      "enter roll no02\n",
      "enter subject nameMath\n",
      "enter subject namescience\n",
      "enter marks s192\n",
      "enter marks s295\n",
      "Displaying student details\n",
      "Name =  Irfan\n",
      "Roll_no : 2\n",
      "Marks\n",
      "Math : 92\n",
      "science : 95\n",
      "Total: 187\n"
     ]
    }
   ],
   "source": [
    "obj=marks()\n",
    "obj.personal()\n",
    "obj.sub()\n",
    "obj.marks()\n",
    "obj.display()"
   ]
  },
  {
   "cell_type": "code",
   "execution_count": 19,
   "id": "6adf2b86",
   "metadata": {},
   "outputs": [],
   "source": [
    "class salary:\n",
    "    def sal(self):\n",
    "        self.salary=int(input(\"enter salary\"))"
   ]
  },
  {
   "cell_type": "code",
   "execution_count": 20,
   "id": "26732caa",
   "metadata": {},
   "outputs": [],
   "source": [
    "class department:\n",
    "    def dept(self):\n",
    "        self.dept_name=input(\"enter department\")\n",
    "        self.yoe=float(input(\"enter year of experience\"))"
   ]
  },
  {
   "cell_type": "code",
   "execution_count": 21,
   "id": "ae07f4a0",
   "metadata": {},
   "outputs": [],
   "source": [
    "class employee(salary,department):\n",
    "    def emp(self):\n",
    "        self.name=input(\"enter name\")\n",
    "        self.id=int(input(\"enter id number\"))\n",
    "        \n",
    "    def display(self):\n",
    "        print(\"Employee Details\")\n",
    "        print(\"Name :\",self.name)\n",
    "        print(\"ID:\",self.id)\n",
    "        print(\"Department:\",self.dept_name)\n",
    "        print(\"Experience in year:\",self.yoe)\n",
    "        print(\"Salary:\",self.salary)"
   ]
  },
  {
   "cell_type": "code",
   "execution_count": 23,
   "id": "1825b715",
   "metadata": {},
   "outputs": [
    {
     "name": "stdout",
     "output_type": "stream",
     "text": [
      "enter name Irfan\n",
      "enter id number 8143\n",
      "enter department assy\n",
      "enter year of experience 2.0\n",
      "enter salary 22000\n",
      "Employee Details\n",
      "Name :  Irfan\n",
      "ID: 8143\n",
      "Department:  assy\n",
      "Experience in year: 2.0\n",
      "Salary: 22000\n"
     ]
    }
   ],
   "source": [
    "obj=employee()\n",
    "obj.emp()\n",
    "obj.dept()\n",
    "obj.sal()\n",
    "obj.display()"
   ]
  },
  {
   "cell_type": "code",
   "execution_count": 27,
   "id": "5c69136d",
   "metadata": {},
   "outputs": [],
   "source": [
    "class num:\n",
    "    def __init__(self):\n",
    "        self.x=int(input(\"enter number\"))\n",
    "class square(num):\n",
    "    def sq(self):\n",
    "        print(\"square of number\",self.x,\"is=\",self.x**2)\n",
    "class cube(num):\n",
    "    def cube(self):\n",
    "        print(\"cube of number\",self.x,\"is=\",self.x**3)"
   ]
  },
  {
   "cell_type": "code",
   "execution_count": 28,
   "id": "96e3f056",
   "metadata": {},
   "outputs": [
    {
     "name": "stdout",
     "output_type": "stream",
     "text": [
      "enter number 2\n",
      "square of number 2 is= 4\n"
     ]
    }
   ],
   "source": [
    "obj=square()\n",
    "obj.sq()"
   ]
  },
  {
   "cell_type": "code",
   "execution_count": 29,
   "id": "643fc79e",
   "metadata": {},
   "outputs": [
    {
     "name": "stdout",
     "output_type": "stream",
     "text": [
      "enter number2\n",
      "cube of number 2 is= 8\n"
     ]
    }
   ],
   "source": [
    "obj=cube()\n",
    "obj.cube()"
   ]
  },
  {
   "cell_type": "code",
   "execution_count": 30,
   "id": "2ec1aa2f",
   "metadata": {},
   "outputs": [],
   "source": [
    "class base:\n",
    "    pass"
   ]
  },
  {
   "cell_type": "code",
   "execution_count": 31,
   "id": "e641d3b5",
   "metadata": {},
   "outputs": [],
   "source": [
    "class derived(base):\n",
    "    pass"
   ]
  },
  {
   "cell_type": "code",
   "execution_count": 39,
   "id": "6ff98e17",
   "metadata": {},
   "outputs": [
    {
     "name": "stdout",
     "output_type": "stream",
     "text": [
      "False\n"
     ]
    }
   ],
   "source": [
    "obj=base()\n",
    "print(isinstance(obj,derived))"
   ]
  },
  {
   "cell_type": "code",
   "execution_count": 40,
   "id": "6743b66e",
   "metadata": {},
   "outputs": [],
   "source": [
    "class a:\n",
    "    def fun(self):\n",
    "        print(\"inside a\")\n",
    "class b(a):\n",
    "    def fun(self):\n",
    "        print(\"hello\")\n",
    "        print(\"inside b\")"
   ]
  },
  {
   "cell_type": "code",
   "execution_count": 41,
   "id": "0bbe66a4",
   "metadata": {},
   "outputs": [
    {
     "name": "stdout",
     "output_type": "stream",
     "text": [
      "hello\n",
      "inside b\n"
     ]
    }
   ],
   "source": [
    "obj=b()\n",
    "obj.fun()"
   ]
  },
  {
   "cell_type": "code",
   "execution_count": 43,
   "id": "e913645d",
   "metadata": {},
   "outputs": [],
   "source": [
    "class a:\n",
    "    def fun(self):\n",
    "        print(\"inside a\")\n",
    "class b(a):\n",
    "    def fun(self):\n",
    "        print(\"hello\")\n",
    "        print(\"inside b\")\n",
    "        super().fun()"
   ]
  },
  {
   "cell_type": "code",
   "execution_count": 44,
   "id": "3ec749ed",
   "metadata": {},
   "outputs": [
    {
     "name": "stdout",
     "output_type": "stream",
     "text": [
      "hello\n",
      "inside b\n",
      "inside a\n"
     ]
    }
   ],
   "source": [
    "obj=b()\n",
    "obj.fun()"
   ]
  },
  {
   "cell_type": "code",
   "execution_count": 45,
   "id": "82adf767",
   "metadata": {},
   "outputs": [],
   "source": [
    "class A:\n",
    "    __x=0"
   ]
  },
  {
   "cell_type": "code",
   "execution_count": 47,
   "id": "6a3833ff",
   "metadata": {},
   "outputs": [
    {
     "ename": "AttributeError",
     "evalue": "'A' object has no attribute '__x'",
     "output_type": "error",
     "traceback": [
      "\u001b[1;31m---------------------------------------------------------------------------\u001b[0m",
      "\u001b[1;31mAttributeError\u001b[0m                            Traceback (most recent call last)",
      "\u001b[1;32m~\\AppData\\Local\\Temp/ipykernel_1280/3268090665.py\u001b[0m in \u001b[0;36m<module>\u001b[1;34m\u001b[0m\n\u001b[0;32m      1\u001b[0m \u001b[0mobj\u001b[0m\u001b[1;33m=\u001b[0m\u001b[0mA\u001b[0m\u001b[1;33m(\u001b[0m\u001b[1;33m)\u001b[0m\u001b[1;33m\u001b[0m\u001b[1;33m\u001b[0m\u001b[0m\n\u001b[1;32m----> 2\u001b[1;33m \u001b[0mprint\u001b[0m\u001b[1;33m(\u001b[0m\u001b[0mobj\u001b[0m\u001b[1;33m.\u001b[0m\u001b[0m__x\u001b[0m\u001b[1;33m)\u001b[0m\u001b[1;33m\u001b[0m\u001b[1;33m\u001b[0m\u001b[0m\n\u001b[0m",
      "\u001b[1;31mAttributeError\u001b[0m: 'A' object has no attribute '__x'"
     ]
    }
   ],
   "source": [
    "obj=A()\n",
    "print(obj.__x)"
   ]
  },
  {
   "cell_type": "code",
   "execution_count": 50,
   "id": "c35b2de6",
   "metadata": {},
   "outputs": [],
   "source": [
    "#private data\n",
    "class A:\n",
    "    __x=0\n",
    "    def fun(self):\n",
    "        print(\"x=\",self.__x)"
   ]
  },
  {
   "cell_type": "code",
   "execution_count": 51,
   "id": "c5c938d7",
   "metadata": {},
   "outputs": [
    {
     "name": "stdout",
     "output_type": "stream",
     "text": [
      "x= 0\n"
     ]
    }
   ],
   "source": [
    "obj=A()\n",
    "obj.fun()"
   ]
  },
  {
   "cell_type": "code",
   "execution_count": 52,
   "id": "ddc3e728",
   "metadata": {},
   "outputs": [],
   "source": [
    "#public data\n",
    "class A:\n",
    "    __x=0\n",
    "    a=10\n",
    "    def fun(self):\n",
    "        print(\"x=\",self.__x)"
   ]
  },
  {
   "cell_type": "code",
   "execution_count": 58,
   "id": "8dcf6b19",
   "metadata": {},
   "outputs": [
    {
     "name": "stdout",
     "output_type": "stream",
     "text": [
      "10\n",
      "0\n"
     ]
    }
   ],
   "source": [
    "obj=A()\n",
    "print(obj.a)\n",
    "print(obj._A__x)"
   ]
  },
  {
   "cell_type": "code",
   "execution_count": 59,
   "id": "8562c516",
   "metadata": {},
   "outputs": [],
   "source": [
    "class test:\n",
    "    _p=90\n",
    "    def fun(self):\n",
    "        print(\"p=\",self._p)"
   ]
  },
  {
   "cell_type": "code",
   "execution_count": 60,
   "id": "c957737c",
   "metadata": {},
   "outputs": [],
   "source": [
    "class test1(test):\n",
    "    def trial(self):\n",
    "        print(\"p=\",self._p)"
   ]
  },
  {
   "cell_type": "code",
   "execution_count": 63,
   "id": "8dc62ea3",
   "metadata": {},
   "outputs": [
    {
     "name": "stdout",
     "output_type": "stream",
     "text": [
      "p= 90\n",
      "p= 90\n"
     ]
    }
   ],
   "source": [
    "obj=test1()\n",
    "obj.trial()\n",
    "obj.fun()"
   ]
  },
  {
   "cell_type": "code",
   "execution_count": 64,
   "id": "754f8f1e",
   "metadata": {},
   "outputs": [
    {
     "name": "stdout",
     "output_type": "stream",
     "text": [
      "90\n"
     ]
    }
   ],
   "source": [
    "print(obj._p)"
   ]
  },
  {
   "cell_type": "code",
   "execution_count": 65,
   "id": "83d00865",
   "metadata": {},
   "outputs": [
    {
     "data": {
      "text/plain": [
       "3"
      ]
     },
     "execution_count": 65,
     "metadata": {},
     "output_type": "execute_result"
    }
   ],
   "source": [
    "l=[1,2,3]\n",
    "len(l)"
   ]
  },
  {
   "cell_type": "code",
   "execution_count": 66,
   "id": "deb62e9c",
   "metadata": {},
   "outputs": [
    {
     "data": {
      "text/plain": [
       "5"
      ]
     },
     "execution_count": 66,
     "metadata": {},
     "output_type": "execute_result"
    }
   ],
   "source": [
    "s=\"3rrri\"\n",
    "len(s)"
   ]
  },
  {
   "cell_type": "code",
   "execution_count": 67,
   "id": "a04cfe6d",
   "metadata": {},
   "outputs": [
    {
     "data": {
      "text/plain": [
       "3"
      ]
     },
     "execution_count": 67,
     "metadata": {},
     "output_type": "execute_result"
    }
   ],
   "source": [
    "t=(1,2,34)\n",
    "len(t)"
   ]
  },
  {
   "cell_type": "code",
   "execution_count": 68,
   "id": "a90b8155",
   "metadata": {},
   "outputs": [],
   "source": [
    "def sample(x=0,y=0,z=0):\n",
    "    print(x,y,z)"
   ]
  },
  {
   "cell_type": "code",
   "execution_count": 69,
   "id": "c448d16b",
   "metadata": {},
   "outputs": [
    {
     "name": "stdout",
     "output_type": "stream",
     "text": [
      "0 0 0\n"
     ]
    }
   ],
   "source": [
    "sample()"
   ]
  },
  {
   "cell_type": "code",
   "execution_count": 70,
   "id": "2ff87265",
   "metadata": {},
   "outputs": [
    {
     "name": "stdout",
     "output_type": "stream",
     "text": [
      "10 20 0\n"
     ]
    }
   ],
   "source": [
    "sample(10,20)"
   ]
  },
  {
   "cell_type": "code",
   "execution_count": 71,
   "id": "10063e73",
   "metadata": {},
   "outputs": [
    {
     "name": "stdout",
     "output_type": "stream",
     "text": [
      "50 40 30\n"
     ]
    }
   ],
   "source": [
    "sample(50,40,30)"
   ]
  },
  {
   "cell_type": "code",
   "execution_count": 72,
   "id": "4a906a86",
   "metadata": {},
   "outputs": [],
   "source": [
    "class test:\n",
    "    def type(self):\n",
    "        print(\"inside test\")"
   ]
  },
  {
   "cell_type": "code",
   "execution_count": 73,
   "id": "e8dbafee",
   "metadata": {},
   "outputs": [
    {
     "name": "stdout",
     "output_type": "stream",
     "text": [
      "inside test\n"
     ]
    }
   ],
   "source": [
    "obj=test()\n",
    "obj.type()"
   ]
  },
  {
   "cell_type": "code",
   "execution_count": 74,
   "id": "c8629746",
   "metadata": {},
   "outputs": [
    {
     "data": {
      "text/plain": [
       "int"
      ]
     },
     "execution_count": 74,
     "metadata": {},
     "output_type": "execute_result"
    }
   ],
   "source": [
    "x=10\n",
    "type(x)"
   ]
  },
  {
   "cell_type": "code",
   "execution_count": 1,
   "id": "1dcdf5fe",
   "metadata": {},
   "outputs": [],
   "source": [
    "class a:\n",
    "    def fun(self):\n",
    "        print(\"a\")"
   ]
  },
  {
   "cell_type": "code",
   "execution_count": 2,
   "id": "2fcd5505",
   "metadata": {},
   "outputs": [],
   "source": [
    "class b(a):\n",
    "    def fun(self):\n",
    "        print(\"b\")"
   ]
  },
  {
   "cell_type": "code",
   "execution_count": 3,
   "id": "18ff5f24",
   "metadata": {},
   "outputs": [],
   "source": [
    "class c(b):\n",
    "    def fun(self):\n",
    "        print(\"c\")"
   ]
  },
  {
   "cell_type": "code",
   "execution_count": 5,
   "id": "793f436c",
   "metadata": {},
   "outputs": [
    {
     "name": "stdout",
     "output_type": "stream",
     "text": [
      "b\n"
     ]
    }
   ],
   "source": [
    "obj=b()\n",
    "obj.fun()"
   ]
  },
  {
   "cell_type": "code",
   "execution_count": 7,
   "id": "64b72961",
   "metadata": {},
   "outputs": [],
   "source": [
    "x=10\n",
    "y=20"
   ]
  },
  {
   "cell_type": "code",
   "execution_count": 8,
   "id": "d5d55025",
   "metadata": {},
   "outputs": [
    {
     "data": {
      "text/plain": [
       "30"
      ]
     },
     "execution_count": 8,
     "metadata": {},
     "output_type": "execute_result"
    }
   ],
   "source": [
    "x+y"
   ]
  },
  {
   "cell_type": "code",
   "execution_count": 7,
   "id": "ef4a0dc0",
   "metadata": {},
   "outputs": [],
   "source": [
    "class test:\n",
    "    def __init__(self,x):\n",
    "        self.x=x\n",
    "    def __add__(self,p):\n",
    "        return self.x+p.x"
   ]
  },
  {
   "cell_type": "code",
   "execution_count": 8,
   "id": "ed12011d",
   "metadata": {},
   "outputs": [
    {
     "name": "stdout",
     "output_type": "stream",
     "text": [
      "50\n"
     ]
    }
   ],
   "source": [
    "obj1=test(30)\n",
    "obj2=test(20)\n",
    "print(obj1+obj2)"
   ]
  },
  {
   "cell_type": "code",
   "execution_count": 17,
   "id": "c2d1cc6c",
   "metadata": {},
   "outputs": [],
   "source": [
    "class test:\n",
    "    def __init__(self,x):\n",
    "        self.x=x\n",
    "    def __gt__(self,a):\n",
    "        return self.x>a.x\n",
    "    def __lt__(self,a):\n",
    "        return self.x<a.x\n",
    "    def __equal__(self,a):\n",
    "        return self.x==a.x"
   ]
  },
  {
   "cell_type": "code",
   "execution_count": 21,
   "id": "15a0fd6c",
   "metadata": {},
   "outputs": [
    {
     "name": "stdout",
     "output_type": "stream",
     "text": [
      "obj1<obj2\n"
     ]
    }
   ],
   "source": [
    "obj1=test(30)\n",
    "obj2=test(40)\n",
    "\n",
    "if (obj1>obj2):\n",
    "    print(\"obj1>obj2\")\n",
    "elif (obj1<obj2):\n",
    "    print(\"obj1<obj2\")\n",
    "else:\n",
    "    print(\"obj1 = obj2\")"
   ]
  },
  {
   "cell_type": "code",
   "execution_count": null,
   "id": "e50c8ae7",
   "metadata": {},
   "outputs": [],
   "source": []
  },
  {
   "cell_type": "code",
   "execution_count": null,
   "id": "4cdb2d7d",
   "metadata": {},
   "outputs": [],
   "source": []
  },
  {
   "cell_type": "code",
   "execution_count": null,
   "id": "29b68df6",
   "metadata": {},
   "outputs": [],
   "source": []
  },
  {
   "cell_type": "code",
   "execution_count": null,
   "id": "9b8eb7c4",
   "metadata": {},
   "outputs": [],
   "source": []
  },
  {
   "cell_type": "code",
   "execution_count": null,
   "id": "2344f724",
   "metadata": {},
   "outputs": [],
   "source": []
  }
 ],
 "metadata": {
  "kernelspec": {
   "display_name": "Python 3 (ipykernel)",
   "language": "python",
   "name": "python3"
  },
  "language_info": {
   "codemirror_mode": {
    "name": "ipython",
    "version": 3
   },
   "file_extension": ".py",
   "mimetype": "text/x-python",
   "name": "python",
   "nbconvert_exporter": "python",
   "pygments_lexer": "ipython3",
   "version": "3.9.7"
  }
 },
 "nbformat": 4,
 "nbformat_minor": 5
}
