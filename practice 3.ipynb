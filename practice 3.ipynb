{
 "cells": [
  {
   "cell_type": "code",
   "execution_count": 1,
   "id": "a426d64a",
   "metadata": {},
   "outputs": [],
   "source": [
    "p=10\n",
    "q=2.3\n",
    "r=\"hello\""
   ]
  },
  {
   "cell_type": "code",
   "execution_count": 5,
   "id": "68ebeeae",
   "metadata": {},
   "outputs": [
    {
     "name": "stdout",
     "output_type": "stream",
     "text": [
      "p= 10 q= 2.3 r= hello\n"
     ]
    }
   ],
   "source": [
    "print('p=',p,'q=',q,'r=',r)"
   ]
  },
  {
   "cell_type": "code",
   "execution_count": 12,
   "id": "fccf325b",
   "metadata": {},
   "outputs": [
    {
     "name": "stdout",
     "output_type": "stream",
     "text": [
      "r = hello, q=2.3 and p=10\n"
     ]
    }
   ],
   "source": [
    "print(\"r = {2}, q={1} and p={0}\".format(p,q,r))"
   ]
  },
  {
   "cell_type": "code",
   "execution_count": 14,
   "id": "718bf243",
   "metadata": {},
   "outputs": [
    {
     "name": "stdout",
     "output_type": "stream",
     "text": [
      "1000 1000 1000\n"
     ]
    }
   ],
   "source": [
    "a=b=c=1000\n",
    "print(a,b,c)"
   ]
  },
  {
   "cell_type": "code",
   "execution_count": 15,
   "id": "91189746",
   "metadata": {},
   "outputs": [],
   "source": [
    "#implement to swap two numbers\n",
    "x=10\n",
    "y=20 #then\n",
    "x=20\n",
    "y=10"
   ]
  },
  {
   "cell_type": "code",
   "execution_count": 7,
   "id": "a6f0d6b8",
   "metadata": {},
   "outputs": [
    {
     "name": "stdout",
     "output_type": "stream",
     "text": [
      "20 10\n"
     ]
    }
   ],
   "source": [
    "x=10\n",
    "y=20\n",
    "(x,y)\n",
    "x,y=y,x\n",
    "print(x,y)"
   ]
  },
  {
   "cell_type": "code",
   "execution_count": null,
   "id": "26f7d3d9",
   "metadata": {},
   "outputs": [],
   "source": [
    "#python code to read and display employee details\n",
    "#name employee id years of exp salary designation"
   ]
  },
  {
   "cell_type": "code",
   "execution_count": 3,
   "id": "3a9e213d",
   "metadata": {},
   "outputs": [
    {
     "name": "stdout",
     "output_type": "stream",
     "text": [
      "enter nameirfu\n",
      "enter id number123\n",
      "enter designationassy\n",
      "years of experience2.2\n",
      "enter salary22220\n",
      "Displaying employee detail\n",
      "Name : irfu\n",
      "Employee id : 123\n",
      "Designation: assy\n",
      "Experiance: 2.2\n",
      "Salary: 22220\n"
     ]
    }
   ],
   "source": [
    "name=input(\"enter name\")\n",
    "id=int(input(\"enter id number\"))\n",
    "designation=input(\"enter designation\")\n",
    "experience=float(input(\"years of experience\"))\n",
    "salary=int(input(\"enter salary\"))\n",
    "\n",
    "print(\"Displaying employee detail\")\n",
    "print(\"Name : {0}\\nEmployee id : {1}\\nDesignation: {2}\\nExperiance: {3}\\nSalary: {4}\".format(name,id,designation,experience,salary))"
   ]
  },
  {
   "cell_type": "code",
   "execution_count": 38,
   "id": "da2239be",
   "metadata": {},
   "outputs": [
    {
     "name": "stdout",
     "output_type": "stream",
     "text": [
      " 10*20 is z:200 \n"
     ]
    }
   ],
   "source": [
    "x=10\n",
    "y=20\n",
    "(x,y)\n",
    "z=x+y\n",
    "print(\" {0}*{1} is z:{2} \".format(x,y,x*y))"
   ]
  },
  {
   "cell_type": "code",
   "execution_count": 19,
   "id": "3f23a0cf",
   "metadata": {},
   "outputs": [
    {
     "name": "stdout",
     "output_type": "stream",
     "text": [
      "32\n"
     ]
    }
   ],
   "source": [
    "x=11\n",
    "y=21\n",
    "x,y\n",
    "print(x+y)"
   ]
  },
  {
   "cell_type": "code",
   "execution_count": 46,
   "id": "5de4a07e",
   "metadata": {},
   "outputs": [
    {
     "data": {
      "text/plain": [
       "20"
      ]
     },
     "execution_count": 46,
     "metadata": {},
     "output_type": "execute_result"
    }
   ],
   "source": [
    "a=10\n",
    "a<<1 #binary"
   ]
  },
  {
   "cell_type": "code",
   "execution_count": 54,
   "id": "fea230b5",
   "metadata": {},
   "outputs": [
    {
     "data": {
      "text/plain": [
       "100"
      ]
     },
     "execution_count": 54,
     "metadata": {},
     "output_type": "execute_result"
    }
   ],
   "source": [
    "a=10\n",
    "a*=a\n",
    "a"
   ]
  },
  {
   "cell_type": "code",
   "execution_count": 56,
   "id": "92ca1b59",
   "metadata": {},
   "outputs": [
    {
     "data": {
      "text/plain": [
       "True"
      ]
     },
     "execution_count": 56,
     "metadata": {},
     "output_type": "execute_result"
    }
   ],
   "source": [
    "x=10\n",
    "y=20\n",
    "x is not y"
   ]
  },
  {
   "cell_type": "code",
   "execution_count": 59,
   "id": "22339055",
   "metadata": {},
   "outputs": [
    {
     "data": {
      "text/plain": [
       "False"
      ]
     },
     "execution_count": 59,
     "metadata": {},
     "output_type": "execute_result"
    }
   ],
   "source": [
    "x='hello'\n",
    "'h' in x"
   ]
  },
  {
   "cell_type": "code",
   "execution_count": 60,
   "id": "3a492fee",
   "metadata": {},
   "outputs": [
    {
     "data": {
      "text/plain": [
       "True"
      ]
     },
     "execution_count": 60,
     "metadata": {},
     "output_type": "execute_result"
    }
   ],
   "source": [
    "'z' not in x"
   ]
  },
  {
   "cell_type": "code",
   "execution_count": 65,
   "id": "c45e5b8b",
   "metadata": {},
   "outputs": [
    {
     "name": "stdout",
     "output_type": "stream",
     "text": [
      "iahb nafri\n"
     ]
    }
   ],
   "source": [
    "s =\"irfan bhai\"\n",
    "print(s[::-1])"
   ]
  },
  {
   "cell_type": "code",
   "execution_count": 69,
   "id": "4c6a76ee",
   "metadata": {},
   "outputs": [
    {
     "data": {
      "text/plain": [
       "10"
      ]
     },
     "execution_count": 69,
     "metadata": {},
     "output_type": "execute_result"
    }
   ],
   "source": [
    "tup=(1,2,3,4,10)\n",
    "max(tup)"
   ]
  },
  {
   "cell_type": "code",
   "execution_count": 1,
   "id": "29f24eb5",
   "metadata": {},
   "outputs": [],
   "source": [
    "#if else elif"
   ]
  },
  {
   "cell_type": "code",
   "execution_count": 11,
   "id": "c0ca7e43",
   "metadata": {},
   "outputs": [
    {
     "name": "stdout",
     "output_type": "stream",
     "text": [
      "inside if\n",
      "x= 1\n"
     ]
    }
   ],
   "source": [
    "x=1\n",
    "if (x>0):\n",
    "    print(\"inside if\")\n",
    "    print(\"x=\",x)\n",
    "else:\n",
    "    print(\"outside if\")\n",
    "    print(\"hello\")    "
   ]
  },
  {
   "cell_type": "code",
   "execution_count": 21,
   "id": "c41ec398",
   "metadata": {},
   "outputs": [
    {
     "name": "stdout",
     "output_type": "stream",
     "text": [
      "x= 10\n"
     ]
    }
   ],
   "source": [
    "x=10\n",
    "if (x>0):\n",
    "    print(\"x=\",x)\n",
    "else:\n",
    "    print(\"x=\",x) "
   ]
  },
  {
   "cell_type": "code",
   "execution_count": 27,
   "id": "ad0d0448",
   "metadata": {},
   "outputs": [
    {
     "name": "stdout",
     "output_type": "stream",
     "text": [
      "number is odd x= 5\n"
     ]
    }
   ],
   "source": [
    "x=5\n",
    "if (x%2==0):\n",
    "    print(\"input number is even\",\"x=\",x)\n",
    "else:\n",
    "    print(\"number is odd\",\"x=\",x)"
   ]
  },
  {
   "cell_type": "code",
   "execution_count": 3,
   "id": "56cd402c",
   "metadata": {},
   "outputs": [
    {
     "ename": "SyntaxError",
     "evalue": "invalid syntax (Temp/ipykernel_3908/3874018230.py, line 5)",
     "output_type": "error",
     "traceback": [
      "\u001b[1;36m  File \u001b[1;32m\"C:\\Users\\dell\\AppData\\Local\\Temp/ipykernel_3908/3874018230.py\"\u001b[1;36m, line \u001b[1;32m5\u001b[0m\n\u001b[1;33m    else:\u001b[0m\n\u001b[1;37m    ^\u001b[0m\n\u001b[1;31mSyntaxError\u001b[0m\u001b[1;31m:\u001b[0m invalid syntax\n"
     ]
    }
   ],
   "source": [
    "a=float(input(\"number\"))\n",
    "\n",
    "if(a<0):\n",
    "    print(\"absolute value of {0} is {1}\".format(a,(0-a))\n",
    "else:\n",
    "    print(\"absolute value of {0} is {1}\".format(a,a))"
   ]
  },
  {
   "cell_type": "code",
   "execution_count": 1,
   "id": "378c2733",
   "metadata": {},
   "outputs": [
    {
     "ename": "SyntaxError",
     "evalue": "invalid syntax (Temp/ipykernel_2268/1329649184.py, line 4)",
     "output_type": "error",
     "traceback": [
      "\u001b[1;36m  File \u001b[1;32m\"C:\\Users\\dell\\AppData\\Local\\Temp/ipykernel_2268/1329649184.py\"\u001b[1;36m, line \u001b[1;32m4\u001b[0m\n\u001b[1;33m    else:\u001b[0m\n\u001b[1;37m    ^\u001b[0m\n\u001b[1;31mSyntaxError\u001b[0m\u001b[1;31m:\u001b[0m invalid syntax\n"
     ]
    }
   ],
   "source": [
    "a=float(input(\"enter number\"))\n",
    "if(a<0):\n",
    "    print(\"absolute value of {0} is {1}\". format(a(0-a))\n",
    "else:\n",
    "    print(\"absolute value of {0} is {1}\". format(a,a))"
   ]
  },
  {
   "cell_type": "code",
   "execution_count": 14,
   "id": "7a34f5cd",
   "metadata": {},
   "outputs": [
    {
     "name": "stdout",
     "output_type": "stream",
     "text": [
      "enter number2.2\n",
      "absolute value of 2.2 is 2.2\n"
     ]
    }
   ],
   "source": [
    "a=float(input(\"enter number\"))\n",
    "if(a<0):\n",
    "    print(\"absolute number of {0} is {1}\". format(a(0-a)))\n",
    "else:\n",
    "    print(\"absolute value of {0} is {1}\". format(a,a))"
   ]
  },
  {
   "cell_type": "code",
   "execution_count": 3,
   "id": "c4770a39",
   "metadata": {},
   "outputs": [
    {
     "name": "stdout",
     "output_type": "stream",
     "text": [
      "enter number5\n",
      "absolute value of 5.0 is 5.0\n"
     ]
    }
   ],
   "source": [
    "a=float(input(\"enter number\"))\n",
    "if (a<0):\n",
    "    print(\"absolute value of {0} is {1}\".format(a(0-a)))\n",
    "else:\n",
    "    print(\"absolute value of {0} is {1}\".format(a,a))"
   ]
  },
  {
   "cell_type": "code",
   "execution_count": 4,
   "id": "dd3516c3",
   "metadata": {},
   "outputs": [
    {
     "name": "stdout",
     "output_type": "stream",
     "text": [
      "x is greater than 10\n"
     ]
    }
   ],
   "source": [
    "x=100\n",
    "if (x==10):\n",
    "    print(\"x is equal to 10\")\n",
    "elif (x>10):\n",
    "    print(\"x is greater than 10\")\n",
    "else:\n",
    "    print(\"x is less than 10\")"
   ]
  },
  {
   "cell_type": "code",
   "execution_count": 5,
   "id": "93cd1468",
   "metadata": {},
   "outputs": [
    {
     "name": "stdout",
     "output_type": "stream",
     "text": [
      "x is less than 10\n"
     ]
    }
   ],
   "source": [
    "x=1\n",
    "if (x==10):\n",
    "    print(\"x is equal to 10\")\n",
    "elif (x>10):\n",
    "    print(\"x is greater than 10\")\n",
    "else:\n",
    "    print(\"x is less than 10\")"
   ]
  },
  {
   "cell_type": "code",
   "execution_count": 6,
   "id": "71e3f0b2",
   "metadata": {},
   "outputs": [
    {
     "name": "stdout",
     "output_type": "stream",
     "text": [
      "x is equal to 10\n"
     ]
    }
   ],
   "source": [
    "x=10\n",
    "if (x==10):\n",
    "    print(\"x is equal to 10\")\n",
    "elif (x>10):\n",
    "    print(\"x is greater than 10\")\n",
    "else:\n",
    "    print(\"x is less than 10\")"
   ]
  },
  {
   "cell_type": "code",
   "execution_count": 14,
   "id": "283baf38",
   "metadata": {},
   "outputs": [
    {
     "name": "stdout",
     "output_type": "stream",
     "text": [
      "salary of emp100000\n",
      "years of exp20\n",
      "bonus given to emp is= 5000.0\n"
     ]
    }
   ],
   "source": [
    "x=int(input(\"salary of emp\"))\n",
    "y=float(input(\"years of exp\"))\n",
    "if (y>5):\n",
    "    print(\"bonus given to emp is=\",(x*0.05))\n",
    "else:\n",
    "    print(\"no bunus\")"
   ]
  },
  {
   "cell_type": "code",
   "execution_count": 13,
   "id": "80cf7772",
   "metadata": {},
   "outputs": [
    {
     "name": "stdout",
     "output_type": "stream",
     "text": [
      "salary of emp100000\n",
      "years of exp10\n",
      "eligible for bonus\n",
      "Bonus: 5000.0\n"
     ]
    }
   ],
   "source": [
    "x=int(input(\"salary of emp\"))\n",
    "y=float(input(\"years of exp\"))\n",
    "if (y>5):\n",
    "    print(\"eligible for bonus\")\n",
    "    print(\"Bonus:\",x*0.05)\n",
    "else:\n",
    "    print(\"not eligible for bunus\")"
   ]
  },
  {
   "cell_type": "code",
   "execution_count": 18,
   "id": "dddb20a9",
   "metadata": {},
   "outputs": [
    {
     "name": "stdout",
     "output_type": "stream",
     "text": [
      "enter length of rectangle50\n",
      "enter breadth of rectangle50\n",
      "given rectangle is square\n"
     ]
    }
   ],
   "source": [
    "leng=float(input(\"enter length of rectangle\"))\n",
    "brea=float(input(\"enter breadth of rectangle\"))\n",
    "\n",
    "if (leng==brea):\n",
    "    print(\"given rectangle is square\")\n",
    "else:\n",
    "    print(\"given rectangle is not square\")"
   ]
  },
  {
   "cell_type": "code",
   "execution_count": 27,
   "id": "be6dd8de",
   "metadata": {},
   "outputs": [
    {
     "name": "stdout",
     "output_type": "stream",
     "text": [
      "enter no of quantity=20\n",
      "product cost=100\n",
      "net cost= 19.8\n"
     ]
    }
   ],
   "source": [
    "x=int(input(\"enter no of quantity=\"))\n",
    "y=int(input(\"product cost=\"))\n",
    "if (x*y)>=1000:\n",
    "    print(\"net cost=\",(x-0.01*x))\n",
    "else:\n",
    "    print(x)"
   ]
  },
  {
   "cell_type": "code",
   "execution_count": 3,
   "id": "641170b5",
   "metadata": {},
   "outputs": [
    {
     "name": "stdout",
     "output_type": "stream",
     "text": [
      "age of 1st person55\n",
      "age of 2nd person75\n",
      "age of 3rd person65\n",
      "2nd person is oldest\n",
      "1st person is youngest\n"
     ]
    }
   ],
   "source": [
    "x=int(input(\"age of 1st person\"))\n",
    "y=int(input(\"age of 2nd person\"))\n",
    "z=int(input(\"age of 3rd person\"))\n",
    "\n",
    "if (x>y) and (x>z):\n",
    "    print(\"1st person is oldest\")\n",
    "elif (y>x) and (y>z):\n",
    "    print(\"2nd person is oldest\")\n",
    "elif (z>x) and (z>y):\n",
    "    print(\"3rd person is oldest\")\n",
    "    \n",
    "if (x<y) and (x<z):\n",
    "    print(\"1st person is youngest\")\n",
    "elif (y<x) and (y<z):\n",
    "    print(\"2nd person is youngest\")\n",
    "elif (z<x) and (z<y):\n",
    "    print(\"3rd person is youngest\")    \n",
    "else:\n",
    "    print(\"all are eual\")\n",
    "    "
   ]
  },
  {
   "cell_type": "code",
   "execution_count": 4,
   "id": "49fbd162",
   "metadata": {},
   "outputs": [
    {
     "name": "stdout",
     "output_type": "stream",
     "text": [
      "age 1st50\n",
      "age 2nd90\n",
      "age 3rd75\n",
      "oldest person is 90year\n",
      "youngest person is 50year\n"
     ]
    }
   ],
   "source": [
    "a=int(input(\"age 1st\"))\n",
    "b=int(input(\"age 2nd\"))\n",
    "c=int(input(\"age 3rd\")) \n",
    "l=[a,b,c]\n",
    "\n",
    "print(\"oldest person is {0}year\".format(max(l)))\n",
    "print(\"youngest person is {0}year\".format(min(l)))"
   ]
  },
  {
   "cell_type": "code",
   "execution_count": 6,
   "id": "3830dea7",
   "metadata": {},
   "outputs": [
    {
     "name": "stdout",
     "output_type": "stream",
     "text": [
      "age 1st99\n",
      "age 2nd10\n",
      "age 3rd101\n",
      "101 year older\n",
      "10 year younger\n"
     ]
    }
   ],
   "source": [
    "a=int(input(\"age 1st\"))\n",
    "b=int(input(\"age 2nd\"))\n",
    "c=int(input(\"age 3rd\")) \n",
    "l=[a,b,c]\n",
    "\n",
    "print(max(l),\"year older\")\n",
    "print(min(l),\"year younger\")"
   ]
  },
  {
   "cell_type": "code",
   "execution_count": 8,
   "id": "3bbbb81f",
   "metadata": {},
   "outputs": [
    {
     "name": "stdout",
     "output_type": "stream",
     "text": [
      "no of classes held100\n",
      "no of classe attended50\n",
      "not allowed for exam\n"
     ]
    }
   ],
   "source": [
    "h=float(input(\"no of classes held\"))\n",
    "a=float(input(\"no of classe attended\"))\n",
    "\n",
    "if (a/h*100)>75:\n",
    "    print(\"allowed for exam\")\n",
    "else:\n",
    "    print(\"not allowed for exam\")"
   ]
  },
  {
   "cell_type": "code",
   "execution_count": 9,
   "id": "f1d9e68e",
   "metadata": {},
   "outputs": [],
   "source": [
    " #loops"
   ]
  },
  {
   "cell_type": "code",
   "execution_count": 2,
   "id": "4e32ee1a",
   "metadata": {},
   "outputs": [
    {
     "name": "stdout",
     "output_type": "stream",
     "text": [
      "hello\n",
      "hello\n",
      "hello\n",
      "hello\n",
      "hello\n"
     ]
    }
   ],
   "source": [
    "i=0\n",
    "while (i<5):\n",
    "    i=i+1\n",
    "    print(\"hello\")"
   ]
  },
  {
   "cell_type": "code",
   "execution_count": 2,
   "id": "61c8dada",
   "metadata": {},
   "outputs": [
    {
     "name": "stdout",
     "output_type": "stream",
     "text": [
      "1\n",
      "2\n",
      "3\n",
      "4\n",
      "5\n"
     ]
    }
   ],
   "source": [
    "l=[1,2,3,4,5]\n",
    "for i in l:\n",
    "    print(i)"
   ]
  },
  {
   "cell_type": "code",
   "execution_count": 4,
   "id": "4606c530",
   "metadata": {},
   "outputs": [
    {
     "name": "stdout",
     "output_type": "stream",
     "text": [
      "1\n",
      "2\n",
      "3\n",
      "4\n",
      "5\n"
     ]
    }
   ],
   "source": [
    "i=0\n",
    "while(i<len(l)):\n",
    "    print(l[i])\n",
    "    i=i+1"
   ]
  },
  {
   "cell_type": "code",
   "execution_count": 8,
   "id": "87f374f5",
   "metadata": {},
   "outputs": [
    {
     "name": "stdout",
     "output_type": "stream",
     "text": [
      "0\n",
      "1\n",
      "2\n",
      "3\n",
      "4\n",
      "5\n",
      "6\n",
      "7\n",
      "8\n",
      "9\n"
     ]
    }
   ],
   "source": [
    "#range\n",
    "i=0\n",
    "for i in range (0,10):\n",
    "    print(i)\n",
    "    i=i+1"
   ]
  },
  {
   "cell_type": "code",
   "execution_count": 10,
   "id": "565ad314",
   "metadata": {},
   "outputs": [
    {
     "name": "stdout",
     "output_type": "stream",
     "text": [
      "natural numbers5\n",
      "1\n",
      "2\n",
      "3\n",
      "4\n",
      "5\n"
     ]
    }
   ],
   "source": [
    "n=int(input(\"natural numbers\"))\n",
    "for n in range(0,n):\n",
    "    print(n+1)"
   ]
  },
  {
   "cell_type": "code",
   "execution_count": 11,
   "id": "a2e4565e",
   "metadata": {
    "scrolled": true
   },
   "outputs": [
    {
     "name": "stdout",
     "output_type": "stream",
     "text": [
      "enter number5\n",
      "enter number4\n",
      "enter number3\n",
      "enter number2\n",
      "enter number1\n",
      "enter number0\n",
      "enter number8\n",
      "enter number9\n",
      "enter number7\n",
      "enter number5\n",
      "numbers [5, 4, 3, 2, 1, 0, 8, 9, 7, 5]\n",
      "average 4.4\n"
     ]
    }
   ],
   "source": [
    "l=[]\n",
    "for i in range(0,10):\n",
    "    n=int(input(\"enter number\"))\n",
    "    l.append(n)\n",
    "print(\"numbers\",l)    \n",
    "print(\"average\",sum(l)/len(l))"
   ]
  },
  {
   "cell_type": "code",
   "execution_count": 5,
   "id": "4fb5d9a7",
   "metadata": {
    "scrolled": true
   },
   "outputs": [
    {
     "name": "stdout",
     "output_type": "stream",
     "text": [
      "enter number5\n",
      "fact: 120\n"
     ]
    }
   ],
   "source": [
    "#factorial\n",
    "num=int(input(\"enter number\"))\n",
    "f=1\n",
    "while (num>0):\n",
    "    f=f*num\n",
    "    num=num-1\n",
    "print(\"fact:\",f)   "
   ]
  },
  {
   "cell_type": "code",
   "execution_count": 7,
   "id": "0790702f",
   "metadata": {},
   "outputs": [
    {
     "name": "stdout",
     "output_type": "stream",
     "text": [
      "enter a number10\n",
      "enter a number8\n",
      "enter a number7\n",
      "enter a number2\n",
      "enter a number35\n",
      "enter a number6\n",
      "enter a number4\n",
      "enter a number8\n",
      "enter a number9\n",
      "enter a number0\n",
      "list = [10, 8, 7, 2, 35, 6, 4, 8, 9, 0]\n",
      "enter number7\n",
      "7 is present in list[10, 8, 7, 2, 35, 6, 4, 8, 9, 0]\n"
     ]
    }
   ],
   "source": [
    "l=[]\n",
    "for i in range (0,10):\n",
    "    n=int(input(\"enter a number\"))\n",
    "    l.append(n)\n",
    "print(\"list =\",l)    \n",
    "\n",
    "x=int(input(\"enter number\"))\n",
    "if (x in l):\n",
    "    print(\"{0} is present in list{1}\".format(x,l))\n",
    "else:\n",
    "    print(\"{0} is not present in list {1}\".format(x,l))"
   ]
  },
  {
   "cell_type": "code",
   "execution_count": 1,
   "id": "fc42e351",
   "metadata": {},
   "outputs": [
    {
     "name": "stdout",
     "output_type": "stream",
     "text": [
      "enter number10\n",
      "enter number8\n",
      "enter number8\n",
      "enter number7\n",
      "enter number5\n",
      "enter number5\n",
      "enter number3\n",
      "enter number3\n",
      "enter number2\n",
      "enter number1\n",
      "list with duplicate numbers:= [10, 8, 8, 7, 5, 5, 3, 3, 2, 1]\n"
     ]
    }
   ],
   "source": [
    "l=[]\n",
    "for i in range (0,10):\n",
    "    n=int(input(\"enter number\"))\n",
    "    l.append(n)\n",
    "print(\"list with duplicate numbers:=\",l)  "
   ]
  },
  {
   "cell_type": "code",
   "execution_count": 8,
   "id": "d3300e1d",
   "metadata": {},
   "outputs": [],
   "source": [
    "t=set(l)"
   ]
  },
  {
   "cell_type": "code",
   "execution_count": 9,
   "id": "3a41da71",
   "metadata": {},
   "outputs": [],
   "source": [
    "l=list(l)"
   ]
  },
  {
   "cell_type": "code",
   "execution_count": 12,
   "id": "5acd102e",
   "metadata": {},
   "outputs": [
    {
     "name": "stdout",
     "output_type": "stream",
     "text": [
      "list without duplicat enumbers {1, 2, 3, 5, 7, 8, 10}\n"
     ]
    }
   ],
   "source": [
    "print(\"list without duplicat enumbers\",set(l))"
   ]
  },
  {
   "cell_type": "code",
   "execution_count": 9,
   "id": "e0ba6502",
   "metadata": {},
   "outputs": [
    {
     "name": "stdout",
     "output_type": "stream",
     "text": [
      "enter number10\n",
      "enter number5\n",
      "enter number4\n",
      "enter number6\n",
      "enter number2\n",
      "enter number1\n",
      "enter number5\n",
      "enter number8\n",
      "enter number6\n",
      "enter number3\n",
      "list of elements [10, 5, 4, 6, 2, 1, 5, 8, 6, 3]\n"
     ]
    }
   ],
   "source": [
    "l=[]\n",
    "for i in range(0,10):\n",
    "    n=int(input(\"enter number\"))\n",
    "    l.append(n)\n",
    "print(\"list of elements\",l)"
   ]
  },
  {
   "cell_type": "code",
   "execution_count": 18,
   "id": "1d5bbab1",
   "metadata": {},
   "outputs": [],
   "source": [
    "s=l.reverse()"
   ]
  },
  {
   "cell_type": "code",
   "execution_count": 21,
   "id": "c906cc10",
   "metadata": {},
   "outputs": [
    {
     "name": "stdout",
     "output_type": "stream",
     "text": [
      "reversed numbers:  [3, 6, 8, 5, 1, 2, 6, 4, 5, 10]\n"
     ]
    }
   ],
   "source": [
    "print(\"reversed numbers: \",l)"
   ]
  },
  {
   "cell_type": "code",
   "execution_count": 2,
   "id": "6948b8d4",
   "metadata": {},
   "outputs": [
    {
     "name": "stdout",
     "output_type": "stream",
     "text": [
      "nameIrfan Dastgir Fulari\n",
      "I.D.Fulari\n"
     ]
    }
   ],
   "source": [
    "name=input(\"name\")\n",
    "n=name.split()\n",
    "t=n[0][0]+\".\"+n[1][0]+\".\"+n[2]\n",
    "print(t)"
   ]
  },
  {
   "cell_type": "code",
   "execution_count": 8,
   "id": "9b2de848",
   "metadata": {},
   "outputs": [
    {
     "name": "stdout",
     "output_type": "stream",
     "text": [
      "enter number10\n",
      "enter number9\n",
      "enter number8\n",
      "enter number7\n",
      "enter number6\n",
      "enter number5\n",
      "enter number4\n",
      "enter number3\n",
      "enter number2\n",
      "enter number1\n",
      "list of elements [10, 9, 8, 7, 6, 5, 4, 3, 2, 1]\n"
     ]
    }
   ],
   "source": [
    "l=[]\n",
    "for i in range(0,10):\n",
    "    n=int(input(\"enter number\"))\n",
    "    l.append(n)\n",
    "print(\"list of elements\",l)"
   ]
  },
  {
   "cell_type": "code",
   "execution_count": 15,
   "id": "61991474",
   "metadata": {},
   "outputs": [
    {
     "name": "stdout",
     "output_type": "stream",
     "text": [
      "list of elements [1, 2, 3, 4, 5, 6, 7, 8, 9, 10]\n"
     ]
    }
   ],
   "source": [
    "print(\"list of elements\",l)"
   ]
  },
  {
   "cell_type": "code",
   "execution_count": null,
   "id": "4fde0c8a",
   "metadata": {},
   "outputs": [],
   "source": [
    "name=input(\"enter full name\")\n",
    "n=name.split()\n",
    "t=n[0][0]+\".\"+n[1][0]+\".\"+n[2]\n",
    "print(t)"
   ]
  },
  {
   "cell_type": "code",
   "execution_count": 1,
   "id": "76995025",
   "metadata": {},
   "outputs": [
    {
     "name": "stdout",
     "output_type": "stream",
     "text": [
      "12\n"
     ]
    }
   ],
   "source": [
    "a=\"refrigerator\"\n",
    "count=0\n",
    "for i in a:\n",
    "    count=count+1\n",
    "print(count)"
   ]
  },
  {
   "cell_type": "code",
   "execution_count": 3,
   "id": "54a3841d",
   "metadata": {},
   "outputs": [
    {
     "name": "stdout",
     "output_type": "stream",
     "text": [
      "5\n",
      "4\n",
      "3\n"
     ]
    }
   ],
   "source": [
    "#break statement\n",
    "i=5\n",
    "while (i>0):\n",
    "    print(i)\n",
    "    if (i==3):\n",
    "        break\n",
    "    i=i-1"
   ]
  },
  {
   "cell_type": "code",
   "execution_count": 9,
   "id": "b478d21e",
   "metadata": {},
   "outputs": [
    {
     "name": "stdout",
     "output_type": "stream",
     "text": [
      "0\n",
      "1\n",
      "2\n",
      "3\n"
     ]
    }
   ],
   "source": [
    "for i in range (0,5):\n",
    "    print(i) \n",
    "    if(i==3):\n",
    "        break\n",
    "    i=i-1"
   ]
  },
  {
   "cell_type": "code",
   "execution_count": null,
   "id": "bb25ff26",
   "metadata": {},
   "outputs": [
    {
     "name": "stdout",
     "output_type": "stream",
     "text": [
      "5\n",
      "4\n"
     ]
    }
   ],
   "source": [
    "#continue statement\n",
    "i=5\n",
    "while (i>0):\n",
    "    if (i==3):\n",
    "        continue\n",
    "        i=i-1\n",
    "    print(i)            \n",
    "    i=i-1"
   ]
  },
  {
   "cell_type": "code",
   "execution_count": 1,
   "id": "e7eb2694",
   "metadata": {},
   "outputs": [
    {
     "name": "stdout",
     "output_type": "stream",
     "text": [
      "5\n",
      "4\n",
      "2\n",
      "1\n"
     ]
    }
   ],
   "source": [
    "i=5\n",
    "while (i>0):\n",
    "    if(i==3):\n",
    "        i=i-1\n",
    "        continue\n",
    "    print(i)\n",
    "    i=i-1"
   ]
  },
  {
   "cell_type": "code",
   "execution_count": 8,
   "id": "f12761c8",
   "metadata": {},
   "outputs": [],
   "source": [
    "def hello():\n",
    "    print('hello world')\n"
   ]
  },
  {
   "cell_type": "code",
   "execution_count": 9,
   "id": "b1e64edc",
   "metadata": {},
   "outputs": [
    {
     "name": "stdout",
     "output_type": "stream",
     "text": [
      "hello world\n"
     ]
    }
   ],
   "source": [
    "hello()"
   ]
  },
  {
   "cell_type": "code",
   "execution_count": 12,
   "id": "4398f12c",
   "metadata": {},
   "outputs": [],
   "source": [
    "def add(x):\n",
    "    return x+10"
   ]
  },
  {
   "cell_type": "code",
   "execution_count": 13,
   "id": "8d6cf2b0",
   "metadata": {},
   "outputs": [
    {
     "data": {
      "text/plain": [
       "20"
      ]
     },
     "execution_count": 13,
     "metadata": {},
     "output_type": "execute_result"
    }
   ],
   "source": [
    "add(10)"
   ]
  },
  {
   "cell_type": "code",
   "execution_count": 14,
   "id": "cd27209c",
   "metadata": {},
   "outputs": [],
   "source": [
    "def odd_even(x):\n",
    "    if x%2==0:\n",
    "        print(x,\"is even\")\n",
    "    else:\n",
    "        print(x, \"is odd\")"
   ]
  },
  {
   "cell_type": "code",
   "execution_count": 16,
   "id": "6dc6fc85",
   "metadata": {},
   "outputs": [
    {
     "name": "stdout",
     "output_type": "stream",
     "text": [
      "9 is odd\n"
     ]
    }
   ],
   "source": [
    "odd_even(9)"
   ]
  },
  {
   "cell_type": "code",
   "execution_count": 17,
   "id": "17d838e6",
   "metadata": {},
   "outputs": [],
   "source": [
    "def fun(a,b,c):\n",
    "    print(a)\n",
    "    print(b)\n",
    "    print(c)"
   ]
  },
  {
   "cell_type": "code",
   "execution_count": 18,
   "id": "f46a6bd8",
   "metadata": {},
   "outputs": [
    {
     "name": "stdout",
     "output_type": "stream",
     "text": [
      "1\n",
      "2\n",
      "3\n"
     ]
    }
   ],
   "source": [
    "fun(1,2,3)"
   ]
  },
  {
   "cell_type": "code",
   "execution_count": 24,
   "id": "39abbcac",
   "metadata": {},
   "outputs": [],
   "source": [
    "def fun (a,b,c):\n",
    "    print(a,b,c)"
   ]
  },
  {
   "cell_type": "code",
   "execution_count": 26,
   "id": "6ed9a073",
   "metadata": {},
   "outputs": [
    {
     "name": "stdout",
     "output_type": "stream",
     "text": [
      "100 200 3\n"
     ]
    }
   ],
   "source": [
    "fun(100,200,3)"
   ]
  },
  {
   "cell_type": "code",
   "execution_count": 27,
   "id": "a8757436",
   "metadata": {},
   "outputs": [],
   "source": [
    "def sample(x,y,z):\n",
    "    print(x,y,z)"
   ]
  },
  {
   "cell_type": "code",
   "execution_count": 29,
   "id": "452506d9",
   "metadata": {},
   "outputs": [
    {
     "name": "stdout",
     "output_type": "stream",
     "text": [
      "10 20 30\n"
     ]
    }
   ],
   "source": [
    "sample(10,20,30)"
   ]
  },
  {
   "cell_type": "code",
   "execution_count": 30,
   "id": "15d5505e",
   "metadata": {},
   "outputs": [
    {
     "name": "stdout",
     "output_type": "stream",
     "text": [
      "50 60 40\n"
     ]
    }
   ],
   "source": [
    "sample(z=40,x=50,y=60)"
   ]
  },
  {
   "cell_type": "code",
   "execution_count": 31,
   "id": "38c598a1",
   "metadata": {},
   "outputs": [
    {
     "name": "stdout",
     "output_type": "stream",
     "text": [
      "10 2.3 90\n"
     ]
    }
   ],
   "source": [
    "sample(10,z=90,y=2.3)"
   ]
  },
  {
   "cell_type": "code",
   "execution_count": 4,
   "id": "02b49d19",
   "metadata": {},
   "outputs": [],
   "source": [
    "def fun(*t):\n",
    "    for i in t:\n",
    "        print(i)"
   ]
  },
  {
   "cell_type": "code",
   "execution_count": 7,
   "id": "34f4362c",
   "metadata": {},
   "outputs": [],
   "source": [
    "fun()"
   ]
  },
  {
   "cell_type": "code",
   "execution_count": 8,
   "id": "4afe97ce",
   "metadata": {},
   "outputs": [
    {
     "name": "stdout",
     "output_type": "stream",
     "text": [
      "a=10 inside function fun\n",
      "a=10 outside function fun\n"
     ]
    }
   ],
   "source": [
    "#global variable\n",
    "a=10\n",
    "def fun():\n",
    "    b=20\n",
    "    print(\"a={0} inside function fun\".format(a))\n",
    "fun()\n",
    "print(\"a={0} outside function fun\".format(a))    "
   ]
  },
  {
   "cell_type": "code",
   "execution_count": 40,
   "id": "97d2f5fd",
   "metadata": {},
   "outputs": [
    {
     "name": "stdout",
     "output_type": "stream",
     "text": [
      "b=20 inside function fun\n"
     ]
    },
    {
     "ename": "NameError",
     "evalue": "name 'b' is not defined",
     "output_type": "error",
     "traceback": [
      "\u001b[1;31m---------------------------------------------------------------------------\u001b[0m",
      "\u001b[1;31mNameError\u001b[0m                                 Traceback (most recent call last)",
      "\u001b[1;32m~\\AppData\\Local\\Temp/ipykernel_5908/4249817359.py\u001b[0m in \u001b[0;36m<module>\u001b[1;34m\u001b[0m\n\u001b[0;32m      5\u001b[0m     \u001b[0mprint\u001b[0m\u001b[1;33m(\u001b[0m\u001b[1;34m\"b={0} inside function fun\"\u001b[0m\u001b[1;33m.\u001b[0m\u001b[0mformat\u001b[0m\u001b[1;33m(\u001b[0m\u001b[0mb\u001b[0m\u001b[1;33m)\u001b[0m\u001b[1;33m)\u001b[0m\u001b[1;33m\u001b[0m\u001b[1;33m\u001b[0m\u001b[0m\n\u001b[0;32m      6\u001b[0m \u001b[0mfun\u001b[0m\u001b[1;33m(\u001b[0m\u001b[1;33m)\u001b[0m\u001b[1;33m\u001b[0m\u001b[1;33m\u001b[0m\u001b[0m\n\u001b[1;32m----> 7\u001b[1;33m \u001b[0mprint\u001b[0m\u001b[1;33m(\u001b[0m\u001b[1;34m\"b={0} outside function fun\"\u001b[0m\u001b[1;33m.\u001b[0m\u001b[0mformat\u001b[0m\u001b[1;33m(\u001b[0m\u001b[0mb\u001b[0m\u001b[1;33m)\u001b[0m\u001b[1;33m)\u001b[0m\u001b[1;33m\u001b[0m\u001b[1;33m\u001b[0m\u001b[0m\n\u001b[0m",
      "\u001b[1;31mNameError\u001b[0m: name 'b' is not defined"
     ]
    }
   ],
   "source": [
    "#local variable\n",
    "a=10\n",
    "def fun():\n",
    "    b=20\n",
    "    print(\"b={0} inside function fun\".format(b))\n",
    "fun()    \n",
    "print(\"b={0} outside function fun\".format(b))"
   ]
  },
  {
   "cell_type": "code",
   "execution_count": 50,
   "id": "4abe56a9",
   "metadata": {},
   "outputs": [
    {
     "name": "stdout",
     "output_type": "stream",
     "text": [
      "x=10 inside example\n",
      "x=10 outside example\n"
     ]
    }
   ],
   "source": [
    "x=10\n",
    "def example():\n",
    "    global x\n",
    "    print(\"x={0} inside example\".format(x))\n",
    "example()    \n",
    "print(\"x={0} outside example\".format(x))"
   ]
  },
  {
   "cell_type": "code",
   "execution_count": 2,
   "id": "22eb4ca7",
   "metadata": {},
   "outputs": [
    {
     "name": "stdout",
     "output_type": "stream",
     "text": [
      "q=2.3 inside fun\n",
      "p=100 inside fun\n"
     ]
    }
   ],
   "source": [
    "#local + global variable\n",
    "p=100\n",
    "def fun():\n",
    "    global p\n",
    "    q=2.3\n",
    "    print(\"q={0} inside fun\".format(q))\n",
    "fun()    \n",
    "print(\"p={0} inside fun\".format(p))"
   ]
  },
  {
   "cell_type": "code",
   "execution_count": 58,
   "id": "4e418b28",
   "metadata": {},
   "outputs": [
    {
     "ename": "SyntaxError",
     "evalue": "invalid syntax (Temp/ipykernel_5908/3624568032.py, line 1)",
     "output_type": "error",
     "traceback": [
      "\u001b[1;36m  File \u001b[1;32m\"C:\\Users\\dell\\AppData\\Local\\Temp/ipykernel_5908/3624568032.py\"\u001b[1;36m, line \u001b[1;32m1\u001b[0m\n\u001b[1;33m    y=lambda x:(square of {0} is {1}.format(x,x**2))\u001b[0m\n\u001b[1;37m                       ^\u001b[0m\n\u001b[1;31mSyntaxError\u001b[0m\u001b[1;31m:\u001b[0m invalid syntax\n"
     ]
    }
   ],
   "source": [
    "y=lambda x:(\"square of {0} is {1}\".format(x,x**2))"
   ]
  },
  {
   "cell_type": "code",
   "execution_count": 59,
   "id": "4a3242d4",
   "metadata": {},
   "outputs": [
    {
     "data": {
      "text/plain": [
       "'square of 5 is 25'"
      ]
     },
     "execution_count": 59,
     "metadata": {},
     "output_type": "execute_result"
    }
   ],
   "source": [
    "y(5)"
   ]
  },
  {
   "cell_type": "code",
   "execution_count": 63,
   "id": "a658d3f8",
   "metadata": {},
   "outputs": [],
   "source": [
    "#to check number is odd or even.\n",
    "s=lambda t:1 if t%2==0 else 0"
   ]
  },
  {
   "cell_type": "code",
   "execution_count": 68,
   "id": "20332e78",
   "metadata": {},
   "outputs": [
    {
     "name": "stdout",
     "output_type": "stream",
     "text": [
      "enter number7\n",
      "number is odd\n"
     ]
    }
   ],
   "source": [
    "n=int(input(\"enter number\"))\n",
    "if (s(n)):\n",
    "    print(\"number is even\")\n",
    "else:\n",
    "    print(\"number is odd\")"
   ]
  },
  {
   "cell_type": "code",
   "execution_count": null,
   "id": "3ac4de1b",
   "metadata": {},
   "outputs": [],
   "source": []
  },
  {
   "cell_type": "code",
   "execution_count": null,
   "id": "1227b3dd",
   "metadata": {},
   "outputs": [],
   "source": []
  },
  {
   "cell_type": "code",
   "execution_count": null,
   "id": "99d4c50b",
   "metadata": {},
   "outputs": [],
   "source": []
  }
 ],
 "metadata": {
  "kernelspec": {
   "display_name": "Python 3 (ipykernel)",
   "language": "python",
   "name": "python3"
  },
  "language_info": {
   "codemirror_mode": {
    "name": "ipython",
    "version": 3
   },
   "file_extension": ".py",
   "mimetype": "text/x-python",
   "name": "python",
   "nbconvert_exporter": "python",
   "pygments_lexer": "ipython3",
   "version": "3.9.7"
  }
 },
 "nbformat": 4,
 "nbformat_minor": 5
}
