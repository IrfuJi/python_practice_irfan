{
 "cells": [
  {
   "cell_type": "code",
   "execution_count": 1,
   "id": "eb1ef1f0",
   "metadata": {},
   "outputs": [],
   "source": [
    "#if elif else statements\n",
    "a=10\n",
    "b=20"
   ]
  },
  {
   "cell_type": "code",
   "execution_count": 3,
   "id": "dc298258",
   "metadata": {},
   "outputs": [],
   "source": [
    "if a>b:\n",
    "    print(\"b is grater than a\")"
   ]
  },
  {
   "cell_type": "code",
   "execution_count": 6,
   "id": "434aa3b1",
   "metadata": {},
   "outputs": [
    {
     "name": "stdout",
     "output_type": "stream",
     "text": [
      "b is greater than a\n"
     ]
    }
   ],
   "source": [
    "if a>b:\n",
    "    print(\"a is grater than b\")\n",
    "\n",
    "else:\n",
    "    print(\"b is greater than a\")"
   ]
  },
  {
   "cell_type": "code",
   "execution_count": 8,
   "id": "52631fbd",
   "metadata": {},
   "outputs": [],
   "source": [
    "a=10\n",
    "b=20\n",
    "c=30"
   ]
  },
  {
   "cell_type": "code",
   "execution_count": 9,
   "id": "1138556b",
   "metadata": {},
   "outputs": [
    {
     "name": "stdout",
     "output_type": "stream",
     "text": [
      "c is the greatest\n"
     ]
    }
   ],
   "source": [
    "if (a>b) and (a>c):\n",
    "    print(\"a is greatest\")\n",
    "elif (b>a)and(b>c):\n",
    "    print(\"b is greatest\")\n",
    "else:\n",
    "    print(\"c is the greatest\")"
   ]
  },
  {
   "cell_type": "code",
   "execution_count": 10,
   "id": "17a168fe",
   "metadata": {},
   "outputs": [],
   "source": [
    "#if with tupple\n",
    "tup1=('a','b','c')"
   ]
  },
  {
   "cell_type": "code",
   "execution_count": 11,
   "id": "56fc726f",
   "metadata": {},
   "outputs": [
    {
     "name": "stdout",
     "output_type": "stream",
     "text": [
      "value a is present in tup1\n"
     ]
    }
   ],
   "source": [
    "if 'a' in tup1:\n",
    "    print(\"value a is present in tup1\")"
   ]
  },
  {
   "cell_type": "code",
   "execution_count": 12,
   "id": "18412c12",
   "metadata": {},
   "outputs": [
    {
     "name": "stdout",
     "output_type": "stream",
     "text": [
      "value z is not present in tup1\n"
     ]
    }
   ],
   "source": [
    "if 'z' in tup1:\n",
    "    print(\"value a is present in tup1\")\n",
    "else:\n",
    "    print(\"value z is not present in tup1\")"
   ]
  },
  {
   "cell_type": "code",
   "execution_count": 13,
   "id": "d8acb4a8",
   "metadata": {},
   "outputs": [],
   "source": [
    "#if with list\n",
    "l=['a','v','c','d']"
   ]
  },
  {
   "cell_type": "code",
   "execution_count": 14,
   "id": "56c44ebb",
   "metadata": {},
   "outputs": [],
   "source": [
    "if l[1]=='v':\n",
    "    l[1]='z'"
   ]
  },
  {
   "cell_type": "code",
   "execution_count": 15,
   "id": "80b6f748",
   "metadata": {},
   "outputs": [
    {
     "data": {
      "text/plain": [
       "['a', 'z', 'c', 'd']"
      ]
     },
     "execution_count": 15,
     "metadata": {},
     "output_type": "execute_result"
    }
   ],
   "source": [
    "l"
   ]
  },
  {
   "cell_type": "code",
   "execution_count": 21,
   "id": "f591dbfd",
   "metadata": {},
   "outputs": [],
   "source": [
    "#if with dictionary\n",
    "d={'k1':10,\"k2\":20,'k3':40,\"k4\":50}"
   ]
  },
  {
   "cell_type": "code",
   "execution_count": 29,
   "id": "6cb299f1",
   "metadata": {},
   "outputs": [
    {
     "ename": "SyntaxError",
     "evalue": "cannot assign to function call (Temp/ipykernel_10964/4175386837.py, line 2)",
     "output_type": "error",
     "traceback": [
      "\u001b[1;36m  File \u001b[1;32m\"C:\\Users\\dell\\AppData\\Local\\Temp/ipykernel_10964/4175386837.py\"\u001b[1;36m, line \u001b[1;32m2\u001b[0m\n\u001b[1;33m    d('k1')=d('k1')+10\u001b[0m\n\u001b[1;37m    ^\u001b[0m\n\u001b[1;31mSyntaxError\u001b[0m\u001b[1;31m:\u001b[0m cannot assign to function call\n"
     ]
    }
   ],
   "source": [
    "if d('k1')==10:\n",
    "    d('k1')=d('k1')+10"
   ]
  },
  {
   "cell_type": "code",
   "execution_count": 32,
   "id": "f0057a24",
   "metadata": {},
   "outputs": [
    {
     "name": "stdout",
     "output_type": "stream",
     "text": [
      "1\n",
      "2\n",
      "3\n",
      "4\n",
      "5\n",
      "6\n",
      "7\n",
      "8\n",
      "9\n",
      "10\n"
     ]
    }
   ],
   "source": [
    "i=1\n",
    "while (i<=10):\n",
    "    print(i)\n",
    "    i=i+1"
   ]
  },
  {
   "cell_type": "code",
   "execution_count": 1,
   "id": "f1d72861",
   "metadata": {},
   "outputs": [
    {
     "name": "stdout",
     "output_type": "stream",
     "text": [
      "2 * 1 = 2\n",
      "2 * 2 = 4\n",
      "2 * 3 = 6\n",
      "2 * 4 = 8\n",
      "2 * 5 = 10\n",
      "2 * 6 = 12\n",
      "2 * 7 = 14\n",
      "2 * 8 = 16\n",
      "2 * 9 = 18\n",
      "2 * 10 = 20\n"
     ]
    }
   ],
   "source": [
    "i=1\n",
    "n=2\n",
    "while i<=10:\n",
    "    print(n, \"*\",i,\"=\", n*i)\n",
    "    i=i+1"
   ]
  },
  {
   "cell_type": "code",
   "execution_count": 2,
   "id": "970d10ae",
   "metadata": {},
   "outputs": [],
   "source": [
    "#while with list\n",
    "l=[1,2,3,4,5,6,7]\n"
   ]
  },
  {
   "cell_type": "code",
   "execution_count": 3,
   "id": "a7026d10",
   "metadata": {},
   "outputs": [],
   "source": [
    "i=0"
   ]
  },
  {
   "cell_type": "code",
   "execution_count": 4,
   "id": "1a48420e",
   "metadata": {},
   "outputs": [],
   "source": [
    "while i<len(l):\n",
    "    l[i]=l[i]+100\n",
    "    i=i+1"
   ]
  },
  {
   "cell_type": "code",
   "execution_count": 5,
   "id": "6ea38aaa",
   "metadata": {},
   "outputs": [
    {
     "data": {
      "text/plain": [
       "[101, 102, 103, 104, 105, 106, 107]"
      ]
     },
     "execution_count": 5,
     "metadata": {},
     "output_type": "execute_result"
    }
   ],
   "source": [
    "l"
   ]
  },
  {
   "cell_type": "code",
   "execution_count": 8,
   "id": "59d66d08",
   "metadata": {},
   "outputs": [],
   "source": [
    "#for loop\n",
    "\n",
    "l = ['apple','banana','grapes','mango']"
   ]
  },
  {
   "cell_type": "code",
   "execution_count": 9,
   "id": "ea1a34e6",
   "metadata": {},
   "outputs": [
    {
     "name": "stdout",
     "output_type": "stream",
     "text": [
      "apple\n",
      "banana\n",
      "grapes\n",
      "mango\n"
     ]
    }
   ],
   "source": [
    "for i in l:\n",
    "    print(i)"
   ]
  },
  {
   "cell_type": "code",
   "execution_count": 16,
   "id": "908144da",
   "metadata": {},
   "outputs": [],
   "source": [
    "l1= ['apple','banana','grapes','onion','finger']\n",
    "l2=['book','chair','table','mouse']"
   ]
  },
  {
   "cell_type": "code",
   "execution_count": 17,
   "id": "58a1a85d",
   "metadata": {},
   "outputs": [
    {
     "name": "stdout",
     "output_type": "stream",
     "text": [
      "apple book\n",
      "apple chair\n",
      "apple table\n",
      "apple mouse\n",
      "banana book\n",
      "banana chair\n",
      "banana table\n",
      "banana mouse\n",
      "grapes book\n",
      "grapes chair\n",
      "grapes table\n",
      "grapes mouse\n",
      "onion book\n",
      "onion chair\n",
      "onion table\n",
      "onion mouse\n",
      "finger book\n",
      "finger chair\n",
      "finger table\n",
      "finger mouse\n"
     ]
    }
   ],
   "source": [
    "for i in l1:\n",
    "    for j in l2:\n",
    "        print(i,j)           #nested for loops"
   ]
  },
  {
   "cell_type": "code",
   "execution_count": 19,
   "id": "97fe80fa",
   "metadata": {},
   "outputs": [],
   "source": [
    "def hello():\n",
    "    print(\"hello world\")"
   ]
  },
  {
   "cell_type": "code",
   "execution_count": 20,
   "id": "5cd9b72d",
   "metadata": {},
   "outputs": [
    {
     "name": "stdout",
     "output_type": "stream",
     "text": [
      "hello world\n"
     ]
    }
   ],
   "source": [
    "hello()"
   ]
  },
  {
   "cell_type": "code",
   "execution_count": 21,
   "id": "08d5e341",
   "metadata": {},
   "outputs": [],
   "source": [
    "def add_10(x):\n",
    "    return x+10"
   ]
  },
  {
   "cell_type": "code",
   "execution_count": 22,
   "id": "2b315dfb",
   "metadata": {},
   "outputs": [
    {
     "data": {
      "text/plain": [
       "110"
      ]
     },
     "execution_count": 22,
     "metadata": {},
     "output_type": "execute_result"
    }
   ],
   "source": [
    "add_10(100)"
   ]
  },
  {
   "cell_type": "code",
   "execution_count": 23,
   "id": "f4eeab8f",
   "metadata": {},
   "outputs": [],
   "source": [
    "def odd_even(x):\n",
    "    if x%2==0:\n",
    "        print(\"x is even\")\n",
    "    else:\n",
    "        print(\"x is odd\")"
   ]
  },
  {
   "cell_type": "code",
   "execution_count": 27,
   "id": "5ee166fb",
   "metadata": {},
   "outputs": [
    {
     "name": "stdout",
     "output_type": "stream",
     "text": [
      "x is even\n"
     ]
    }
   ],
   "source": [
    "odd_even(50)"
   ]
  },
  {
   "cell_type": "code",
   "execution_count": null,
   "id": "20548c02",
   "metadata": {},
   "outputs": [],
   "source": []
  },
  {
   "cell_type": "code",
   "execution_count": null,
   "id": "d1fc019a",
   "metadata": {},
   "outputs": [],
   "source": []
  },
  {
   "cell_type": "code",
   "execution_count": null,
   "id": "ca1dfcfa",
   "metadata": {},
   "outputs": [],
   "source": []
  }
 ],
 "metadata": {
  "kernelspec": {
   "display_name": "Python 3 (ipykernel)",
   "language": "python",
   "name": "python3"
  },
  "language_info": {
   "codemirror_mode": {
    "name": "ipython",
    "version": 3
   },
   "file_extension": ".py",
   "mimetype": "text/x-python",
   "name": "python",
   "nbconvert_exporter": "python",
   "pygments_lexer": "ipython3",
   "version": "3.9.7"
  }
 },
 "nbformat": 4,
 "nbformat_minor": 5
}
