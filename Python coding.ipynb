{
 "cells": [
  {
   "cell_type": "code",
   "execution_count": 1,
   "id": "e4fd90ee",
   "metadata": {},
   "outputs": [
    {
     "ename": "KeyboardInterrupt",
     "evalue": "Interrupted by user",
     "output_type": "error",
     "traceback": [
      "\u001b[1;31m---------------------------------------------------------------------------\u001b[0m",
      "\u001b[1;31mKeyboardInterrupt\u001b[0m                         Traceback (most recent call last)",
      "\u001b[1;32m~\\AppData\\Local\\Temp/ipykernel_5596/4082701295.py\u001b[0m in \u001b[0;36m<module>\u001b[1;34m\u001b[0m\n\u001b[1;32m----> 1\u001b[1;33m \u001b[0mn\u001b[0m \u001b[1;33m=\u001b[0m \u001b[0mint\u001b[0m\u001b[1;33m(\u001b[0m\u001b[0minput\u001b[0m\u001b[1;33m(\u001b[0m\u001b[1;34m\"enter number : \"\u001b[0m\u001b[1;33m)\u001b[0m\u001b[1;33m)\u001b[0m\u001b[1;33m\u001b[0m\u001b[1;33m\u001b[0m\u001b[0m\n\u001b[0m\u001b[0;32m      2\u001b[0m \u001b[0mi\u001b[0m\u001b[1;33m=\u001b[0m\u001b[1;36m1\u001b[0m      \u001b[1;31m# initialization of loop\u001b[0m\u001b[1;33m\u001b[0m\u001b[1;33m\u001b[0m\u001b[0m\n\u001b[0;32m      3\u001b[0m \u001b[1;32mwhile\u001b[0m \u001b[0mi\u001b[0m\u001b[1;33m<=\u001b[0m\u001b[1;36m5\u001b[0m \u001b[1;33m:\u001b[0m\u001b[1;33m\u001b[0m\u001b[1;33m\u001b[0m\u001b[0m\n\u001b[0;32m      4\u001b[0m     \u001b[0mprint\u001b[0m\u001b[1;33m(\u001b[0m\u001b[1;34m\"hello\"\u001b[0m\u001b[1;33m)\u001b[0m\u001b[1;33m\u001b[0m\u001b[1;33m\u001b[0m\u001b[0m\n\u001b[0;32m      5\u001b[0m     \u001b[0mi\u001b[0m\u001b[1;33m=\u001b[0m\u001b[0mi\u001b[0m\u001b[1;33m+\u001b[0m\u001b[1;36m1\u001b[0m\u001b[1;33m\u001b[0m\u001b[1;33m\u001b[0m\u001b[0m\n",
      "\u001b[1;32m~\\anaconda3\\lib\\site-packages\\ipykernel\\kernelbase.py\u001b[0m in \u001b[0;36mraw_input\u001b[1;34m(self, prompt)\u001b[0m\n\u001b[0;32m   1004\u001b[0m                 \u001b[1;34m\"raw_input was called, but this frontend does not support input requests.\"\u001b[0m\u001b[1;33m\u001b[0m\u001b[1;33m\u001b[0m\u001b[0m\n\u001b[0;32m   1005\u001b[0m             )\n\u001b[1;32m-> 1006\u001b[1;33m         return self._input_request(\n\u001b[0m\u001b[0;32m   1007\u001b[0m             \u001b[0mstr\u001b[0m\u001b[1;33m(\u001b[0m\u001b[0mprompt\u001b[0m\u001b[1;33m)\u001b[0m\u001b[1;33m,\u001b[0m\u001b[1;33m\u001b[0m\u001b[1;33m\u001b[0m\u001b[0m\n\u001b[0;32m   1008\u001b[0m             \u001b[0mself\u001b[0m\u001b[1;33m.\u001b[0m\u001b[0m_parent_ident\u001b[0m\u001b[1;33m[\u001b[0m\u001b[1;34m\"shell\"\u001b[0m\u001b[1;33m]\u001b[0m\u001b[1;33m,\u001b[0m\u001b[1;33m\u001b[0m\u001b[1;33m\u001b[0m\u001b[0m\n",
      "\u001b[1;32m~\\anaconda3\\lib\\site-packages\\ipykernel\\kernelbase.py\u001b[0m in \u001b[0;36m_input_request\u001b[1;34m(self, prompt, ident, parent, password)\u001b[0m\n\u001b[0;32m   1049\u001b[0m             \u001b[1;32mexcept\u001b[0m \u001b[0mKeyboardInterrupt\u001b[0m\u001b[1;33m:\u001b[0m\u001b[1;33m\u001b[0m\u001b[1;33m\u001b[0m\u001b[0m\n\u001b[0;32m   1050\u001b[0m                 \u001b[1;31m# re-raise KeyboardInterrupt, to truncate traceback\u001b[0m\u001b[1;33m\u001b[0m\u001b[1;33m\u001b[0m\u001b[0m\n\u001b[1;32m-> 1051\u001b[1;33m                 \u001b[1;32mraise\u001b[0m \u001b[0mKeyboardInterrupt\u001b[0m\u001b[1;33m(\u001b[0m\u001b[1;34m\"Interrupted by user\"\u001b[0m\u001b[1;33m)\u001b[0m \u001b[1;32mfrom\u001b[0m \u001b[1;32mNone\u001b[0m\u001b[1;33m\u001b[0m\u001b[1;33m\u001b[0m\u001b[0m\n\u001b[0m\u001b[0;32m   1052\u001b[0m             \u001b[1;32mexcept\u001b[0m \u001b[0mException\u001b[0m\u001b[1;33m:\u001b[0m\u001b[1;33m\u001b[0m\u001b[1;33m\u001b[0m\u001b[0m\n\u001b[0;32m   1053\u001b[0m                 \u001b[0mself\u001b[0m\u001b[1;33m.\u001b[0m\u001b[0mlog\u001b[0m\u001b[1;33m.\u001b[0m\u001b[0mwarning\u001b[0m\u001b[1;33m(\u001b[0m\u001b[1;34m\"Invalid Message:\"\u001b[0m\u001b[1;33m,\u001b[0m \u001b[0mexc_info\u001b[0m\u001b[1;33m=\u001b[0m\u001b[1;32mTrue\u001b[0m\u001b[1;33m)\u001b[0m\u001b[1;33m\u001b[0m\u001b[1;33m\u001b[0m\u001b[0m\n",
      "\u001b[1;31mKeyboardInterrupt\u001b[0m: Interrupted by user"
     ]
    }
   ],
   "source": [
    "n = int(input(\"enter number : \"))\n",
    "i=1      # initialization of loop\n",
    "while i<=5 :\n",
    "    print(\"hello\")\n",
    "    i=i+1"
   ]
  },
  {
   "cell_type": "code",
   "execution_count": null,
   "id": "0acf345d",
   "metadata": {},
   "outputs": [],
   "source": [
    "n = int(input(\"enter number : \"))\n",
    "i=1\n",
    "for i in range(0,n):\n",
    "    print(\"hello\")\n",
    "    i=i+1"
   ]
  },
  {
   "cell_type": "code",
   "execution_count": null,
   "id": "ec08b898",
   "metadata": {},
   "outputs": [],
   "source": [
    "i=1\n",
    "while i<=10:\n",
    "    print(i)\n",
    "    if (i==5):\n",
    "        break\n",
    "    i=i+1\n",
    "    #break"
   ]
  },
  {
   "cell_type": "code",
   "execution_count": null,
   "id": "cb708e3b",
   "metadata": {},
   "outputs": [],
   "source": [
    "# prime number findout from user input\n",
    "\n",
    "n= int(input(\"enter input : \"))\n"
   ]
  },
  {
   "cell_type": "code",
   "execution_count": null,
   "id": "24d3d705",
   "metadata": {},
   "outputs": [],
   "source": [
    "class phone:\n",
    "    def make_phone(self):\n",
    "        print(\"making phone\")\n",
    "    def play_game(self):\n",
    "        print(\"play games\")"
   ]
  },
  {
   "cell_type": "code",
   "execution_count": null,
   "id": "7abb2998",
   "metadata": {},
   "outputs": [],
   "source": [
    "p1=phone()"
   ]
  },
  {
   "cell_type": "code",
   "execution_count": null,
   "id": "4e952f4d",
   "metadata": {},
   "outputs": [],
   "source": [
    "p1.make_phone()"
   ]
  },
  {
   "cell_type": "code",
   "execution_count": null,
   "id": "7ae67be8",
   "metadata": {},
   "outputs": [],
   "source": [
    "p1.play_game()"
   ]
  },
  {
   "cell_type": "code",
   "execution_count": null,
   "id": "0a2b4b69",
   "metadata": {},
   "outputs": [],
   "source": [
    "class phone:\n",
    "    def set_color(self,color):\n",
    "        self.color= color\n",
    "    def set_cost(self,cost):\n",
    "        self.cost = cost\n",
    "    def show_color(self):\n",
    "        return self.color\n",
    "    def show_cost(self):\n",
    "        return self.cost  \n",
    "    def make_phone(self):\n",
    "        print(\"making phone\")\n",
    "    def play_game(self):\n",
    "        print(\"play games\")"
   ]
  },
  {
   "cell_type": "code",
   "execution_count": null,
   "id": "da878c3e",
   "metadata": {},
   "outputs": [],
   "source": [
    "p = phone()\n",
    "p.set_color(\"blue\")"
   ]
  },
  {
   "cell_type": "code",
   "execution_count": null,
   "id": "80de6edb",
   "metadata": {},
   "outputs": [],
   "source": [
    "p.show_color()"
   ]
  },
  {
   "cell_type": "code",
   "execution_count": null,
   "id": "f6bd7649",
   "metadata": {},
   "outputs": [],
   "source": [
    "p.play_game()"
   ]
  },
  {
   "cell_type": "code",
   "execution_count": null,
   "id": "fcf56383",
   "metadata": {},
   "outputs": [],
   "source": [
    "# Constructors  __init__"
   ]
  },
  {
   "cell_type": "code",
   "execution_count": null,
   "id": "2921ca80",
   "metadata": {},
   "outputs": [],
   "source": [
    "class Employee:\n",
    "    def __init__(self,name,age,salary,experience):\n",
    "        self.name = name\n",
    "        self.age = age\n",
    "        self.salary = salary\n",
    "        self.experience = experience\n",
    "        \n",
    "    def display(self):\n",
    "        print(\"name of employee is : \", self.name)\n",
    "        print(\"age of employee is : \", self.age)\n",
    "        print(\"salary of employee is : \", self.salary)\n",
    "        print(\"exp of employee is : \", self.experience)"
   ]
  },
  {
   "cell_type": "code",
   "execution_count": null,
   "id": "9d07c1fd",
   "metadata": {},
   "outputs": [],
   "source": [
    "e = Employee('Irfan', 26, 55000, 4.5)"
   ]
  },
  {
   "cell_type": "code",
   "execution_count": null,
   "id": "f6a2a985",
   "metadata": {},
   "outputs": [],
   "source": [
    "e.display()"
   ]
  },
  {
   "cell_type": "code",
   "execution_count": null,
   "id": "1a5c4cf1",
   "metadata": {},
   "outputs": [],
   "source": [
    "# Inheritence"
   ]
  },
  {
   "cell_type": "code",
   "execution_count": null,
   "id": "c93146cf",
   "metadata": {},
   "outputs": [],
   "source": [
    "class Vehicle:\n",
    "    def __init__(self, average, cost):\n",
    "        self.average = average\n",
    "        self.cost = cost\n",
    "        \n",
    "    def show_vehicle_details(self):\n",
    "        print(\"vehicle details \")\n",
    "        print(\"average by vehicle : \", self.average)\n",
    "        print(\"cost of that vehicle : \", self.cost)\n",
    "        \n",
    "class car(Vehicle):\n",
    "    def show_car_details(self):\n",
    "        print(\"Its my car\")"
   ]
  },
  {
   "cell_type": "code",
   "execution_count": null,
   "id": "42a1f0d7",
   "metadata": {},
   "outputs": [],
   "source": [
    "v = Vehicle(80, 80000)"
   ]
  },
  {
   "cell_type": "code",
   "execution_count": null,
   "id": "f2797ce8",
   "metadata": {},
   "outputs": [],
   "source": [
    "c= car(100,80000)\n",
    "c.show_car_details()"
   ]
  },
  {
   "cell_type": "code",
   "execution_count": null,
   "id": "7c196307",
   "metadata": {},
   "outputs": [],
   "source": [
    "v.show_vehicle_details()"
   ]
  },
  {
   "cell_type": "code",
   "execution_count": null,
   "id": "d9f88c4a",
   "metadata": {},
   "outputs": [],
   "source": [
    "# Method over riding\n",
    "\n",
    "class Vehicle:\n",
    "    def __init__(self, average, cost):\n",
    "        self.average = average\n",
    "        self.cost = cost\n",
    "        \n",
    "    def show_vehicle_details(self):\n",
    "        print(\"vehicle details \")\n",
    "        print(\"average by vehicle : \", self.average)\n",
    "        print(\"cost of that vehicle : \", self.cost)\n",
    "        \n",
    "class car(Vehicle):\n",
    "    def __init__(self,average, cost, tyres, hp):      # over riding init method of parent class\n",
    "        super().__init__(average, cost)\n",
    "        self.tyres = tyres\n",
    "        self.hp = hp\n",
    "    def show_car_details(self):\n",
    "        print(\"number of tyres in car \", self.tyres)\n",
    "        print(\"hp of car \",self.hp)"
   ]
  },
  {
   "cell_type": "code",
   "execution_count": null,
   "id": "8778ae38",
   "metadata": {},
   "outputs": [],
   "source": [
    "v1 = Vehicle(500,50000)"
   ]
  },
  {
   "cell_type": "code",
   "execution_count": null,
   "id": "bf645822",
   "metadata": {},
   "outputs": [],
   "source": [
    "c1 = car(200,25000,8,300)"
   ]
  },
  {
   "cell_type": "code",
   "execution_count": null,
   "id": "2c1fd1ea",
   "metadata": {},
   "outputs": [],
   "source": [
    "c1.show_car_details()"
   ]
  },
  {
   "cell_type": "code",
   "execution_count": null,
   "id": "99aad71a",
   "metadata": {},
   "outputs": [],
   "source": [
    "c1.show_vehicle_details()"
   ]
  },
  {
   "cell_type": "code",
   "execution_count": null,
   "id": "a276d068",
   "metadata": {},
   "outputs": [],
   "source": []
  },
  {
   "cell_type": "code",
   "execution_count": null,
   "id": "39005b05",
   "metadata": {},
   "outputs": [],
   "source": [
    "print('irfan\\'s is doing well')"
   ]
  },
  {
   "cell_type": "code",
   "execution_count": null,
   "id": "736719e5",
   "metadata": {},
   "outputs": [],
   "source": [
    "print(\"irfan\", end=\" \")\n",
    "print(\"fulari\")"
   ]
  },
  {
   "cell_type": "code",
   "execution_count": null,
   "id": "709de486",
   "metadata": {},
   "outputs": [],
   "source": [
    "print(\" irfan fulari \\rpython\")"
   ]
  },
  {
   "cell_type": "code",
   "execution_count": null,
   "id": "05702c3d",
   "metadata": {},
   "outputs": [],
   "source": [
    "boss = input()\n",
    "if boss == 'present':\n",
    "    print('go by time')\n",
    "    \n",
    "else:\n",
    "    print('leave early')"
   ]
  },
  {
   "cell_type": "code",
   "execution_count": null,
   "id": "d2849fe6",
   "metadata": {},
   "outputs": [],
   "source": [
    "age = float(input(\"enter your age : \"))\n",
    "nationality = input()\n",
    "if age >=18 and nationality=='indian':\n",
    "    print(\"you are ready to vote, plz cast\")\n",
    "elif age == 16:\n",
    "    print(\"bro, plz wait till 2 years\")\n",
    "else:\n",
    "    print(\"please grow older to cast vote\")"
   ]
  },
  {
   "cell_type": "code",
   "execution_count": null,
   "id": "5df64248",
   "metadata": {},
   "outputs": [],
   "source": [
    "l = [1,2,5,6,7,8]\n",
    "m = int(input(\"enter number to check : \"))\n",
    "if m in l:\n",
    "    print(\"present\")\n",
    "    \n",
    "else:\n",
    "    print(\"not present\")"
   ]
  },
  {
   "cell_type": "code",
   "execution_count": null,
   "id": "263372d4",
   "metadata": {},
   "outputs": [],
   "source": []
  },
  {
   "cell_type": "code",
   "execution_count": null,
   "id": "98f005b6",
   "metadata": {},
   "outputs": [],
   "source": [
    "for dummy in range(5,55,5):\n",
    "    print(dummy)"
   ]
  },
  {
   "cell_type": "code",
   "execution_count": null,
   "id": "701c9795",
   "metadata": {},
   "outputs": [],
   "source": [
    "a = [\"irfan Dastgir fulari\"]\n",
    "for i in a:\n",
    "    print(i)"
   ]
  },
  {
   "cell_type": "code",
   "execution_count": null,
   "id": "d41afa05",
   "metadata": {},
   "outputs": [],
   "source": [
    "a = 4\n",
    "while a<44:\n",
    "    print(a)\n",
    "    a=a+4"
   ]
  },
  {
   "cell_type": "code",
   "execution_count": null,
   "id": "d2e99416",
   "metadata": {},
   "outputs": [],
   "source": []
  },
  {
   "cell_type": "code",
   "execution_count": null,
   "id": "f43bed95",
   "metadata": {},
   "outputs": [],
   "source": [
    "import sys"
   ]
  },
  {
   "cell_type": "code",
   "execution_count": null,
   "id": "d035a358",
   "metadata": {},
   "outputs": [],
   "source": [
    "sys.version"
   ]
  },
  {
   "cell_type": "code",
   "execution_count": null,
   "id": "8d8677d5",
   "metadata": {},
   "outputs": [],
   "source": [
    "sys.prefix"
   ]
  },
  {
   "cell_type": "code",
   "execution_count": null,
   "id": "25d932c8",
   "metadata": {},
   "outputs": [],
   "source": [
    "for x in range(1,6):\n",
    "    for y in range(x):\n",
    "        print(\"*\" , end=\"\")\n",
    "    print(\" \")\n",
    "    \n",
    "for x in range(5,0,-1):\n",
    "    for y in range(x):\n",
    "        print(\"*\", end=\"\")\n",
    "    print(\"\")    "
   ]
  },
  {
   "cell_type": "code",
   "execution_count": null,
   "id": "a63067b8",
   "metadata": {},
   "outputs": [],
   "source": [
    "for x in range(1,6):\n",
    "    for y in range(x):\n",
    "        print(\"*\" , end=\"\")\n",
    "    print(\"\")"
   ]
  },
  {
   "cell_type": "code",
   "execution_count": null,
   "id": "c328a041",
   "metadata": {},
   "outputs": [],
   "source": [
    "for x in range(5,0,-1):\n",
    "    for y in range(x):\n",
    "        print(\"*\", end=\"\")\n",
    "    print(\"\")    "
   ]
  },
  {
   "cell_type": "code",
   "execution_count": null,
   "id": "aa676e3c",
   "metadata": {},
   "outputs": [],
   "source": [
    "for i in range(9):\n",
    "    print(str(i) * i)"
   ]
  },
  {
   "cell_type": "code",
   "execution_count": null,
   "id": "11090b20",
   "metadata": {},
   "outputs": [],
   "source": [
    "a = int(input('enter input num :'))\n",
    "\n",
    "if a%2==0:\n",
    "    print('number is even')\n",
    "else:\n",
    "    print('number is odd')"
   ]
  },
  {
   "cell_type": "code",
   "execution_count": null,
   "id": "11788a4d",
   "metadata": {},
   "outputs": [],
   "source": [
    "x = 'irfan'\n",
    "y = 26\n",
    "\n",
    "print(f\"name of person is {x}, and age is {y}\")"
   ]
  },
  {
   "cell_type": "code",
   "execution_count": null,
   "id": "fb517bca",
   "metadata": {},
   "outputs": [],
   "source": [
    "list =[12,25,14,29,37,28,99,87,88,78,45,65,66,48,96]\n",
    "\n",
    "even=[]\n",
    "odd=[]\n",
    "\n",
    "for i in list:\n",
    "    if i%2 ==0:\n",
    "        even.append(i)\n",
    "    else:\n",
    "        odd.append(i)\n",
    "\n",
    "print(\"length of list : \" , len(list))        \n",
    "print('list of even values is : ', even, 'and length is :', len(even))        \n",
    "print('list of odd values is : ', odd , 'and length is :', len(odd)) "
   ]
  },
  {
   "cell_type": "code",
   "execution_count": null,
   "id": "f0441e0b",
   "metadata": {},
   "outputs": [],
   "source": [
    "first,last,age=input(\"enter what to print : \").split(\" \")"
   ]
  },
  {
   "cell_type": "code",
   "execution_count": null,
   "id": "01d2b1ce",
   "metadata": {},
   "outputs": [],
   "source": [
    "first"
   ]
  },
  {
   "cell_type": "code",
   "execution_count": null,
   "id": "23ead956",
   "metadata": {},
   "outputs": [],
   "source": [
    "last, age"
   ]
  },
  {
   "cell_type": "code",
   "execution_count": null,
   "id": "adf761b6",
   "metadata": {},
   "outputs": [],
   "source": [
    "a =input(\"enter numbers by comma separate\").split(\",\")\n",
    "a"
   ]
  },
  {
   "cell_type": "code",
   "execution_count": null,
   "id": "c002d533",
   "metadata": {},
   "outputs": [],
   "source": [
    "even=[]\n",
    "odd=[]\n",
    "\n",
    "for i in a:\n",
    "    i =int(i)\n",
    "    if i%2==0:\n",
    "        even.append(i)\n",
    "    else:\n",
    "        odd.append(i)\n",
    "        \n",
    "        \n",
    "print(\"length of list : \" , len(a))        \n",
    "print('list of even values is : ', even, 'and length is :', len(even))        \n",
    "print('list of odd values is : ', odd , 'and length is :', len(odd))         "
   ]
  },
  {
   "cell_type": "code",
   "execution_count": null,
   "id": "1870a368",
   "metadata": {},
   "outputs": [],
   "source": [
    "even =[]\n",
    "odd = []\n",
    "\n",
    "for i in range(100,14,-5):\n",
    "    if i%2==0:\n",
    "        even.append(i)\n",
    "    else:\n",
    "        odd.append(i)\n",
    "        \n",
    "print('list of even values is : ', even, 'and length is :', len(even))        \n",
    "print('list of odd values is : ', odd , 'and length is :', len(odd))         "
   ]
  },
  {
   "cell_type": "code",
   "execution_count": null,
   "id": "a085a753",
   "metadata": {},
   "outputs": [],
   "source": [
    "# sttaic sum of values in rannge 0 to 9\n",
    "\n",
    "sum=0\n",
    "for i in range(1,9):\n",
    "    sum=sum+i\n",
    "    \n",
    "print('total sum is',sum)    "
   ]
  },
  {
   "cell_type": "code",
   "execution_count": null,
   "id": "28697107",
   "metadata": {},
   "outputs": [],
   "source": [
    "l = [10,88,9,78,56,45,15,23]\n",
    "sum=0\n",
    "\n",
    "for i in l:\n",
    "    sum=sum+i\n",
    "print(sum)    "
   ]
  },
  {
   "cell_type": "code",
   "execution_count": null,
   "id": "1cb019a6",
   "metadata": {},
   "outputs": [],
   "source": []
  },
  {
   "cell_type": "code",
   "execution_count": null,
   "id": "07cbe89f",
   "metadata": {},
   "outputs": [],
   "source": [
    "l = \"my name is Anthony gOnsalvies\"\n",
    "\n",
    "a=[]\n",
    "r=[]\n",
    "\n",
    "for i in l:\n",
    "    if i=='a':\n",
    "        a.append(i)\n",
    "    elif i=='o':\n",
    "        r.append(i)\n",
    "    else:\n",
    "        pass\n",
    "print(a)    \n",
    "print(r)"
   ]
  },
  {
   "cell_type": "code",
   "execution_count": null,
   "id": "3295c2c1",
   "metadata": {},
   "outputs": [],
   "source": []
  },
  {
   "cell_type": "code",
   "execution_count": null,
   "id": "5cd454cd",
   "metadata": {},
   "outputs": [],
   "source": [
    "# error handling\n",
    "\n",
    "# 1. compile time error - syntax error, missing expression\n",
    "# 2. Logical error - \n",
    "# 3. Runtime error - depend on user , e.g. if user required to give int value but gives string, then runtime error occurs\n"
   ]
  },
  {
   "cell_type": "code",
   "execution_count": null,
   "id": "67204bfa",
   "metadata": {},
   "outputs": [],
   "source": [
    "try:\n",
    "    print(\"Resource opens\")\n",
    "    n=int(input(\"enter number : \"))\n",
    "    m=int(input('enter another number: '))\n",
    "    l=n/m\n",
    "    \n",
    "except Exception as e:\n",
    "    print(\"error : \", e)\n",
    "else:\n",
    "    print(l)\n",
    "    \n",
    "finally:\n",
    "    print(\"Resource closed\")     # anytime time it will run"
   ]
  },
  {
   "cell_type": "code",
   "execution_count": null,
   "id": "edc156d9",
   "metadata": {},
   "outputs": [],
   "source": [
    "try:\n",
    "    f = open('filename','w')\n",
    "    f.write(\"write something here\")\n",
    "    \n",
    "except:\n",
    "    print(\"file is in write mode\")\n",
    "else:\n",
    "    print(\"content written successfullly\")\n",
    "    f.close()"
   ]
  },
  {
   "cell_type": "code",
   "execution_count": null,
   "id": "4b7aec21",
   "metadata": {},
   "outputs": [],
   "source": [
    "try:\n",
    "    f = open('filename','w')\n",
    "    f.write(\"write something here\")\n",
    "    \n",
    "except:\n",
    "    print(\"file is in write mode\")\n",
    "else:\n",
    "    print(\"content written successfullly\")\n",
    "    f.close()"
   ]
  },
  {
   "cell_type": "code",
   "execution_count": null,
   "id": "1bb4fbb6",
   "metadata": {},
   "outputs": [],
   "source": [
    "try:\n",
    "    f = open('filename','r')\n",
    "    f.write(\"write something here\")\n",
    "    \n",
    "except Exception as e:\n",
    "    print(\"file is in write mode\", e)\n",
    "else:\n",
    "    print(\"content written successfullly\")\n",
    "    f.close()"
   ]
  },
  {
   "cell_type": "code",
   "execution_count": null,
   "id": "0e8db3c3",
   "metadata": {},
   "outputs": [],
   "source": []
  },
  {
   "cell_type": "code",
   "execution_count": null,
   "id": "4db07a40",
   "metadata": {},
   "outputs": [],
   "source": [
    "try:\n",
    "    a=int(input(\"enter a number\"))\n",
    "    b=int(input(\"enter 2nd number\"))\n",
    "    print(a/b)\n",
    "    \n",
    "except Exception as e1:\n",
    "    print(\"error 1 : \",e1)\n",
    "    \n",
    "except Exception as e2:\n",
    "    print(\"error 2 \", e2)\n",
    "    \n",
    "except Exception as e3:\n",
    "    print('something wrong',e3)\n",
    "    \n",
    "finally:\n",
    "    print(\".\")"
   ]
  },
  {
   "cell_type": "code",
   "execution_count": null,
   "id": "20fb3aa6",
   "metadata": {},
   "outputs": [],
   "source": []
  },
  {
   "cell_type": "code",
   "execution_count": null,
   "id": "435e0d19",
   "metadata": {},
   "outputs": [],
   "source": [
    "# loop control statement :\n",
    "# pass \n",
    "# break  : skip whole iteration ahead and exit from loop\n",
    "# continue : skip current iteration "
   ]
  },
  {
   "cell_type": "code",
   "execution_count": null,
   "id": "a78c57e1",
   "metadata": {},
   "outputs": [],
   "source": [
    "for i in 'pythontutorials':\n",
    "    if i=='n':\n",
    "        break\n",
    "    print(i)"
   ]
  },
  {
   "cell_type": "code",
   "execution_count": null,
   "id": "0bbc3c78",
   "metadata": {},
   "outputs": [],
   "source": [
    "b= 'python is a popular language than rest'\n",
    "for i in b.split():\n",
    "    if i=='than':\n",
    "        break\n",
    "    print(i, end=\" \")    "
   ]
  },
  {
   "cell_type": "code",
   "execution_count": null,
   "id": "db899a6b",
   "metadata": {},
   "outputs": [],
   "source": [
    "i=1\n",
    "\n",
    "while True:\n",
    "    a=i*2\n",
    "    if a>20:\n",
    "        break\n",
    "    i=i+1    \n",
    "    print(a)\n",
    "    \n",
    "print('loop complete')    "
   ]
  },
  {
   "cell_type": "code",
   "execution_count": null,
   "id": "35ced628",
   "metadata": {},
   "outputs": [],
   "source": [
    "# Indexing & slicing   [start : stop :step]\n",
    "s = 'hello welcome to mehmad empire'\n",
    "s"
   ]
  },
  {
   "cell_type": "code",
   "execution_count": null,
   "id": "841e07bb",
   "metadata": {},
   "outputs": [],
   "source": [
    "s"
   ]
  },
  {
   "cell_type": "code",
   "execution_count": null,
   "id": "503b4f01",
   "metadata": {},
   "outputs": [],
   "source": [
    "s[:6]"
   ]
  },
  {
   "cell_type": "code",
   "execution_count": null,
   "id": "edc25b77",
   "metadata": {},
   "outputs": [],
   "source": [
    "s[:-1]"
   ]
  },
  {
   "cell_type": "code",
   "execution_count": null,
   "id": "f92aba93",
   "metadata": {},
   "outputs": [],
   "source": [
    "s.upper()"
   ]
  },
  {
   "cell_type": "code",
   "execution_count": null,
   "id": "6f4f7963",
   "metadata": {},
   "outputs": [],
   "source": [
    "s.lower()"
   ]
  },
  {
   "cell_type": "code",
   "execution_count": null,
   "id": "8ae77784",
   "metadata": {},
   "outputs": [],
   "source": [
    "s.split(\"to\")"
   ]
  },
  {
   "cell_type": "code",
   "execution_count": null,
   "id": "ebf8bd5b",
   "metadata": {},
   "outputs": [],
   "source": [
    "s.partition('to')"
   ]
  },
  {
   "cell_type": "code",
   "execution_count": null,
   "id": "adbcd3eb",
   "metadata": {},
   "outputs": [],
   "source": [
    "s.isalnum()    # is also number ?"
   ]
  },
  {
   "cell_type": "code",
   "execution_count": null,
   "id": "905d6bdb",
   "metadata": {},
   "outputs": [],
   "source": [
    "m = 5020\n",
    "m.isalnum()"
   ]
  },
  {
   "cell_type": "code",
   "execution_count": null,
   "id": "e256b1bf",
   "metadata": {},
   "outputs": [],
   "source": [
    "s.islower()"
   ]
  },
  {
   "cell_type": "code",
   "execution_count": null,
   "id": "52323d94",
   "metadata": {},
   "outputs": [],
   "source": [
    "s.isspace()"
   ]
  },
  {
   "cell_type": "code",
   "execution_count": null,
   "id": "2a183a76",
   "metadata": {},
   "outputs": [],
   "source": [
    "s.isalpha()     # is all alphabet"
   ]
  },
  {
   "cell_type": "code",
   "execution_count": null,
   "id": "fe76ecab",
   "metadata": {},
   "outputs": [],
   "source": [
    "s.istitle()    # check first letter capital or not"
   ]
  },
  {
   "cell_type": "code",
   "execution_count": null,
   "id": "601b06c5",
   "metadata": {},
   "outputs": [],
   "source": [
    "s.isupper()"
   ]
  },
  {
   "cell_type": "code",
   "execution_count": null,
   "id": "52d24673",
   "metadata": {},
   "outputs": [],
   "source": [
    "s.endswith('o')    # check end character"
   ]
  },
  {
   "cell_type": "code",
   "execution_count": null,
   "id": "c797a8f9",
   "metadata": {},
   "outputs": [],
   "source": [
    "s.startswith('h')    # check start character"
   ]
  },
  {
   "cell_type": "code",
   "execution_count": null,
   "id": "1b563178",
   "metadata": {},
   "outputs": [],
   "source": [
    "# List functions"
   ]
  },
  {
   "cell_type": "code",
   "execution_count": null,
   "id": "3e76a44b",
   "metadata": {},
   "outputs": [],
   "source": [
    "l = [5,1,4,2,3]\n",
    "l"
   ]
  },
  {
   "cell_type": "code",
   "execution_count": null,
   "id": "7157b28e",
   "metadata": {},
   "outputs": [],
   "source": [
    "l[-3]"
   ]
  },
  {
   "cell_type": "code",
   "execution_count": null,
   "id": "73e89761",
   "metadata": {},
   "outputs": [],
   "source": [
    "m = l*2\n",
    "m"
   ]
  },
  {
   "cell_type": "code",
   "execution_count": null,
   "id": "79f18349",
   "metadata": {},
   "outputs": [],
   "source": [
    "l.append('append me')\n",
    "l"
   ]
  },
  {
   "cell_type": "code",
   "execution_count": null,
   "id": "704492dd",
   "metadata": {},
   "outputs": [],
   "source": [
    "l.pop()"
   ]
  },
  {
   "cell_type": "code",
   "execution_count": null,
   "id": "1682b78a",
   "metadata": {},
   "outputs": [],
   "source": [
    "l"
   ]
  },
  {
   "cell_type": "code",
   "execution_count": null,
   "id": "a5bcaa6a",
   "metadata": {},
   "outputs": [],
   "source": [
    "l.pop(2)   # index "
   ]
  },
  {
   "cell_type": "code",
   "execution_count": null,
   "id": "99f28381",
   "metadata": {},
   "outputs": [],
   "source": [
    "l"
   ]
  },
  {
   "cell_type": "code",
   "execution_count": null,
   "id": "43975716",
   "metadata": {},
   "outputs": [],
   "source": [
    "l.remove(5)    # value"
   ]
  },
  {
   "cell_type": "code",
   "execution_count": null,
   "id": "a92bc0ce",
   "metadata": {},
   "outputs": [],
   "source": [
    "l.reverse()"
   ]
  },
  {
   "cell_type": "code",
   "execution_count": null,
   "id": "9082102d",
   "metadata": {},
   "outputs": [],
   "source": [
    "l"
   ]
  },
  {
   "cell_type": "code",
   "execution_count": null,
   "id": "68ed9fb7",
   "metadata": {},
   "outputs": [],
   "source": [
    "l.extend('abcdefg')"
   ]
  },
  {
   "cell_type": "code",
   "execution_count": null,
   "id": "19153bd6",
   "metadata": {},
   "outputs": [],
   "source": [
    "l"
   ]
  },
  {
   "cell_type": "code",
   "execution_count": null,
   "id": "54a867af",
   "metadata": {},
   "outputs": [],
   "source": [
    "l.sort()"
   ]
  },
  {
   "cell_type": "code",
   "execution_count": null,
   "id": "9417a28d",
   "metadata": {},
   "outputs": [],
   "source": [
    "x = [5,1,4,3,89,7,9]\n",
    "x"
   ]
  },
  {
   "cell_type": "code",
   "execution_count": null,
   "id": "aefccb3b",
   "metadata": {},
   "outputs": [],
   "source": [
    "x.sort(reverse=True)"
   ]
  },
  {
   "cell_type": "code",
   "execution_count": null,
   "id": "5467c301",
   "metadata": {},
   "outputs": [],
   "source": [
    "x"
   ]
  },
  {
   "cell_type": "code",
   "execution_count": null,
   "id": "2e3aeda8",
   "metadata": {},
   "outputs": [],
   "source": [
    "l1 = [1,2,3]\n",
    "l2 = [4,5,6]\n",
    "l3 = [7,8,9]\n",
    "\n",
    "matrix = [l1,l2,l3]\n",
    "matrix"
   ]
  },
  {
   "cell_type": "code",
   "execution_count": null,
   "id": "e9228da1",
   "metadata": {},
   "outputs": [],
   "source": [
    "matrix[0]"
   ]
  },
  {
   "cell_type": "code",
   "execution_count": null,
   "id": "a78ead48",
   "metadata": {},
   "outputs": [],
   "source": [
    "matrix[1]"
   ]
  },
  {
   "cell_type": "code",
   "execution_count": null,
   "id": "9cb9edee",
   "metadata": {},
   "outputs": [],
   "source": [
    "matrix[0][0]"
   ]
  },
  {
   "cell_type": "code",
   "execution_count": null,
   "id": "6cc87311",
   "metadata": {},
   "outputs": [],
   "source": [
    "matrix[2][1]"
   ]
  },
  {
   "cell_type": "code",
   "execution_count": null,
   "id": "5093bc1a",
   "metadata": {},
   "outputs": [],
   "source": [
    "blank_list = []\n",
    "for i in range(15):\n",
    "    blank_list.append(i)\n",
    "blank_list    "
   ]
  },
  {
   "cell_type": "code",
   "execution_count": null,
   "id": "ed0d457c",
   "metadata": {},
   "outputs": [],
   "source": [
    "[ a for a in range (20)]"
   ]
  },
  {
   "cell_type": "code",
   "execution_count": null,
   "id": "fa982675",
   "metadata": {},
   "outputs": [],
   "source": [
    "x = []\n",
    "for a in range(20):\n",
    "    x.append(a)"
   ]
  },
  {
   "cell_type": "code",
   "execution_count": null,
   "id": "13a8ebed",
   "metadata": {},
   "outputs": [],
   "source": [
    "x"
   ]
  },
  {
   "cell_type": "code",
   "execution_count": 2,
   "id": "f98ee182",
   "metadata": {},
   "outputs": [
    {
     "data": {
      "text/plain": [
       "30"
      ]
     },
     "execution_count": 2,
     "metadata": {},
     "output_type": "execute_result"
    }
   ],
   "source": [
    "a=10\n",
    "b=20\n",
    "c=a+b\n",
    "c"
   ]
  },
  {
   "cell_type": "code",
   "execution_count": 3,
   "id": "fc4811b2",
   "metadata": {},
   "outputs": [],
   "source": [
    "list1 = [1,5,3,66,78,9,94,45,6,6,4,3,47]"
   ]
  },
  {
   "cell_type": "code",
   "execution_count": 5,
   "id": "dc4f0d86",
   "metadata": {},
   "outputs": [
    {
     "data": {
      "text/plain": [
       "[66, 78, 94, 6, 6, 4]"
      ]
     },
     "execution_count": 5,
     "metadata": {},
     "output_type": "execute_result"
    }
   ],
   "source": [
    "even = []\n",
    "[var for var in list1 if var %2 ==0]"
   ]
  },
  {
   "cell_type": "code",
   "execution_count": 7,
   "id": "4960622b",
   "metadata": {},
   "outputs": [
    {
     "ename": "TypeError",
     "evalue": "unsupported operand type(s) for %: 'list' and 'int'",
     "output_type": "error",
     "traceback": [
      "\u001b[1;31m---------------------------------------------------------------------------\u001b[0m",
      "\u001b[1;31mTypeError\u001b[0m                                 Traceback (most recent call last)",
      "\u001b[1;32m~\\AppData\\Local\\Temp/ipykernel_5596/1167489927.py\u001b[0m in \u001b[0;36m<module>\u001b[1;34m\u001b[0m\n\u001b[0;32m      1\u001b[0m \u001b[0modd\u001b[0m \u001b[1;33m=\u001b[0m \u001b[1;33m[\u001b[0m\u001b[1;33m]\u001b[0m\u001b[1;33m\u001b[0m\u001b[1;33m\u001b[0m\u001b[0m\n\u001b[1;32m----> 2\u001b[1;33m \u001b[1;33m[\u001b[0m\u001b[0modd\u001b[0m \u001b[1;32mif\u001b[0m \u001b[0ma\u001b[0m \u001b[1;32min\u001b[0m \u001b[0mlist1\u001b[0m\u001b[1;33m%\u001b[0m\u001b[1;36m2\u001b[0m \u001b[1;33m!=\u001b[0m \u001b[1;36m0\u001b[0m \u001b[1;32melse\u001b[0m \u001b[1;34m'odd'\u001b[0m \u001b[1;32mfor\u001b[0m \u001b[0ma\u001b[0m \u001b[1;32min\u001b[0m \u001b[0mlist1\u001b[0m\u001b[1;33m]\u001b[0m\u001b[1;33m\u001b[0m\u001b[1;33m\u001b[0m\u001b[0m\n\u001b[0m",
      "\u001b[1;32m~\\AppData\\Local\\Temp/ipykernel_5596/1167489927.py\u001b[0m in \u001b[0;36m<listcomp>\u001b[1;34m(.0)\u001b[0m\n\u001b[0;32m      1\u001b[0m \u001b[0modd\u001b[0m \u001b[1;33m=\u001b[0m \u001b[1;33m[\u001b[0m\u001b[1;33m]\u001b[0m\u001b[1;33m\u001b[0m\u001b[1;33m\u001b[0m\u001b[0m\n\u001b[1;32m----> 2\u001b[1;33m \u001b[1;33m[\u001b[0m\u001b[0modd\u001b[0m \u001b[1;32mif\u001b[0m \u001b[0ma\u001b[0m \u001b[1;32min\u001b[0m \u001b[0mlist1\u001b[0m\u001b[1;33m%\u001b[0m\u001b[1;36m2\u001b[0m \u001b[1;33m!=\u001b[0m \u001b[1;36m0\u001b[0m \u001b[1;32melse\u001b[0m \u001b[1;34m'odd'\u001b[0m \u001b[1;32mfor\u001b[0m \u001b[0ma\u001b[0m \u001b[1;32min\u001b[0m \u001b[0mlist1\u001b[0m\u001b[1;33m]\u001b[0m\u001b[1;33m\u001b[0m\u001b[1;33m\u001b[0m\u001b[0m\n\u001b[0m",
      "\u001b[1;31mTypeError\u001b[0m: unsupported operand type(s) for %: 'list' and 'int'"
     ]
    }
   ],
   "source": [
    "odd = []\n",
    "[odd if a in list1%2 != 0 else 'odd' for a in list1]"
   ]
  },
  {
   "cell_type": "code",
   "execution_count": 14,
   "id": "35d96915",
   "metadata": {},
   "outputs": [
    {
     "data": {
      "text/plain": [
       "['even', 'even', 'even', 66, 78, 'even', 94, 'even', 6, 6, 4, 'even', 'even']"
      ]
     },
     "execution_count": 14,
     "metadata": {},
     "output_type": "execute_result"
    }
   ],
   "source": [
    "# odd\n",
    "c=[]\n",
    "[c if c%2 ==0 else \"even\" for c in list1]"
   ]
  },
  {
   "cell_type": "code",
   "execution_count": 11,
   "id": "4fb71ce5",
   "metadata": {},
   "outputs": [
    {
     "data": {
      "text/plain": [
       "[66, 78, 94, 6, 6, 4]"
      ]
     },
     "execution_count": 11,
     "metadata": {},
     "output_type": "execute_result"
    }
   ],
   "source": [
    "a=[]\n",
    "[a for a in list1 if a%2==0]"
   ]
  },
  {
   "cell_type": "code",
   "execution_count": 19,
   "id": "9b8ee98b",
   "metadata": {},
   "outputs": [
    {
     "data": {
      "text/plain": [
       "[66, 78, 94, 6, 6, 4]"
      ]
     },
     "execution_count": 19,
     "metadata": {},
     "output_type": "execute_result"
    }
   ],
   "source": [
    "# even\n",
    "d=[]\n",
    "[d for d in list1 if d%2 ==0]"
   ]
  },
  {
   "cell_type": "code",
   "execution_count": 23,
   "id": "ca6f3c84",
   "metadata": {},
   "outputs": [
    {
     "data": {
      "text/plain": [
       "[66, 78, 94, 6, 6, 4]"
      ]
     },
     "execution_count": 23,
     "metadata": {},
     "output_type": "execute_result"
    }
   ],
   "source": [
    "# odd\n",
    "m=[]\n",
    "[m for m in list1 if m%2 ==0]"
   ]
  },
  {
   "cell_type": "code",
   "execution_count": 24,
   "id": "038f1408",
   "metadata": {},
   "outputs": [
    {
     "ename": "SyntaxError",
     "evalue": "invalid syntax (Temp/ipykernel_5596/3205242663.py, line 3)",
     "output_type": "error",
     "traceback": [
      "\u001b[1;36m  File \u001b[1;32m\"C:\\Users\\dell\\AppData\\Local\\Temp/ipykernel_5596/3205242663.py\"\u001b[1;36m, line \u001b[1;32m3\u001b[0m\n\u001b[1;33m    [c for c in list1 if c%2 ==0 else \"even\" ]\u001b[0m\n\u001b[1;37m                                 ^\u001b[0m\n\u001b[1;31mSyntaxError\u001b[0m\u001b[1;31m:\u001b[0m invalid syntax\n"
     ]
    }
   ],
   "source": [
    "c=[]\n",
    "[c for c in list1 if c%2 ==0 else \"even\" ]    # shows error this way"
   ]
  },
  {
   "cell_type": "code",
   "execution_count": 27,
   "id": "4d93b476",
   "metadata": {},
   "outputs": [
    {
     "data": {
      "text/plain": [
       "['odd', 'odd', 'odd', 66, 78, 'odd', 94, 'odd', 6, 6, 4, 'odd', 'odd']"
      ]
     },
     "execution_count": 27,
     "metadata": {},
     "output_type": "execute_result"
    }
   ],
   "source": [
    "c=[]\n",
    "[c if c%2 ==0 else 'odd' for c in list1]\n",
    "# shows error if not include else and its indentation"
   ]
  },
  {
   "cell_type": "code",
   "execution_count": null,
   "id": "048650bc",
   "metadata": {},
   "outputs": [],
   "source": []
  }
 ],
 "metadata": {
  "kernelspec": {
   "display_name": "Python 3 (ipykernel)",
   "language": "python",
   "name": "python3"
  },
  "language_info": {
   "codemirror_mode": {
    "name": "ipython",
    "version": 3
   },
   "file_extension": ".py",
   "mimetype": "text/x-python",
   "name": "python",
   "nbconvert_exporter": "python",
   "pygments_lexer": "ipython3",
   "version": "3.9.7"
  }
 },
 "nbformat": 4,
 "nbformat_minor": 5
}
