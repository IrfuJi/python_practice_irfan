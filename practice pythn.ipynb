{
 "cells": [
  {
   "cell_type": "code",
   "execution_count": 7,
   "id": "e5d03add",
   "metadata": {},
   "outputs": [
    {
     "name": "stdout",
     "output_type": "stream",
     "text": [
      "enter number9\n",
      "input number is odd\n"
     ]
    }
   ],
   "source": [
    "a=int(input(\"enter number\"))\n",
    "if (a%2==0):\n",
    "    print(\"input number is even\")\n",
    "else:\n",
    "    print(\"input number is odd\")"
   ]
  },
  {
   "cell_type": "code",
   "execution_count": 14,
   "id": "a80349b9",
   "metadata": {},
   "outputs": [
    {
     "name": "stdout",
     "output_type": "stream",
     "text": [
      "enter number1\n",
      "absolute value of 1.0 is 1.0\n"
     ]
    }
   ],
   "source": [
    "a=float(input(\"enter number\"))\n",
    "if(a<0):\n",
    "    print(\"absolute number of {0} is {1}\". format(a(0-a)))\n",
    "else:\n",
    "    print(\"absolute value of {0} is {1}\". format(a,a))"
   ]
  },
  {
   "cell_type": "code",
   "execution_count": 30,
   "id": "b8abb4be",
   "metadata": {},
   "outputs": [
    {
     "name": "stdout",
     "output_type": "stream",
     "text": [
      "x is equal to 10\n"
     ]
    }
   ],
   "source": [
    "x=10\n",
    "if(x==10):\n",
    "    print(\"x is equal to 10\")\n",
    "elif (x>10):\n",
    "    print(\"x is greater than 10\")\n",
    "else:\n",
    "    print(\"x is less than 10\")"
   ]
  },
  {
   "cell_type": "code",
   "execution_count": 37,
   "id": "1144667f",
   "metadata": {},
   "outputs": [
    {
     "name": "stdout",
     "output_type": "stream",
     "text": [
      "enter salary10000\n",
      "years of service10\n",
      "your net amount of bonus is500.0\n"
     ]
    }
   ],
   "source": [
    "salary=int(input(\"enter salary\"))\n",
    "year=float(input(\"years of service\"))\n",
    "if (year>5):\n",
    "    print(\"your net amount of bonus is{0}\". format(salary*0.05))\n",
    "else:\n",
    "    print(\"you are not eligible for bonus\")\n",
    "    "
   ]
  },
  {
   "cell_type": "code",
   "execution_count": 40,
   "id": "571955ee",
   "metadata": {},
   "outputs": [
    {
     "name": "stdout",
     "output_type": "stream",
     "text": [
      "year of service3\n",
      "no bonus\n"
     ]
    }
   ],
   "source": [
    "x=float(input(\"year of service\"))\n",
    "if(x>5):\n",
    "    z=int(input(\"enter salary\"))\n",
    "    print(\"bonus given to employee is\",(z*0.05))\n",
    "else:\n",
    "    print(\"no bonus\")\n",
    "    "
   ]
  },
  {
   "cell_type": "code",
   "execution_count": 1,
   "id": "ab29d4e2",
   "metadata": {},
   "outputs": [
    {
     "name": "stdout",
     "output_type": "stream",
     "text": [
      "enter length of rect=20\n",
      "enter breadth of rect=21\n",
      "it is not square\n"
     ]
    }
   ],
   "source": [
    "x=float(input(\"enter length of rect=\"))\n",
    "y=float(input(\"enter breadth of rect=\"))\n",
    "if (x==y):\n",
    "    print(\"given rect is square\")\n",
    "else:\n",
    "    print(\"it is not square\")"
   ]
  },
  {
   "cell_type": "code",
   "execution_count": 8,
   "id": "fa259504",
   "metadata": {},
   "outputs": [
    {
     "name": "stdout",
     "output_type": "stream",
     "text": [
      "enter quantity12\n",
      "cost is 12000\n"
     ]
    }
   ],
   "source": [
    "x=int(input(\"enter quantity\"))\n",
    "if(x>1000):\n",
    "    z=(x*100)-(x*100*(0.01))\n",
    "    print(\"cost is\",z)\n",
    "else:\n",
    "    print(\"cost is\",x*1000)"
   ]
  },
  {
   "cell_type": "code",
   "execution_count": 11,
   "id": "3c28da24",
   "metadata": {},
   "outputs": [
    {
     "name": "stdout",
     "output_type": "stream",
     "text": [
      "enter product cost=100\n",
      "enter quantity0\n",
      "100.0\n"
     ]
    }
   ],
   "source": [
    "x=float(input('enter product cost='))\n",
    "y=float(input('enter quantity'))\n",
    "if((x*y)>1000):\n",
    "    print(\"net cost=\",(x-0.01*x))\n",
    "else:\n",
    "    print(x)"
   ]
  },
  {
   "cell_type": "code",
   "execution_count": 16,
   "id": "d7d09b33",
   "metadata": {},
   "outputs": [
    {
     "name": "stdout",
     "output_type": "stream",
     "text": [
      "enter quantity111\n",
      "cost: 9990.0\n"
     ]
    }
   ],
   "source": [
    "quantity=int(input(\"enter quantity\"))\n",
    "if(quantity*100>1000):\n",
    "    print(\"cost:\",((quantity*100)-(0.1*quantity*100)))\n",
    "else:\n",
    "    print(\"cost:\", quantity*100)"
   ]
  },
  {
   "cell_type": "code",
   "execution_count": 20,
   "id": "c64a6f9d",
   "metadata": {},
   "outputs": [
    {
     "name": "stdout",
     "output_type": "stream",
     "text": [
      "age 1 person:25\n",
      "age 2 person:20\n",
      "age 3 person:18\n",
      "(25, 'is older')\n",
      "(18, 'is younger')\n"
     ]
    }
   ],
   "source": [
    "a=int(input(\"age 1 person:\"))\n",
    "b=int(input(\"age 2 person:\"))\n",
    "c=int(input(\"age 3 person:\"))\n",
    "l=(a,b,c)\n",
    "print((max(l),\"is older\"))\n",
    "print((min(l),\"is younger\"))"
   ]
  },
  {
   "cell_type": "code",
   "execution_count": 3,
   "id": "fd162d48",
   "metadata": {},
   "outputs": [
    {
     "name": "stdout",
     "output_type": "stream",
     "text": [
      "enter age25\n",
      "enter age26\n",
      "enter age22\n",
      "oldest: 26\n",
      "youngest: 22\n"
     ]
    }
   ],
   "source": [
    "p1=int(input(\"enter age\"))\n",
    "p2=int(input(\"enter age\"))\n",
    "p3=int(input(\"enter age\"))\n",
    "if(p1>=p2 and p1>=p3):\n",
    "    print(\"oldest:\",p1)\n",
    "elif(p2>=p1 and p2>=p3):\n",
    "    print(\"oldest:\",p2)\n",
    "elif(p3>=p1 and p3>=p2):\n",
    "    print(\"oldest:\",p3) \n",
    "else:\n",
    "    print(\"all are equal\")\n",
    "\n",
    "if(p1<=p2 and p1<=p3):\n",
    "    print(\"youngest:\",p1)\n",
    "elif(p2<=p1 and p2<=p3):\n",
    "    print(\"youngest:\",p2)\n",
    "elif(p3<=p1 and p3<=p2):\n",
    "    print(\"youngest:\",p3) \n",
    "else:\n",
    "    print(\"all are equal\")\n",
    "    \n",
    "    \n",
    "    "
   ]
  },
  {
   "cell_type": "code",
   "execution_count": 2,
   "id": "8a671a91",
   "metadata": {},
   "outputs": [
    {
     "name": "stdout",
     "output_type": "stream",
     "text": [
      "total lecture done 50\n",
      "total lecture attended 10\n",
      "not allowed for exam\n"
     ]
    }
   ],
   "source": [
    "x=int(input(\"total lecture done\"))\n",
    "y=int(input(\"total lecture attended\"))\n",
    "z=(y/x)*100\n",
    "if (z>75):\n",
    "    print(\"allowed for exam\")\n",
    "else:\n",
    "    print(\"not allowed for exam\")"
   ]
  },
  {
   "cell_type": "code",
   "execution_count": 1,
   "id": "b8326829",
   "metadata": {},
   "outputs": [
    {
     "name": "stdout",
     "output_type": "stream",
     "text": [
      "hello\n",
      "hello\n"
     ]
    }
   ],
   "source": [
    "i=10\n",
    "while (i<12):\n",
    "    i=i+1\n",
    "    print(\"hello\")"
   ]
  },
  {
   "cell_type": "code",
   "execution_count": 2,
   "id": "b7960d86",
   "metadata": {},
   "outputs": [
    {
     "name": "stdout",
     "output_type": "stream",
     "text": [
      "1\n",
      "2\n",
      "3\n",
      "4\n",
      "5\n"
     ]
    }
   ],
   "source": [
    "l=[1,2,3,4,5]\n",
    "for x in l:\n",
    "    print(x)"
   ]
  },
  {
   "cell_type": "code",
   "execution_count": 3,
   "id": "70d86de2",
   "metadata": {},
   "outputs": [
    {
     "name": "stdout",
     "output_type": "stream",
     "text": [
      "hello\n",
      "hii\n",
      "tata\n",
      "bye\n",
      "khatam\n",
      "gaya\n"
     ]
    }
   ],
   "source": [
    "l=[\"hello\",\"hii\",\"tata\",\"bye\",\"khatam\",\"gaya\"]\n",
    "for x in l:\n",
    "    print(x)"
   ]
  },
  {
   "cell_type": "code",
   "execution_count": 8,
   "id": "2433d676",
   "metadata": {},
   "outputs": [
    {
     "name": "stdout",
     "output_type": "stream",
     "text": [
      "1\n",
      "2\n",
      "3\n",
      "4\n",
      "5\n",
      "6\n",
      "7\n",
      "8\n",
      "9\n",
      "10\n"
     ]
    }
   ],
   "source": [
    "for i in range (1,11):\n",
    "    print(i)"
   ]
  },
  {
   "cell_type": "code",
   "execution_count": 12,
   "id": "e6639fbc",
   "metadata": {},
   "outputs": [
    {
     "name": "stdout",
     "output_type": "stream",
     "text": [
      "enter number5\n",
      "1\n",
      "2\n",
      "3\n",
      "4\n",
      "5\n"
     ]
    }
   ],
   "source": [
    "n=int(input(\"enter number\"))\n",
    "for n in range (0,n):\n",
    "    print(n+1)"
   ]
  },
  {
   "cell_type": "code",
   "execution_count": 15,
   "id": "b9f1ddbc",
   "metadata": {},
   "outputs": [
    {
     "name": "stdout",
     "output_type": "stream",
     "text": [
      "enter a number15\n",
      "enter a number16\n",
      "enter a number17\n",
      "enter a number18\n",
      "enter a number19\n",
      "enter a number20\n",
      "enter a number1\n",
      "enter a number22\n",
      "enter a number23\n",
      "enter a number24\n",
      "enter a number25\n",
      "numbers= [15, 16, 17, 18, 19, 20, 1, 22, 23, 24, 25]\n",
      "average: 18.181818181818183\n"
     ]
    }
   ],
   "source": [
    "l=[]\n",
    "for i in range (0,11):\n",
    "    n=int(input(\"enter a number\"))\n",
    "    l.append(n)\n",
    "print(\"numbers=\",l)    \n",
    "print(\"average:\",sum(l)/len(l))"
   ]
  },
  {
   "cell_type": "code",
   "execution_count": 20,
   "id": "9e84d7ac",
   "metadata": {},
   "outputs": [
    {
     "name": "stdout",
     "output_type": "stream",
     "text": [
      "enter number5\n",
      "factorial: 120\n"
     ]
    }
   ],
   "source": [
    "num=int(input(\"enter number\"))\n",
    "f=1\n",
    "while(num>0):\n",
    "    f=f*num\n",
    "    num=num-1\n",
    "print(\"factorial:\",f)    "
   ]
  },
  {
   "cell_type": "code",
   "execution_count": 23,
   "id": "8eeff20e",
   "metadata": {},
   "outputs": [
    {
     "name": "stdout",
     "output_type": "stream",
     "text": [
      "enter number5\n",
      "factorial 120\n"
     ]
    }
   ],
   "source": [
    "n=int(input(\"enter number\"))\n",
    "fact=1\n",
    "while (n>0):\n",
    "    fact=fact*n\n",
    "    n=n-1\n",
    "print(\"factorial\",fact)    "
   ]
  },
  {
   "cell_type": "code",
   "execution_count": 26,
   "id": "bb3be32e",
   "metadata": {},
   "outputs": [
    {
     "name": "stdout",
     "output_type": "stream",
     "text": [
      "enter number7\n",
      "enter number8\n",
      "enter number9\n",
      "enter number4\n",
      "enter number5\n",
      "enter number6\n",
      "enter number1\n",
      "enter number2\n",
      "enter number3\n",
      "enter number4\n",
      "list: [7, 8, 9, 4, 5, 6, 1, 2, 3, 4]\n",
      "enter number10\n",
      "10 is not present in list[7, 8, 9, 4, 5, 6, 1, 2, 3, 4]\n"
     ]
    }
   ],
   "source": [
    "l=[]\n",
    "for i in range(0,10):\n",
    "    n=int(input(\"enter number\"))\n",
    "    l.append(n)\n",
    "print(\"list:\",l)    \n",
    "\n",
    "num=int(input(\"enter number\"))\n",
    "if (num in l):\n",
    "    print(\"{0} is present in list {1}\". format(num,l))\n",
    "else:\n",
    "    print(\"{0} is not present in list{1}\".format(num,l))"
   ]
  },
  {
   "cell_type": "code",
   "execution_count": 35,
   "id": "16816463",
   "metadata": {},
   "outputs": [
    {
     "name": "stdout",
     "output_type": "stream",
     "text": [
      "enter number7\n",
      "enter number8\n",
      "enter number4\n",
      "enter number5\n",
      "enter number6\n",
      "enter number2\n",
      "enter number3\n",
      "enter number1\n",
      "enter number0\n",
      "enter number4\n",
      "list: [7, 8, 4, 5, 6, 2, 3, 1, 0, 4]\n",
      "reversed elements: [4, 0, 1, 3, 2, 6, 5, 4, 8, 7]\n"
     ]
    }
   ],
   "source": [
    "l=[]\n",
    "for i in range(0,10):\n",
    "    n=int(input(\"enter number\"))\n",
    "    l.append(n)\n",
    "print(\"list:\",l)\n",
    "l.reverse()\n",
    "s=l\n",
    "print(\"reversed elements:\",s)"
   ]
  },
  {
   "cell_type": "code",
   "execution_count": 31,
   "id": "01938db7",
   "metadata": {},
   "outputs": [],
   "source": [
    "l.reverse()"
   ]
  },
  {
   "cell_type": "code",
   "execution_count": 32,
   "id": "0b6d3d1e",
   "metadata": {},
   "outputs": [
    {
     "name": "stdout",
     "output_type": "stream",
     "text": [
      "[7, 9, 8, 5, 6, 4, 3, 6, 2, 1]\n"
     ]
    }
   ],
   "source": [
    "print(l)"
   ]
  },
  {
   "cell_type": "code",
   "execution_count": 43,
   "id": "ad2e2fcb",
   "metadata": {},
   "outputs": [
    {
     "name": "stdout",
     "output_type": "stream",
     "text": [
      "enter first nameirfan\n",
      "middle namedastgir\n",
      "last namefulari\n",
      "i . d . fulari\n"
     ]
    }
   ],
   "source": [
    "f=input(\"enter first name\")\n",
    "m=input(\"middle name\")\n",
    "l=input(\"last name\")\n",
    "\n",
    "print(f[0],\".\",m[0],\".\",l)"
   ]
  },
  {
   "cell_type": "code",
   "execution_count": 44,
   "id": "6e763edd",
   "metadata": {},
   "outputs": [
    {
     "name": "stdout",
     "output_type": "stream",
     "text": [
      "12\n"
     ]
    }
   ],
   "source": [
    "a=\"refrigerator\"\n",
    "count=0\n",
    "for i in a:\n",
    "    count=count+1\n",
    "print(count)    "
   ]
  },
  {
   "cell_type": "code",
   "execution_count": 2,
   "id": "229ce7bf",
   "metadata": {},
   "outputs": [
    {
     "name": "stdout",
     "output_type": "stream",
     "text": [
      "5\n",
      "4\n",
      "3\n"
     ]
    }
   ],
   "source": [
    "i=5\n",
    "while(i>0):\n",
    "    print(i)\n",
    "    if (i==3):\n",
    "        break\n",
    "    i=i-1  "
   ]
  },
  {
   "cell_type": "code",
   "execution_count": 1,
   "id": "eac0a888",
   "metadata": {},
   "outputs": [
    {
     "name": "stdout",
     "output_type": "stream",
     "text": [
      "0\n",
      "1\n",
      "2\n",
      "3\n"
     ]
    }
   ],
   "source": [
    "for i in range(0,5):\n",
    "    print(i)\n",
    "    if(i==3):\n",
    "        break\n",
    "    i=i-1"
   ]
  },
  {
   "cell_type": "code",
   "execution_count": 1,
   "id": "c60c58b2",
   "metadata": {},
   "outputs": [
    {
     "name": "stdout",
     "output_type": "stream",
     "text": [
      "5\n",
      "4\n",
      "2\n",
      "1\n"
     ]
    }
   ],
   "source": [
    "i=5\n",
    "while(i>0):\n",
    "    if (i==3):\n",
    "        i=i-1\n",
    "        continue\n",
    "    print(i)\n",
    "    i=i-1\n",
    "    "
   ]
  },
  {
   "cell_type": "code",
   "execution_count": null,
   "id": "a93703a7",
   "metadata": {},
   "outputs": [],
   "source": []
  },
  {
   "cell_type": "code",
   "execution_count": null,
   "id": "f0d24ad2",
   "metadata": {},
   "outputs": [],
   "source": []
  },
  {
   "cell_type": "code",
   "execution_count": null,
   "id": "38126439",
   "metadata": {},
   "outputs": [],
   "source": []
  },
  {
   "cell_type": "code",
   "execution_count": null,
   "id": "8ed1097f",
   "metadata": {},
   "outputs": [],
   "source": []
  },
  {
   "cell_type": "code",
   "execution_count": null,
   "id": "702d2da6",
   "metadata": {},
   "outputs": [],
   "source": []
  },
  {
   "cell_type": "code",
   "execution_count": null,
   "id": "2ce6a547",
   "metadata": {},
   "outputs": [],
   "source": []
  },
  {
   "cell_type": "code",
   "execution_count": null,
   "id": "196c7395",
   "metadata": {},
   "outputs": [],
   "source": []
  },
  {
   "cell_type": "code",
   "execution_count": null,
   "id": "fbb962d4",
   "metadata": {},
   "outputs": [],
   "source": []
  },
  {
   "cell_type": "code",
   "execution_count": null,
   "id": "7a4e6f4d",
   "metadata": {},
   "outputs": [],
   "source": []
  },
  {
   "cell_type": "code",
   "execution_count": null,
   "id": "b91869f9",
   "metadata": {},
   "outputs": [],
   "source": []
  },
  {
   "cell_type": "code",
   "execution_count": null,
   "id": "eb9e0e9b",
   "metadata": {},
   "outputs": [],
   "source": []
  },
  {
   "cell_type": "code",
   "execution_count": null,
   "id": "24013154",
   "metadata": {},
   "outputs": [],
   "source": []
  },
  {
   "cell_type": "code",
   "execution_count": null,
   "id": "9f3fadaa",
   "metadata": {},
   "outputs": [],
   "source": []
  },
  {
   "cell_type": "code",
   "execution_count": null,
   "id": "65dc453f",
   "metadata": {},
   "outputs": [],
   "source": []
  }
 ],
 "metadata": {
  "kernelspec": {
   "display_name": "Python 3 (ipykernel)",
   "language": "python",
   "name": "python3"
  },
  "language_info": {
   "codemirror_mode": {
    "name": "ipython",
    "version": 3
   },
   "file_extension": ".py",
   "mimetype": "text/x-python",
   "name": "python",
   "nbconvert_exporter": "python",
   "pygments_lexer": "ipython3",
   "version": "3.9.7"
  }
 },
 "nbformat": 4,
 "nbformat_minor": 5
}
